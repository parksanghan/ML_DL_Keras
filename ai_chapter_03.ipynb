{
  "nbformat": 4,
  "nbformat_minor": 0,
  "metadata": {
    "colab": {
      "provenance": [],
      "authorship_tag": "ABX9TyP8Oj7H/PyTrwfE2UTqYEJo",
      "include_colab_link": true
    },
    "kernelspec": {
      "name": "python3",
      "display_name": "Python 3"
    },
    "language_info": {
      "name": "python"
    }
  },
  "cells": [
    {
      "cell_type": "markdown",
      "metadata": {
        "id": "view-in-github",
        "colab_type": "text"
      },
      "source": [
        "<a href=\"https://colab.research.google.com/github/parksanghan/machine_learning_Deep_learning/blob/main/ai_chapter_03.ipynb\" target=\"_parent\"><img src=\"https://colab.research.google.com/assets/colab-badge.svg\" alt=\"Open In Colab\"/></a>"
      ]
    },
    {
      "cell_type": "markdown",
      "source": [
        "텐서\n"
      ],
      "metadata": {
        "id": "xycS5dzxhyfo"
      }
    },
    {
      "cell_type": "code",
      "execution_count": 1,
      "metadata": {
        "colab": {
          "base_uri": "https://localhost:8080/"
        },
        "id": "hDVTTb8QeMXU",
        "outputId": "e32ad27a-ae64-4f8e-d200-3dadd5200f64"
      },
      "outputs": [
        {
          "output_type": "stream",
          "name": "stdout",
          "text": [
            "tf.Tensor(\n",
            "[[1. 1. 1.]\n",
            " [1. 1. 1.]], shape=(2, 3), dtype=float32)\n"
          ]
        }
      ],
      "source": [
        "import tensorflow as tf\n",
        "x = tf.ones(shape=(2,3))\n",
        "print(x)"
      ]
    },
    {
      "cell_type": "code",
      "source": [
        "x\n"
      ],
      "metadata": {
        "colab": {
          "base_uri": "https://localhost:8080/"
        },
        "id": "kr7EUP43h4y_",
        "outputId": "6c3de06e-647b-4288-b352-0240cb9fd9fa"
      },
      "execution_count": 2,
      "outputs": [
        {
          "output_type": "execute_result",
          "data": {
            "text/plain": [
              "<tf.Tensor: shape=(2, 3), dtype=float32, numpy=\n",
              "array([[1., 1., 1.],\n",
              "       [1., 1., 1.]], dtype=float32)>"
            ]
          },
          "metadata": {},
          "execution_count": 2
        }
      ]
    },
    {
      "cell_type": "code",
      "source": [
        "x = tf.random.normal(shape=(3,1), mean= 0 , stddev =1)\n",
        "print(x)"
      ],
      "metadata": {
        "colab": {
          "base_uri": "https://localhost:8080/"
        },
        "id": "2VgFqoUKh5Lo",
        "outputId": "68406932-b21a-4f60-f51c-17368ee8cf43"
      },
      "execution_count": 4,
      "outputs": [
        {
          "output_type": "stream",
          "name": "stdout",
          "text": [
            "tf.Tensor(\n",
            "[[-0.67973423]\n",
            " [ 2.1614645 ]\n",
            " [-0.98275703]], shape=(3, 1), dtype=float32)\n"
          ]
        }
      ]
    },
    {
      "cell_type": "code",
      "source": [
        "x = tf.random.uniform(shape=(3,1) , minval = 0 , maxval = 1)\n",
        "print(x)"
      ],
      "metadata": {
        "colab": {
          "base_uri": "https://localhost:8080/"
        },
        "id": "qKoRTG_rkg8z",
        "outputId": "df7d0a63-de34-4494-f8b0-c9a997a17046"
      },
      "execution_count": 5,
      "outputs": [
        {
          "output_type": "stream",
          "name": "stdout",
          "text": [
            "tf.Tensor(\n",
            "[[0.13610792]\n",
            " [0.6888267 ]\n",
            " [0.4265145 ]], shape=(3, 1), dtype=float32)\n"
          ]
        }
      ]
    },
    {
      "cell_type": "code",
      "source": [
        "import numpy as np\n",
        "x = np.ones(shape=(2,2))\n",
        ""
      ],
      "metadata": {
        "id": "unn4XCKyk1Ti"
      },
      "execution_count": 7,
      "outputs": []
    },
    {
      "cell_type": "code",
      "source": [
        "x"
      ],
      "metadata": {
        "colab": {
          "base_uri": "https://localhost:8080/"
        },
        "id": "gGWbO9YBk9aS",
        "outputId": "b13f5e9c-ca6e-4199-ed48-435c66500944"
      },
      "execution_count": 8,
      "outputs": [
        {
          "output_type": "execute_result",
          "data": {
            "text/plain": [
              "array([[1., 1.],\n",
              "       [1., 1.]])"
            ]
          },
          "metadata": {},
          "execution_count": 8
        }
      ]
    },
    {
      "cell_type": "code",
      "source": [
        "x[0][0]= 0"
      ],
      "metadata": {
        "id": "pTza3h26k_x0"
      },
      "execution_count": 9,
      "outputs": []
    },
    {
      "cell_type": "code",
      "source": [
        "x\n",
        "import numpy as np\n",
        "x = np.ones(shape=(2, 2))\n",
        "x[0, 0] = 0."
      ],
      "metadata": {
        "id": "aXATqJ82lBpY"
      },
      "execution_count": 13,
      "outputs": []
    },
    {
      "cell_type": "code",
      "source": [
        "v = tf.Variable(initial_value=tf.random.normal(shape=(3, 1)))\n",
        "print(v)"
      ],
      "metadata": {
        "colab": {
          "base_uri": "https://localhost:8080/"
        },
        "id": "5kin8_UIpZ5t",
        "outputId": "c6076882-2dd9-4f06-9829-00abcafc415d"
      },
      "execution_count": 15,
      "outputs": [
        {
          "output_type": "stream",
          "name": "stdout",
          "text": [
            "<tf.Variable 'Variable:0' shape=(3, 1) dtype=float32, numpy=\n",
            "array([[-0.44453993],\n",
            "       [-1.3072736 ],\n",
            "       [-0.03625145]], dtype=float32)>\n"
          ]
        }
      ]
    },
    {
      "cell_type": "code",
      "source": [
        "v.assign(tf.ones((3, 1)))"
      ],
      "metadata": {
        "colab": {
          "base_uri": "https://localhost:8080/"
        },
        "id": "tXgpkc0upn2u",
        "outputId": "e495816d-d979-452f-cf24-950d79c9016c"
      },
      "execution_count": 17,
      "outputs": [
        {
          "output_type": "execute_result",
          "data": {
            "text/plain": [
              "<tf.Variable 'UnreadVariable' shape=(3, 1) dtype=float32, numpy=\n",
              "array([[1.],\n",
              "       [1.],\n",
              "       [1.]], dtype=float32)>"
            ]
          },
          "metadata": {},
          "execution_count": 17
        }
      ]
    },
    {
      "cell_type": "code",
      "source": [
        "v.assign_add(tf.ones((3, 1)))"
      ],
      "metadata": {
        "colab": {
          "base_uri": "https://localhost:8080/"
        },
        "id": "OzrcFVQkqK5s",
        "outputId": "fe5ddaf4-76f8-43c7-815f-98bf6d155181"
      },
      "execution_count": 18,
      "outputs": [
        {
          "output_type": "execute_result",
          "data": {
            "text/plain": [
              "<tf.Variable 'UnreadVariable' shape=(3, 1) dtype=float32, numpy=\n",
              "array([[2.],\n",
              "       [2.],\n",
              "       [2.]], dtype=float32)>"
            ]
          },
          "metadata": {},
          "execution_count": 18
        }
      ]
    },
    {
      "cell_type": "code",
      "source": [
        "v"
      ],
      "metadata": {
        "colab": {
          "base_uri": "https://localhost:8080/"
        },
        "id": "ubQzRVjAtfLw",
        "outputId": "cc37039d-f401-4b53-ec46-f09d31d4d87e"
      },
      "execution_count": 19,
      "outputs": [
        {
          "output_type": "execute_result",
          "data": {
            "text/plain": [
              "<tf.Variable 'Variable:0' shape=(3, 1) dtype=float32, numpy=\n",
              "array([[2.],\n",
              "       [2.],\n",
              "       [2.]], dtype=float32)>"
            ]
          },
          "metadata": {},
          "execution_count": 19
        }
      ]
    },
    {
      "cell_type": "code",
      "source": [
        "v.assign_sub(tf.ones((3, 1)))"
      ],
      "metadata": {
        "colab": {
          "base_uri": "https://localhost:8080/"
        },
        "id": "33Cr91LAtfij",
        "outputId": "7df66d2f-61c3-48cc-f749-a710717640fc"
      },
      "execution_count": 20,
      "outputs": [
        {
          "output_type": "execute_result",
          "data": {
            "text/plain": [
              "<tf.Variable 'UnreadVariable' shape=(3, 1) dtype=float32, numpy=\n",
              "array([[1.],\n",
              "       [1.],\n",
              "       [1.]], dtype=float32)>"
            ]
          },
          "metadata": {},
          "execution_count": 20
        }
      ]
    },
    {
      "cell_type": "code",
      "source": [
        "v.assign_sub(tf.constant([[3.0], [4.0], [5.0]]))"
      ],
      "metadata": {
        "colab": {
          "base_uri": "https://localhost:8080/"
        },
        "id": "QQmKdGY9tkRP",
        "outputId": "462d2a4a-d678-4075-bdcd-bf01cdefaa11"
      },
      "execution_count": 24,
      "outputs": [
        {
          "output_type": "execute_result",
          "data": {
            "text/plain": [
              "<tf.Variable 'UnreadVariable' shape=(3, 1) dtype=float32, numpy=\n",
              "array([[-2.],\n",
              "       [-3.],\n",
              "       [-4.]], dtype=float32)>"
            ]
          },
          "metadata": {},
          "execution_count": 24
        }
      ]
    },
    {
      "cell_type": "code",
      "source": [
        "a = tf.ones((2,2))\n",
        "b = tf.square(a) # 제곱\n",
        "c= tf.sqrt(a) # 제 곱\n",
        "d =  b+c\n",
        "e = tf.matmul(a,b)\n",
        "e *= d"
      ],
      "metadata": {
        "id": "rmKE3oKtyN0Q"
      },
      "execution_count": 25,
      "outputs": []
    },
    {
      "cell_type": "code",
      "source": [
        "b"
      ],
      "metadata": {
        "colab": {
          "base_uri": "https://localhost:8080/"
        },
        "id": "eRc4myrDyWQY",
        "outputId": "b4d3cfee-c470-4dbb-acaf-f9b5c94187ae"
      },
      "execution_count": 26,
      "outputs": [
        {
          "output_type": "execute_result",
          "data": {
            "text/plain": [
              "<tf.Tensor: shape=(2, 2), dtype=float32, numpy=\n",
              "array([[1., 1.],\n",
              "       [1., 1.]], dtype=float32)>"
            ]
          },
          "metadata": {},
          "execution_count": 26
        }
      ]
    },
    {
      "cell_type": "code",
      "source": [
        "input_var = tf.Variable(initial_value=3.)\n",
        "with tf.GradientTape() as tape:\n",
        "  result = tf.square(input_var)\n",
        "  print(result)\n",
        "gradient = tape.gradient(result, input_var)\n",
        "print(gradient)"
      ],
      "metadata": {
        "colab": {
          "base_uri": "https://localhost:8080/"
        },
        "id": "LCTXd0iTyWkA",
        "outputId": "ba0b9228-9354-4048-bd5d-2869fec5789f"
      },
      "execution_count": 27,
      "outputs": [
        {
          "output_type": "stream",
          "name": "stdout",
          "text": [
            "tf.Tensor(9.0, shape=(), dtype=float32)\n",
            "tf.Tensor(6.0, shape=(), dtype=float32)\n"
          ]
        }
      ]
    },
    {
      "cell_type": "code",
      "source": [
        "input_const = tf.constant(3.) #상수는 연산을 기록하지 않아 이텐서는 기본적으로 추적되지 않습니다.\n",
        "with tf.GradientTape() as tape:\n",
        "   tape.watch(input_const)\n",
        "   result = tf.square(input_const)\n",
        "gradient = tape.gradient(result, input_const)"
      ],
      "metadata": {
        "colab": {
          "base_uri": "https://localhost:8080/"
        },
        "id": "YM28_doIzDOR",
        "outputId": "542cd7b1-b608-4b9c-ac55-598e88a9e32e"
      },
      "execution_count": 28,
      "outputs": [
        {
          "output_type": "stream",
          "name": "stdout",
          "text": [
            "tf.Tensor(9.0, shape=(), dtype=float32)\n",
            "tf.Tensor(6.0, shape=(), dtype=float32)\n"
          ]
        }
      ]
    },
    {
      "cell_type": "code",
      "source": [
        "import tensorflow as tf\n",
        "\n",
        "input_var = tf.Variable(3.0)  # 이 변수는 자동으로 추적됨\n",
        "input_const = tf.constant(4.0)  # 이 텐서는 기본적으로 추적되지 않음\n",
        "\n",
        "with tf.GradientTape() as tape:\n",
        "    tape.watch(input_const)  # input_const를 수동으로 추적\n",
        "    result = tf.square(input_var)  # result는 3.0의 제곱인 9.0\n",
        "\n",
        "# input_var에 대한 기울기를 계산\n",
        "gradient_var = tape.gradient(result, input_var)  # 기울기: 6.0\n",
        "print(\"Gradient with respect to input_var:\", gradient_var)\n",
        "\n",
        "# input_const에 대한 기울기를 계산 (결과는 None)\n",
        "gradient_const = tape.gradient(result, input_const)  # 기울기: None\n",
        "print(\"Gradient with respect to input_const:\", gradient_const)\n"
      ],
      "metadata": {
        "colab": {
          "base_uri": "https://localhost:8080/",
          "height": 348
        },
        "id": "M7HJk1Nz1BGI",
        "outputId": "da8c8b97-33b5-47fe-bcb1-982cb56d0f77"
      },
      "execution_count": 32,
      "outputs": [
        {
          "output_type": "stream",
          "name": "stdout",
          "text": [
            "Gradient with respect to input_var: tf.Tensor(6.0, shape=(), dtype=float32)\n"
          ]
        },
        {
          "output_type": "error",
          "ename": "RuntimeError",
          "evalue": "A non-persistent GradientTape can only be used to compute one set of gradients (or jacobians)",
          "traceback": [
            "\u001b[0;31m---------------------------------------------------------------------------\u001b[0m",
            "\u001b[0;31mRuntimeError\u001b[0m                              Traceback (most recent call last)",
            "\u001b[0;32m<ipython-input-32-4c517d01e6e6>\u001b[0m in \u001b[0;36m<cell line: 15>\u001b[0;34m()\u001b[0m\n\u001b[1;32m     13\u001b[0m \u001b[0;34m\u001b[0m\u001b[0m\n\u001b[1;32m     14\u001b[0m \u001b[0;31m# input_const에 대한 기울기를 계산 (결과는 None)\u001b[0m\u001b[0;34m\u001b[0m\u001b[0;34m\u001b[0m\u001b[0m\n\u001b[0;32m---> 15\u001b[0;31m \u001b[0mgradient_const\u001b[0m \u001b[0;34m=\u001b[0m \u001b[0mtape\u001b[0m\u001b[0;34m.\u001b[0m\u001b[0mgradient\u001b[0m\u001b[0;34m(\u001b[0m\u001b[0mresult\u001b[0m\u001b[0;34m,\u001b[0m \u001b[0minput_const\u001b[0m\u001b[0;34m)\u001b[0m  \u001b[0;31m# 기울기: None\u001b[0m\u001b[0;34m\u001b[0m\u001b[0;34m\u001b[0m\u001b[0m\n\u001b[0m\u001b[1;32m     16\u001b[0m \u001b[0mprint\u001b[0m\u001b[0;34m(\u001b[0m\u001b[0;34m\"Gradient with respect to input_const:\"\u001b[0m\u001b[0;34m,\u001b[0m \u001b[0mgradient_const\u001b[0m\u001b[0;34m)\u001b[0m\u001b[0;34m\u001b[0m\u001b[0;34m\u001b[0m\u001b[0m\n",
            "\u001b[0;32m/usr/local/lib/python3.10/dist-packages/tensorflow/python/eager/backprop.py\u001b[0m in \u001b[0;36mgradient\u001b[0;34m(self, target, sources, output_gradients, unconnected_gradients)\u001b[0m\n\u001b[1;32m   1003\u001b[0m     \"\"\"\n\u001b[1;32m   1004\u001b[0m     \u001b[0;32mif\u001b[0m \u001b[0mself\u001b[0m\u001b[0;34m.\u001b[0m\u001b[0m_tape\u001b[0m \u001b[0;32mis\u001b[0m \u001b[0;32mNone\u001b[0m\u001b[0;34m:\u001b[0m\u001b[0;34m\u001b[0m\u001b[0;34m\u001b[0m\u001b[0m\n\u001b[0;32m-> 1005\u001b[0;31m       raise RuntimeError(\"A non-persistent GradientTape can only be used to \"\n\u001b[0m\u001b[1;32m   1006\u001b[0m                          \"compute one set of gradients (or jacobians)\")\n\u001b[1;32m   1007\u001b[0m     \u001b[0;32mif\u001b[0m \u001b[0mself\u001b[0m\u001b[0;34m.\u001b[0m\u001b[0m_recording\u001b[0m\u001b[0;34m:\u001b[0m\u001b[0;34m\u001b[0m\u001b[0;34m\u001b[0m\u001b[0m\n",
            "\u001b[0;31mRuntimeError\u001b[0m: A non-persistent GradientTape can only be used to compute one set of gradients (or jacobians)"
          ]
        }
      ]
    },
    {
      "cell_type": "markdown",
      "source": [
        "### 그레이디언트 테이프 중첩하여 이계도 그레이디언트 계산"
      ],
      "metadata": {
        "id": "oNjb21P0zbU9"
      }
    },
    {
      "cell_type": "code",
      "source": [
        "time = tf.Variable(2.)\n",
        "with tf.GradientTape() as outer_tape:\n",
        "    with tf.GradientTape() as inner_tape:\n",
        "        position =  4.9 * time ** 2\n",
        "    speed = inner_tape.gradient(position, time)\n",
        "acceleration = outer_tape.gradient(speed, time)"
      ],
      "metadata": {
        "id": "ChWFjE35yC0e"
      },
      "execution_count": 37,
      "outputs": []
    },
    {
      "cell_type": "code",
      "source": [
        "speed"
      ],
      "metadata": {
        "colab": {
          "base_uri": "https://localhost:8080/"
        },
        "id": "WpyzKKWD0Pa3",
        "outputId": "b67b3c7b-c815-4d04-d75f-34505e43aff0"
      },
      "execution_count": 38,
      "outputs": [
        {
          "output_type": "execute_result",
          "data": {
            "text/plain": [
              "<tf.Tensor: shape=(), dtype=float32, numpy=19.6>"
            ]
          },
          "metadata": {},
          "execution_count": 38
        }
      ]
    },
    {
      "cell_type": "code",
      "source": [
        "acceleration"
      ],
      "metadata": {
        "colab": {
          "base_uri": "https://localhost:8080/"
        },
        "id": "ZY2Re8-11c8M",
        "outputId": "185bc7ec-d0c4-44f2-bf96-ad270c1a36b5"
      },
      "execution_count": 39,
      "outputs": [
        {
          "output_type": "execute_result",
          "data": {
            "text/plain": [
              "<tf.Tensor: shape=(), dtype=float32, numpy=9.8>"
            ]
          },
          "metadata": {},
          "execution_count": 39
        }
      ]
    },
    {
      "cell_type": "code",
      "source": [
        "num_samples_per_class = 1000\n",
        "negative_samples = np.random.multivariate_normal(\n",
        "    mean=[0, 3],\n",
        "    cov=[[1, 0.5],[0.5, 1]],\n",
        "    size=num_samples_per_class)\n",
        "positive_samples = np.random.multivariate_normal(\n",
        "    mean=[3, 0],\n",
        "    cov=[[1, 0.5],[0.5, 1]],\n",
        "    size=num_samples_per_class)"
      ],
      "metadata": {
        "id": "ToTsECcU1exk"
      },
      "execution_count": 40,
      "outputs": []
    },
    {
      "cell_type": "code",
      "source": [
        "inputs = np.vstack((negative_samples, positive_samples)).astype(np.float32)\n",
        "# 두 클래스를 (2000, 2) 크기의 한 배열로 쌓기 negative_samples positive_samples"
      ],
      "metadata": {
        "id": "d5aNa1YJpaOy"
      },
      "execution_count": 41,
      "outputs": []
    },
    {
      "cell_type": "code",
      "source": [
        "targets = np.vstack((np.zeros((num_samples_per_class, 1), dtype=\"float32\"),\n",
        "                     np.ones((num_samples_per_class, 1), dtype=\"float32\")))"
      ],
      "metadata": {
        "id": "rzmQeuJ9pYXS"
      },
      "execution_count": 42,
      "outputs": []
    },
    {
      "cell_type": "code",
      "source": [
        "import matplotlib.pyplot as plt\n",
        "plt.scatter(inputs[:, 0], inputs[:, 1], c=targets[:, 0])\n",
        "plt.show()"
      ],
      "metadata": {
        "colab": {
          "base_uri": "https://localhost:8080/",
          "height": 430
        },
        "id": "bNjekoCE9WSz",
        "outputId": "16971cce-b9f1-47d8-a16d-703858ce2b85"
      },
      "execution_count": 43,
      "outputs": [
        {
          "output_type": "display_data",
          "data": {
            "text/plain": [
              "<Figure size 640x480 with 1 Axes>"
            ],
            "image/png": "[encoded data removed]"
          },
          "metadata": {}
        }
      ]
    },
    {
      "cell_type": "markdown",
      "source": [
        "$ cov=\\begin{bmatrix}1 & 0.5 \\\\ 0.5 & 1 \\end{bmatrix} $\n",
        "\n",
        " $X$\n",
        "\n",
        " 분산 : 1 이는 X가 평균으로 부터 얼마나 퍼져있는지\n",
        " 공분산 : 0.5 변수 X가 Y간의 공분산 $Cov(X,Y)$입니다. 이는 $X$가 증가할 때 $Y$가 평균으로 부터 얼마나 퍼져있는지 말한다."
      ],
      "metadata": {
        "id": "Cenq4TAuDd0f"
      }
    },
    {
      "cell_type": "markdown",
      "source": [
        "###선형 분류기의 변수 만들기"
      ],
      "metadata": {
        "id": "NPYcf3qPEvYu"
      }
    },
    {
      "cell_type": "code",
      "source": [
        "input_dim = 2\n",
        "out_dim =1\n",
        "W = tf.Variable(initial_value=tf.random.uniform(shape=(input_dim, out_dim)))\n",
        "b = tf.Variable(initial_value=tf.zeros(shape=(out_dim,)))"
      ],
      "metadata": {
        "id": "Q6VMvbMoExb7"
      },
      "execution_count": 44,
      "outputs": []
    },
    {
      "cell_type": "code",
      "source": [
        "W"
      ],
      "metadata": {
        "colab": {
          "base_uri": "https://localhost:8080/"
        },
        "id": "MRC_4lRqE13E",
        "outputId": "589d01a1-140e-4e87-b324-92611f81fe25"
      },
      "execution_count": 45,
      "outputs": [
        {
          "output_type": "execute_result",
          "data": {
            "text/plain": [
              "<tf.Variable 'Variable:0' shape=(2, 1) dtype=float32, numpy=\n",
              "array([[0.11631024],\n",
              "       [0.8517215 ]], dtype=float32)>"
            ]
          },
          "metadata": {},
          "execution_count": 45
        }
      ]
    },
    {
      "cell_type": "code",
      "source": [
        "b"
      ],
      "metadata": {
        "colab": {
          "base_uri": "https://localhost:8080/"
        },
        "id": "ResCQ4IbE2Vp",
        "outputId": "95fcd3ce-cd2f-468a-a8ad-6ff208a19bb5"
      },
      "execution_count": 46,
      "outputs": [
        {
          "output_type": "execute_result",
          "data": {
            "text/plain": [
              "<tf.Variable 'Variable:0' shape=(1,) dtype=float32, numpy=array([0.], dtype=float32)>"
            ]
          },
          "metadata": {},
          "execution_count": 46
        }
      ]
    },
    {
      "cell_type": "markdown",
      "source": [
        "###정방향 패스 함수"
      ],
      "metadata": {
        "id": "KsdMFIhCFCx0"
      }
    },
    {
      "cell_type": "code",
      "source": [
        "def model(inputs):\n",
        "    return tf.matmul(inputs, W) + b"
      ],
      "metadata": {
        "id": "hV8EUCZcE2sf"
      },
      "execution_count": null,
      "outputs": []
    },
    {
      "cell_type": "markdown",
      "source": [
        "###평균 제곱 오차 손실 함수"
      ],
      "metadata": {
        "id": "aap-GWoSFFub"
      }
    },
    {
      "cell_type": "code",
      "source": [
        "def square_loss(targets, predictions):\n",
        "    per_sample_losses = tf.square(targets - predictions)\n",
        "    return tf.reduce_mean(per_sample_losses)"
      ],
      "metadata": {
        "id": "cw0fJbsgFH3X"
      },
      "execution_count": null,
      "outputs": []
    },
    {
      "cell_type": "markdown",
      "source": [
        "### 훈련 스텝 함수\n"
      ],
      "metadata": {
        "id": "8znJKfn2FJX4"
      }
    },
    {
      "cell_type": "code",
      "source": [
        "learning_rate = 0.1\n",
        "\n",
        "def training_step(inputs, targets):\n",
        "    with tf.GradientTape() as tape:\n",
        "        predictions = model(inputs)\n",
        "        loss = square_loss(targets, predictions)\n",
        "    grad_loss_wrt_W, grad_loss_wrt_b = tape.gradient(loss, [W, b])\n",
        "    W.assign_sub(grad_loss_wrt_W * learning_rate)\n",
        "    b.assign_sub(grad_loss_wrt_b * learning_rate)\n",
        "    return loss"
      ],
      "metadata": {
        "id": "skp1WEkDFMhk"
      },
      "execution_count": null,
      "outputs": []
    },
    {
      "cell_type": "markdown",
      "source": [
        "### 배치 훈련 루프\n"
      ],
      "metadata": {
        "id": "pC3bByyNFOGJ"
      }
    },
    {
      "cell_type": "code",
      "source": [
        "\n",
        "for step in range(40):\n",
        "    loss = training_step(inputs, targets)\n",
        "    print(f\"{step}번째 스텝의 손실: {loss:.4f}\")"
      ],
      "metadata": {
        "id": "TK74KOmqFPVk"
      },
      "execution_count": null,
      "outputs": []
    },
    {
      "cell_type": "code",
      "source": [
        "predictions = model(inputs)\n",
        "plt.scatter(inputs[:, 0], inputs[:, 1], c=predictions[:, 0] > 0.5)\n",
        "plt.show()"
      ],
      "metadata": {
        "id": "OHMVkW2sFRbH"
      },
      "execution_count": null,
      "outputs": []
    },
    {
      "cell_type": "code",
      "source": [
        "input_dim = 2\n",
        "output_dim = 1\n",
        "W = tf.Variable(initial_value=tf.random.uniform(shape=(input_dim, output_dim)))\n",
        "b = tf.Variable(initial_value=tf.zeros(shape=(output_dim,)))"
      ],
      "metadata": {
        "id": "Rd-hHqpXWnvB"
      },
      "execution_count": 47,
      "outputs": []
    },
    {
      "cell_type": "code",
      "source": [
        "W"
      ],
      "metadata": {
        "colab": {
          "base_uri": "https://localhost:8080/"
        },
        "id": "eMHYf8DfXNq-",
        "outputId": "74575248-4498-416f-dcef-ba82cdc00bb1"
      },
      "execution_count": 48,
      "outputs": [
        {
          "output_type": "execute_result",
          "data": {
            "text/plain": [
              "<tf.Variable 'Variable:0' shape=(2, 1) dtype=float32, numpy=\n",
              "array([[0.32829702],\n",
              "       [0.9275857 ]], dtype=float32)>"
            ]
          },
          "metadata": {},
          "execution_count": 48
        }
      ]
    },
    {
      "cell_type": "code",
      "source": [],
      "metadata": {
        "id": "3k3prj7cXTIY"
      },
      "execution_count": null,
      "outputs": []
    },
    {
      "cell_type": "code",
      "source": [
        "x = np.linspace(-1, 4, 100) # - 1 부터 4 까지 100개의 균일한 점으로 나눈 배열 생\n",
        "# 사실 100개의 x 축 좌표를 만들 필요 없이 시작과 종료 위치만 있어도 됩니다.\n",
        "# x = [-1, 4]\n",
        "y = - W[0] /  W[1] * x + (0.5 - b) / W[1]\n",
        "plt.plot(x, y, \"-r\")\n",
        "plt.scatter(inputs[:, 0], inputs[:, 1], c=predictions[:, 0] > 0.5)\n",
        "plt.show()"
      ],
      "metadata": {
        "colab": {
          "base_uri": "https://localhost:8080/",
          "height": 614
        },
        "id": "cwVKswM9Fmsy",
        "outputId": "431b1694-0345-4c20-e06c-a5c0504c8a4e"
      },
      "execution_count": 49,
      "outputs": [
        {
          "output_type": "error",
          "ename": "NameError",
          "evalue": "name 'predictions' is not defined",
          "traceback": [
            "\u001b[0;31m---------------------------------------------------------------------------\u001b[0m",
            "\u001b[0;31mNameError\u001b[0m                                 Traceback (most recent call last)",
            "\u001b[0;32m<ipython-input-49-6376351bbe4d>\u001b[0m in \u001b[0;36m<cell line: 6>\u001b[0;34m()\u001b[0m\n\u001b[1;32m      4\u001b[0m \u001b[0my\u001b[0m \u001b[0;34m=\u001b[0m \u001b[0;34m-\u001b[0m \u001b[0mW\u001b[0m\u001b[0;34m[\u001b[0m\u001b[0;36m0\u001b[0m\u001b[0;34m]\u001b[0m \u001b[0;34m/\u001b[0m  \u001b[0mW\u001b[0m\u001b[0;34m[\u001b[0m\u001b[0;36m1\u001b[0m\u001b[0;34m]\u001b[0m \u001b[0;34m*\u001b[0m \u001b[0mx\u001b[0m \u001b[0;34m+\u001b[0m \u001b[0;34m(\u001b[0m\u001b[0;36m0.5\u001b[0m \u001b[0;34m-\u001b[0m \u001b[0mb\u001b[0m\u001b[0;34m)\u001b[0m \u001b[0;34m/\u001b[0m \u001b[0mW\u001b[0m\u001b[0;34m[\u001b[0m\u001b[0;36m1\u001b[0m\u001b[0;34m]\u001b[0m\u001b[0;34m\u001b[0m\u001b[0;34m\u001b[0m\u001b[0m\n\u001b[1;32m      5\u001b[0m \u001b[0mplt\u001b[0m\u001b[0;34m.\u001b[0m\u001b[0mplot\u001b[0m\u001b[0;34m(\u001b[0m\u001b[0mx\u001b[0m\u001b[0;34m,\u001b[0m \u001b[0my\u001b[0m\u001b[0;34m,\u001b[0m \u001b[0;34m\"-r\"\u001b[0m\u001b[0;34m)\u001b[0m\u001b[0;34m\u001b[0m\u001b[0;34m\u001b[0m\u001b[0m\n\u001b[0;32m----> 6\u001b[0;31m \u001b[0mplt\u001b[0m\u001b[0;34m.\u001b[0m\u001b[0mscatter\u001b[0m\u001b[0;34m(\u001b[0m\u001b[0minputs\u001b[0m\u001b[0;34m[\u001b[0m\u001b[0;34m:\u001b[0m\u001b[0;34m,\u001b[0m \u001b[0;36m0\u001b[0m\u001b[0;34m]\u001b[0m\u001b[0;34m,\u001b[0m \u001b[0minputs\u001b[0m\u001b[0;34m[\u001b[0m\u001b[0;34m:\u001b[0m\u001b[0;34m,\u001b[0m \u001b[0;36m1\u001b[0m\u001b[0;34m]\u001b[0m\u001b[0;34m,\u001b[0m \u001b[0mc\u001b[0m\u001b[0;34m=\u001b[0m\u001b[0mpredictions\u001b[0m\u001b[0;34m[\u001b[0m\u001b[0;34m:\u001b[0m\u001b[0;34m,\u001b[0m \u001b[0;36m0\u001b[0m\u001b[0;34m]\u001b[0m \u001b[0;34m>\u001b[0m \u001b[0;36m0.5\u001b[0m\u001b[0;34m)\u001b[0m\u001b[0;34m\u001b[0m\u001b[0;34m\u001b[0m\u001b[0m\n\u001b[0m\u001b[1;32m      7\u001b[0m \u001b[0mplt\u001b[0m\u001b[0;34m.\u001b[0m\u001b[0mshow\u001b[0m\u001b[0;34m(\u001b[0m\u001b[0;34m)\u001b[0m\u001b[0;34m\u001b[0m\u001b[0;34m\u001b[0m\u001b[0m\n",
            "\u001b[0;31mNameError\u001b[0m: name 'predictions' is not defined"
          ]
        },
        {
          "output_type": "display_data",
          "data": {
            "text/plain": [
              "<Figure size 640x480 with 1 Axes>"
            ],
            "image/png": "[encoded data removed]"
          },
          "metadata": {}
        }
      ]
    },
    {
      "cell_type": "markdown",
      "source": [
        "Layer의 서브클래스로 구현한 Dense 층"
      ],
      "metadata": {
        "id": "Cc5As-Y7X272"
      }
    },
    {
      "cell_type": "code",
      "source": [
        "from tensorflow import keras\n",
        "\n",
        "class SimpleDense(keras.layers.Layer):\n",
        "\n",
        "    def __init__(self, units, activation=None):\n",
        "        super().__init__()\n",
        "        self.units = units\n",
        "        self.activation = activation\n",
        "\n",
        "    def build(self, input_shape):\n",
        "        input_dim = input_shape[-1]\n",
        "        self.W = self.add_weight(shape=(input_dim, self.units),\n",
        "                                 initializer=\"random_normal\")\n",
        "        self.b = self.add_weight(shape=(self.units,),\n",
        "                                 initializer=\"zeros\")\n",
        "\n",
        "    def call(self, inputs):\n",
        "        y = tf.matmul(inputs, self.W) + self.b\n",
        "        if self.activation is not None:\n",
        "            y = self.activation(y)\n",
        "        return y"
      ],
      "metadata": {
        "id": "kdQO207TXx80"
      },
      "execution_count": null,
      "outputs": []
    },
    {
      "cell_type": "code",
      "source": [
        "my_dense = SimpleDense(units=32, activation=tf.nn.relu)\n",
        "input_tensor = tf.ones(shape=(2, 784))\n",
        "output_tensor = my_dense(input_tensor)\n",
        "print(output_tensor.shape)"
      ],
      "metadata": {
        "id": "aVtsaGWNXzHZ"
      },
      "execution_count": null,
      "outputs": []
    },
    {
      "cell_type": "markdown",
      "source": [
        "\n",
        "자동 크기 추론: 동적으로 층 만들기"
      ],
      "metadata": {
        "id": "9mHWilm5X4eP"
      }
    },
    {
      "cell_type": "code",
      "source": [
        "\n",
        "from tensorflow.keras import layers\n",
        "layer = layers.Dense(32, activation=\"relu\")"
      ],
      "metadata": {
        "id": "PSllK_mHX6bc"
      },
      "execution_count": null,
      "outputs": []
    },
    {
      "cell_type": "code",
      "source": [
        "\n",
        "from tensorflow.keras import models\n",
        "from tensorflow.keras import layers\n",
        "model = models.Sequential([\n",
        "    layers.Dense(32, activation=\"relu\"),\n",
        "    layers.Dense(32)\n",
        "])"
      ],
      "metadata": {
        "id": "fcpuYsfzX7Tu"
      },
      "execution_count": null,
      "outputs": []
    },
    {
      "cell_type": "code",
      "source": [
        "model = keras.Sequential([\n",
        "    SimpleDense(32, activation=\"relu\"),\n",
        "    SimpleDense(64, activation=\"relu\"),\n",
        "    SimpleDense(32, activation=\"relu\"),\n",
        "    SimpleDense(10, activation=\"softmax\")\n",
        "])"
      ],
      "metadata": {
        "id": "sfWrFcYzX84H"
      },
      "execution_count": null,
      "outputs": []
    },
    {
      "cell_type": "markdown",
      "source": [
        "층에서 모델로\n",
        "\n",
        "“컴파일” 단계: 학습 과정 설정"
      ],
      "metadata": {
        "id": "fh7KhvXTX-Nq"
      }
    },
    {
      "cell_type": "code",
      "source": [
        "model = keras.Sequential([keras.layers.Dense(1)])\n",
        "model.compile(optimizer=\"rmsprop\",\n",
        "              loss=\"mean_squared_error\",\n",
        "              metrics=[\"accuracy\"])"
      ],
      "metadata": {
        "id": "byJ5AnNaX_ZW"
      },
      "execution_count": null,
      "outputs": []
    },
    {
      "cell_type": "code",
      "source": [
        "model.compile(optimizer=keras.optimizers.RMSprop(),\n",
        "              loss=keras.losses.MeanSquaredError(),\n",
        "              metrics=[keras.metrics.BinaryAccuracy()])"
      ],
      "metadata": {
        "id": "sDy7LWOuYCmE"
      },
      "execution_count": null,
      "outputs": []
    },
    {
      "cell_type": "code",
      "source": [
        "history = model.fit(\n",
        "    inputs,\n",
        "    targets,\n",
        "    epochs=5,\n",
        "    batch_size=128\n",
        ")"
      ],
      "metadata": {
        "id": "SR8PB5fjYGCA"
      },
      "execution_count": null,
      "outputs": []
    },
    {
      "cell_type": "code",
      "source": [
        "model = keras.Sequential([keras.layers.Dense(1)])\n",
        "model.compile(optimizer=keras.optimizers.RMSprop(learning_rate=0.1),\n",
        "              loss=keras.losses.MeanSquaredError(),\n",
        "              metrics=[keras.metrics.BinaryAccuracy()])\n",
        "\n",
        "indices_permutation = np.random.permutation(len(inputs))\n",
        "shuffled_inputs = inputs[indices_permutation]\n",
        "shuffled_targets = targets[indices_permutation]\n",
        "\n",
        "num_validation_samples = int(0.3 * len(inputs))\n",
        "val_inputs = shuffled_inputs[:num_validation_samples]\n",
        "val_targets = shuffled_targets[:num_validation_samples]\n",
        "training_inputs = shuffled_inputs[num_validation_samples:]\n",
        "training_targets = shuffled_targets[num_validation_samples:]\n",
        "model.fit(\n",
        "    training_inputs,\n",
        "    training_targets,\n",
        "    epochs=5,\n",
        "    batch_size=16,\n",
        "    validation_data=(val_inputs, val_targets)\n",
        ")"
      ],
      "metadata": {
        "id": "dAHrzlXoYHlv"
      },
      "execution_count": null,
      "outputs": []
    },
    {
      "cell_type": "code",
      "source": [
        "predictions = model.predict(val_inputs, batch_size=128)\n",
        "print(predictions[:10])"
      ],
      "metadata": {
        "id": "wK4K4NbkYJJx"
      },
      "execution_count": null,
      "outputs": []
    },
    {
      "cell_type": "markdown",
      "source": [
        "### 과대적합 과소적합\n",
        "\n",
        "훈련 초기에 최적화와 일반화는 상호 연관되어 있다. 훈련데이터의 손실이 낮아질수록 테스트 데이터의 손실도 낮아진다.\n",
        "\n",
        "과소적합\n",
        "\n",
        "모델이 학습 데이터를 충분히 학습하지 못해, 학습 데이터와 새로운 데이터 모두에서 성능이 낮은 경우입니다. 모델이 너무 단순해서 데이터의 복잡한 패턴을 잡아내지 못할 때 발생합니다.\n",
        "\n",
        "과대적합\n",
        "\n",
        "모델이 학습 데이터에 지나치게 맞춰져서 학습 데이터에서는 높은 성능을 보이지만, 새로운 데이터에서는 성능이 떨어지는 경우입니다. 모델이 데이터를 너무 과도하게 학습하여 노이즈까지 학습할 때 발생합니다."
      ],
      "metadata": {
        "id": "Ftcmz7JpNqgs"
      }
    },
    {
      "cell_type": "markdown",
      "source": [
        "![image.png](data:image/png;base64,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)"
      ],
      "metadata": {
        "id": "UYtXylqmqDNh"
      }
    },
    {
      "cell_type": "code",
      "source": [
        "\n",
        "from tensorflow.keras.datasets import mnist\n",
        "import numpy as np\n",
        "\n",
        "(train_images, train_labels), _ = mnist.load_data()\n",
        "train_images = train_images.reshape((60000, 28 * 28))\n",
        "train_images = train_images.astype(\"float32\") / 255\n",
        "\n",
        "train_images_with_noise_channels = np.concatenate(\n",
        "    [train_images, np.random.random((len(train_images), 784))], axis=1)\n",
        "\n",
        "train_images_with_zeros_channels = np.concatenate(\n",
        "    [train_images, np.zeros((len(train_images), 784))], axis=1)"
      ],
      "metadata": {
        "colab": {
          "base_uri": "https://localhost:8080/"
        },
        "id": "uF315S67wq3u",
        "outputId": "b919689f-500c-4f00-eda0-9408ad7f53d1"
      },
      "execution_count": 1,
      "outputs": [
        {
          "output_type": "stream",
          "name": "stdout",
          "text": [
            "Downloading data from https://storage.googleapis.com/tensorflow/tf-keras-datasets/mnist.npz\n",
            "\u001b[1m11490434/11490434\u001b[0m \u001b[32m━━━━━━━━━━━━━━━━━━━━\u001b[0m\u001b[37m\u001b[0m \u001b[1m1s\u001b[0m 0us/step\n"
          ]
        }
      ]
    },
    {
      "cell_type": "code",
      "source": [
        "train_images_with_noise_channels.shape"
      ],
      "metadata": {
        "colab": {
          "base_uri": "https://localhost:8080/"
        },
        "id": "RqFEaYkAwtz0",
        "outputId": "a655ddba-2d97-4f53-b990-a4b1b30c110d"
      },
      "execution_count": 2,
      "outputs": [
        {
          "output_type": "execute_result",
          "data": {
            "text/plain": [
              "(60000, 1568)"
            ]
          },
          "metadata": {},
          "execution_count": 2
        }
      ]
    },
    {
      "cell_type": "code",
      "source": [
        "from tensorflow import keras\n",
        "from tensorflow.keras import layers\n",
        "\n",
        "def get_model():\n",
        "    model = keras.Sequential([\n",
        "        layers.Dense(512, activation=\"relu\"),\n",
        "        layers.Dense(10, activation=\"softmax\")\n",
        "    ])\n",
        "    model.compile(optimizer=\"rmsprop\",\n",
        "                  loss=\"sparse_categorical_crossentropy\",\n",
        "                  metrics=[\"accuracy\"])\n",
        "    return model\n",
        "\n",
        "model = get_model()\n",
        "history_noise = model.fit(\n",
        "    train_images_with_noise_channels, train_labels,\n",
        "    epochs=10,\n",
        "    batch_size=128,\n",
        "    validation_split=0.2)\n",
        "\n",
        "model = get_model()\n",
        "history_zeros = model.fit(\n",
        "    train_images_with_zeros_channels, train_labels,\n",
        "    epochs=10,\n",
        "    batch_size=128,\n",
        "    validation_split=0.2)"
      ],
      "metadata": {
        "colab": {
          "base_uri": "https://localhost:8080/"
        },
        "id": "jckUJTogwvdG",
        "outputId": "3006e562-b717-47ee-e357-cb40303cadbe"
      },
      "execution_count": 8,
      "outputs": [
        {
          "output_type": "stream",
          "name": "stdout",
          "text": [
            "Epoch 1/10\n",
            "\u001b[1m375/375\u001b[0m \u001b[32m━━━━━━━━━━━━━━━━━━━━\u001b[0m\u001b[37m\u001b[0m \u001b[1m8s\u001b[0m 17ms/step - accuracy: 0.6893 - loss: 1.1038 - val_accuracy: 0.9208 - val_loss: 0.2697\n",
            "Epoch 2/10\n",
            "\u001b[1m375/375\u001b[0m \u001b[32m━━━━━━━━━━━━━━━━━━━━\u001b[0m\u001b[37m\u001b[0m \u001b[1m8s\u001b[0m 22ms/step - accuracy: 0.9143 - loss: 0.2834 - val_accuracy: 0.9432 - val_loss: 0.1946\n",
            "Epoch 3/10\n",
            "\u001b[1m375/375\u001b[0m \u001b[32m━━━━━━━━━━━━━━━━━━━━\u001b[0m\u001b[37m\u001b[0m \u001b[1m7s\u001b[0m 18ms/step - accuracy: 0.9426 - loss: 0.1851 - val_accuracy: 0.9461 - val_loss: 0.1747\n",
            "Epoch 4/10\n",
            "\u001b[1m375/375\u001b[0m \u001b[32m━━━━━━━━━━━━━━━━━━━━\u001b[0m\u001b[37m\u001b[0m \u001b[1m10s\u001b[0m 26ms/step - accuracy: 0.9601 - loss: 0.1282 - val_accuracy: 0.9622 - val_loss: 0.1250\n",
            "Epoch 5/10\n",
            "\u001b[1m375/375\u001b[0m \u001b[32m━━━━━━━━━━━━━━━━━━━━\u001b[0m\u001b[37m\u001b[0m \u001b[1m6s\u001b[0m 16ms/step - accuracy: 0.9718 - loss: 0.0912 - val_accuracy: 0.9542 - val_loss: 0.1466\n",
            "Epoch 6/10\n",
            "\u001b[1m375/375\u001b[0m \u001b[32m━━━━━━━━━━━━━━━━━━━━\u001b[0m\u001b[37m\u001b[0m \u001b[1m8s\u001b[0m 20ms/step - accuracy: 0.9798 - loss: 0.0647 - val_accuracy: 0.9665 - val_loss: 0.1132\n",
            "Epoch 7/10\n",
            "\u001b[1m375/375\u001b[0m \u001b[32m━━━━━━━━━━━━━━━━━━━━\u001b[0m\u001b[37m\u001b[0m \u001b[1m7s\u001b[0m 17ms/step - accuracy: 0.9845 - loss: 0.0493 - val_accuracy: 0.9647 - val_loss: 0.1257\n",
            "Epoch 8/10\n",
            "\u001b[1m375/375\u001b[0m \u001b[32m━━━━━━━━━━━━━━━━━━━━\u001b[0m\u001b[37m\u001b[0m \u001b[1m8s\u001b[0m 20ms/step - accuracy: 0.9883 - loss: 0.0378 - val_accuracy: 0.9594 - val_loss: 0.1465\n",
            "Epoch 9/10\n",
            "\u001b[1m375/375\u001b[0m \u001b[32m━━━━━━━━━━━━━━━━━━━━\u001b[0m\u001b[37m\u001b[0m \u001b[1m7s\u001b[0m 19ms/step - accuracy: 0.9921 - loss: 0.0256 - val_accuracy: 0.9661 - val_loss: 0.1263\n",
            "Epoch 10/10\n",
            "\u001b[1m375/375\u001b[0m \u001b[32m━━━━━━━━━━━━━━━━━━━━\u001b[0m\u001b[37m\u001b[0m \u001b[1m12s\u001b[0m 31ms/step - accuracy: 0.9951 - loss: 0.0175 - val_accuracy: 0.9668 - val_loss: 0.1329\n",
            "Epoch 1/10\n",
            "\u001b[1m375/375\u001b[0m \u001b[32m━━━━━━━━━━━━━━━━━━━━\u001b[0m\u001b[37m\u001b[0m \u001b[1m10s\u001b[0m 25ms/step - accuracy: 0.8584 - loss: 0.4874 - val_accuracy: 0.9508 - val_loss: 0.1656\n",
            "Epoch 2/10\n",
            "\u001b[1m375/375\u001b[0m \u001b[32m━━━━━━━━━━━━━━━━━━━━\u001b[0m\u001b[37m\u001b[0m \u001b[1m11s\u001b[0m 29ms/step - accuracy: 0.9596 - loss: 0.1379 - val_accuracy: 0.9640 - val_loss: 0.1189\n",
            "Epoch 3/10\n",
            "\u001b[1m375/375\u001b[0m \u001b[32m━━━━━━━━━━━━━━━━━━━━\u001b[0m\u001b[37m\u001b[0m \u001b[1m16s\u001b[0m 17ms/step - accuracy: 0.9757 - loss: 0.0825 - val_accuracy: 0.9718 - val_loss: 0.0915\n",
            "Epoch 4/10\n",
            "\u001b[1m375/375\u001b[0m \u001b[32m━━━━━━━━━━━━━━━━━━━━\u001b[0m\u001b[37m\u001b[0m \u001b[1m8s\u001b[0m 21ms/step - accuracy: 0.9829 - loss: 0.0589 - val_accuracy: 0.9757 - val_loss: 0.0808\n",
            "Epoch 5/10\n",
            "\u001b[1m375/375\u001b[0m \u001b[32m━━━━━━━━━━━━━━━━━━━━\u001b[0m\u001b[37m\u001b[0m \u001b[1m9s\u001b[0m 17ms/step - accuracy: 0.9876 - loss: 0.0413 - val_accuracy: 0.9779 - val_loss: 0.0794\n",
            "Epoch 6/10\n",
            "\u001b[1m375/375\u001b[0m \u001b[32m━━━━━━━━━━━━━━━━━━━━\u001b[0m\u001b[37m\u001b[0m \u001b[1m8s\u001b[0m 20ms/step - accuracy: 0.9913 - loss: 0.0304 - val_accuracy: 0.9781 - val_loss: 0.0723\n",
            "Epoch 7/10\n",
            "\u001b[1m375/375\u001b[0m \u001b[32m━━━━━━━━━━━━━━━━━━━━\u001b[0m\u001b[37m\u001b[0m \u001b[1m7s\u001b[0m 18ms/step - accuracy: 0.9935 - loss: 0.0237 - val_accuracy: 0.9793 - val_loss: 0.0766\n",
            "Epoch 8/10\n",
            "\u001b[1m375/375\u001b[0m \u001b[32m━━━━━━━━━━━━━━━━━━━━\u001b[0m\u001b[37m\u001b[0m \u001b[1m10s\u001b[0m 17ms/step - accuracy: 0.9950 - loss: 0.0188 - val_accuracy: 0.9791 - val_loss: 0.0755\n",
            "Epoch 9/10\n",
            "\u001b[1m375/375\u001b[0m \u001b[32m━━━━━━━━━━━━━━━━━━━━\u001b[0m\u001b[37m\u001b[0m \u001b[1m8s\u001b[0m 21ms/step - accuracy: 0.9968 - loss: 0.0123 - val_accuracy: 0.9816 - val_loss: 0.0706\n",
            "Epoch 10/10\n",
            "\u001b[1m375/375\u001b[0m \u001b[32m━━━━━━━━━━━━━━━━━━━━\u001b[0m\u001b[37m\u001b[0m \u001b[1m11s\u001b[0m 24ms/step - accuracy: 0.9978 - loss: 0.0092 - val_accuracy: 0.9795 - val_loss: 0.0758\n"
          ]
        }
      ]
    },
    {
      "cell_type": "code",
      "source": [
        "import matplotlib.pyplot as plt\n",
        "val_acc_noise = history_noise.history[\"val_accuracy\"]\n",
        "val_acc_zeros = history_zeros.history[\"val_accuracy\"]\n",
        "epochs = range(1, 11)\n",
        "plt.plot(epochs, val_acc_noise, \"b-\",\n",
        "         label=\"Validation accuracy with noise channels\")\n",
        "plt.plot(epochs, val_acc_zeros, \"b--\",\n",
        "         label=\"Validation accuracy with zeros channels\")\n",
        "plt.title(\"Effect of noise channels on validation accuracy\")\n",
        "plt.xlabel(\"Epochs\")\n",
        "plt.ylabel(\"Accuracy\")\n",
        "plt.legend()\n",
        "plt.show()"
      ],
      "metadata": {
        "colab": {
          "base_uri": "https://localhost:8080/",
          "height": 472
        },
        "id": "cJSZbxjKw0pp",
        "outputId": "c527d21a-c32a-49d8-b299-6860b9102f90"
      },
      "execution_count": 9,
      "outputs": [
        {
          "output_type": "display_data",
          "data": {
            "text/plain": [
              "<Figure size 640x480 with 1 Axes>"
            ],
            "image/png": "[encoded data removed]"
          },
          "metadata": {}
        }
      ]
    },
    {
      "cell_type": "code",
      "source": [
        "history_noise"
      ],
      "metadata": {
        "colab": {
          "base_uri": "https://localhost:8080/",
          "height": 147
        },
        "id": "4QaboDvpxBLX",
        "outputId": "44bc7dfd-f4ce-45c8-958a-d46d5faa71b6"
      },
      "execution_count": 7,
      "outputs": [
        {
          "output_type": "error",
          "ename": "NameError",
          "evalue": "name 'history_noise' is not defined",
          "traceback": [
            "\u001b[0;31m---------------------------------------------------------------------------\u001b[0m",
            "\u001b[0;31mNameError\u001b[0m                                 Traceback (most recent call last)",
            "\u001b[0;32m<ipython-input-7-f4f7cc9ae357>\u001b[0m in \u001b[0;36m<cell line: 1>\u001b[0;34m()\u001b[0m\n\u001b[0;32m----> 1\u001b[0;31m \u001b[0mhistory_noise\u001b[0m\u001b[0;34m\u001b[0m\u001b[0;34m\u001b[0m\u001b[0m\n\u001b[0m",
            "\u001b[0;31mNameError\u001b[0m: name 'history_noise' is not defined"
          ]
        }
      ]
    },
    {
      "cell_type": "code",
      "source": [
        "(train_images, train_labels), _ = mnist.load_data()\n",
        "train_images = train_images.reshape((60000, 28 * 28))\n",
        "train_images = train_images.astype(\"float32\") / 255\n",
        "\n",
        "random_train_labels = train_labels[:]\n",
        "np.random.shuffle(random_train_labels)\n",
        "\n",
        "model = keras.Sequential([\n",
        "    layers.Dense(512, activation=\"relu\"),\n",
        "    layers.Dense(10, activation=\"softmax\")\n",
        "])\n",
        "model.compile(optimizer=\"rmsprop\",\n",
        "              loss=\"sparse_categorical_crossentropy\",\n",
        "              metrics=[\"accuracy\"])\n",
        "model.fit(train_images, random_train_labels,\n",
        "          epochs=100,\n",
        "          batch_size=128,\n",
        "          validation_split=0.2)"
      ],
      "metadata": {
        "colab": {
          "base_uri": "https://localhost:8080/"
        },
        "id": "m7cjYX1kw7lQ",
        "outputId": "2d71b23b-bb7a-44a4-a97e-adf3d56a7c91"
      },
      "execution_count": 10,
      "outputs": [
        {
          "output_type": "stream",
          "name": "stdout",
          "text": [
            "Epoch 1/100\n",
            "\u001b[1m375/375\u001b[0m \u001b[32m━━━━━━━━━━━━━━━━━━━━\u001b[0m\u001b[37m\u001b[0m \u001b[1m5s\u001b[0m 11ms/step - accuracy: 0.1029 - loss: 2.3318 - val_accuracy: 0.1093 - val_loss: 2.3044\n",
            "Epoch 2/100\n",
            "\u001b[1m375/375\u001b[0m \u001b[32m━━━━━━━━━━━━━━━━━━━━\u001b[0m\u001b[37m\u001b[0m \u001b[1m4s\u001b[0m 11ms/step - accuracy: 0.1199 - loss: 2.2980 - val_accuracy: 0.1062 - val_loss: 2.3113\n",
            "Epoch 3/100\n",
            "\u001b[1m375/375\u001b[0m \u001b[32m━━━━━━━━━━━━━━━━━━━━\u001b[0m\u001b[37m\u001b[0m \u001b[1m4s\u001b[0m 9ms/step - accuracy: 0.1299 - loss: 2.2871 - val_accuracy: 0.1040 - val_loss: 2.3164\n",
            "Epoch 4/100\n",
            "\u001b[1m375/375\u001b[0m \u001b[32m━━━━━━━━━━━━━━━━━━━━\u001b[0m\u001b[37m\u001b[0m \u001b[1m6s\u001b[0m 12ms/step - accuracy: 0.1443 - loss: 2.2740 - val_accuracy: 0.1053 - val_loss: 2.3282\n",
            "Epoch 5/100\n",
            "\u001b[1m375/375\u001b[0m \u001b[32m━━━━━━━━━━━━━━━━━━━━\u001b[0m\u001b[37m\u001b[0m \u001b[1m4s\u001b[0m 9ms/step - accuracy: 0.1611 - loss: 2.2577 - val_accuracy: 0.1037 - val_loss: 2.3398\n",
            "Epoch 6/100\n",
            "\u001b[1m375/375\u001b[0m \u001b[32m━━━━━━━━━━━━━━━━━━━━\u001b[0m\u001b[37m\u001b[0m \u001b[1m3s\u001b[0m 9ms/step - accuracy: 0.1712 - loss: 2.2365 - val_accuracy: 0.1027 - val_loss: 2.3517\n",
            "Epoch 7/100\n",
            "\u001b[1m375/375\u001b[0m \u001b[32m━━━━━━━━━━━━━━━━━━━━\u001b[0m\u001b[37m\u001b[0m \u001b[1m3s\u001b[0m 9ms/step - accuracy: 0.1907 - loss: 2.2089 - val_accuracy: 0.0994 - val_loss: 2.3621\n",
            "Epoch 8/100\n",
            "\u001b[1m375/375\u001b[0m \u001b[32m━━━━━━━━━━━━━━━━━━━━\u001b[0m\u001b[37m\u001b[0m \u001b[1m5s\u001b[0m 13ms/step - accuracy: 0.2034 - loss: 2.1844 - val_accuracy: 0.0978 - val_loss: 2.3864\n",
            "Epoch 9/100\n",
            "\u001b[1m375/375\u001b[0m \u001b[32m━━━━━━━━━━━━━━━━━━━━\u001b[0m\u001b[37m\u001b[0m \u001b[1m4s\u001b[0m 9ms/step - accuracy: 0.2211 - loss: 2.1517 - val_accuracy: 0.0986 - val_loss: 2.4066\n",
            "Epoch 10/100\n",
            "\u001b[1m375/375\u001b[0m \u001b[32m━━━━━━━━━━━━━━━━━━━━\u001b[0m\u001b[37m\u001b[0m \u001b[1m5s\u001b[0m 9ms/step - accuracy: 0.2379 - loss: 2.1160 - val_accuracy: 0.0968 - val_loss: 2.4265\n",
            "Epoch 11/100\n",
            "\u001b[1m375/375\u001b[0m \u001b[32m━━━━━━━━━━━━━━━━━━━━\u001b[0m\u001b[37m\u001b[0m \u001b[1m6s\u001b[0m 11ms/step - accuracy: 0.2557 - loss: 2.0787 - val_accuracy: 0.0943 - val_loss: 2.4553\n",
            "Epoch 12/100\n",
            "\u001b[1m375/375\u001b[0m \u001b[32m━━━━━━━━━━━━━━━━━━━━\u001b[0m\u001b[37m\u001b[0m \u001b[1m3s\u001b[0m 9ms/step - accuracy: 0.2729 - loss: 2.0459 - val_accuracy: 0.0982 - val_loss: 2.4914\n",
            "Epoch 13/100\n",
            "\u001b[1m375/375\u001b[0m \u001b[32m━━━━━━━━━━━━━━━━━━━━\u001b[0m\u001b[37m\u001b[0m \u001b[1m3s\u001b[0m 9ms/step - accuracy: 0.2974 - loss: 2.0006 - val_accuracy: 0.0983 - val_loss: 2.5178\n",
            "Epoch 14/100\n",
            "\u001b[1m375/375\u001b[0m \u001b[32m━━━━━━━━━━━━━━━━━━━━\u001b[0m\u001b[37m\u001b[0m \u001b[1m6s\u001b[0m 12ms/step - accuracy: 0.3128 - loss: 1.9614 - val_accuracy: 0.0961 - val_loss: 2.5473\n",
            "Epoch 15/100\n",
            "\u001b[1m375/375\u001b[0m \u001b[32m━━━━━━━━━━━━━━━━━━━━\u001b[0m\u001b[37m\u001b[0m \u001b[1m4s\u001b[0m 9ms/step - accuracy: 0.3265 - loss: 1.9233 - val_accuracy: 0.0987 - val_loss: 2.5779\n",
            "Epoch 16/100\n",
            "\u001b[1m375/375\u001b[0m \u001b[32m━━━━━━━━━━━━━━━━━━━━\u001b[0m\u001b[37m\u001b[0m \u001b[1m4s\u001b[0m 10ms/step - accuracy: 0.3478 - loss: 1.8768 - val_accuracy: 0.1013 - val_loss: 2.6135\n",
            "Epoch 17/100\n",
            "\u001b[1m375/375\u001b[0m \u001b[32m━━━━━━━━━━━━━━━━━━━━\u001b[0m\u001b[37m\u001b[0m \u001b[1m4s\u001b[0m 12ms/step - accuracy: 0.3600 - loss: 1.8396 - val_accuracy: 0.0974 - val_loss: 2.6599\n",
            "Epoch 18/100\n",
            "\u001b[1m375/375\u001b[0m \u001b[32m━━━━━━━━━━━━━━━━━━━━\u001b[0m\u001b[37m\u001b[0m \u001b[1m3s\u001b[0m 9ms/step - accuracy: 0.3801 - loss: 1.7999 - val_accuracy: 0.1039 - val_loss: 2.6665\n",
            "Epoch 19/100\n",
            "\u001b[1m375/375\u001b[0m \u001b[32m━━━━━━━━━━━━━━━━━━━━\u001b[0m\u001b[37m\u001b[0m \u001b[1m3s\u001b[0m 9ms/step - accuracy: 0.3939 - loss: 1.7625 - val_accuracy: 0.0965 - val_loss: 2.7286\n",
            "Epoch 20/100\n",
            "\u001b[1m375/375\u001b[0m \u001b[32m━━━━━━━━━━━━━━━━━━━━\u001b[0m\u001b[37m\u001b[0m \u001b[1m6s\u001b[0m 12ms/step - accuracy: 0.4077 - loss: 1.7207 - val_accuracy: 0.0972 - val_loss: 2.7613\n",
            "Epoch 21/100\n",
            "\u001b[1m375/375\u001b[0m \u001b[32m━━━━━━━━━━━━━━━━━━━━\u001b[0m\u001b[37m\u001b[0m \u001b[1m3s\u001b[0m 9ms/step - accuracy: 0.4238 - loss: 1.6860 - val_accuracy: 0.1019 - val_loss: 2.8157\n",
            "Epoch 22/100\n",
            "\u001b[1m375/375\u001b[0m \u001b[32m━━━━━━━━━━━━━━━━━━━━\u001b[0m\u001b[37m\u001b[0m \u001b[1m3s\u001b[0m 9ms/step - accuracy: 0.4373 - loss: 1.6474 - val_accuracy: 0.1002 - val_loss: 2.8426\n",
            "Epoch 23/100\n",
            "\u001b[1m375/375\u001b[0m \u001b[32m━━━━━━━━━━━━━━━━━━━━\u001b[0m\u001b[37m\u001b[0m \u001b[1m7s\u001b[0m 14ms/step - accuracy: 0.4515 - loss: 1.6078 - val_accuracy: 0.0990 - val_loss: 2.9028\n",
            "Epoch 24/100\n",
            "\u001b[1m375/375\u001b[0m \u001b[32m━━━━━━━━━━━━━━━━━━━━\u001b[0m\u001b[37m\u001b[0m \u001b[1m3s\u001b[0m 9ms/step - accuracy: 0.4641 - loss: 1.5730 - val_accuracy: 0.0989 - val_loss: 2.9373\n",
            "Epoch 25/100\n",
            "\u001b[1m375/375\u001b[0m \u001b[32m━━━━━━━━━━━━━━━━━━━━\u001b[0m\u001b[37m\u001b[0m \u001b[1m4s\u001b[0m 10ms/step - accuracy: 0.4790 - loss: 1.5338 - val_accuracy: 0.1019 - val_loss: 3.0018\n",
            "Epoch 26/100\n",
            "\u001b[1m375/375\u001b[0m \u001b[32m━━━━━━━━━━━━━━━━━━━━\u001b[0m\u001b[37m\u001b[0m \u001b[1m6s\u001b[0m 12ms/step - accuracy: 0.4927 - loss: 1.4967 - val_accuracy: 0.0968 - val_loss: 3.0409\n",
            "Epoch 27/100\n",
            "\u001b[1m375/375\u001b[0m \u001b[32m━━━━━━━━━━━━━━━━━━━━\u001b[0m\u001b[37m\u001b[0m \u001b[1m3s\u001b[0m 9ms/step - accuracy: 0.5023 - loss: 1.4660 - val_accuracy: 0.0960 - val_loss: 3.0926\n",
            "Epoch 28/100\n",
            "\u001b[1m375/375\u001b[0m \u001b[32m━━━━━━━━━━━━━━━━━━━━\u001b[0m\u001b[37m\u001b[0m \u001b[1m3s\u001b[0m 9ms/step - accuracy: 0.5182 - loss: 1.4248 - val_accuracy: 0.1004 - val_loss: 3.1319\n",
            "Epoch 29/100\n",
            "\u001b[1m375/375\u001b[0m \u001b[32m━━━━━━━━━━━━━━━━━━━━\u001b[0m\u001b[37m\u001b[0m \u001b[1m5s\u001b[0m 12ms/step - accuracy: 0.5312 - loss: 1.3944 - val_accuracy: 0.0972 - val_loss: 3.2100\n",
            "Epoch 30/100\n",
            "\u001b[1m375/375\u001b[0m \u001b[32m━━━━━━━━━━━━━━━━━━━━\u001b[0m\u001b[37m\u001b[0m \u001b[1m4s\u001b[0m 9ms/step - accuracy: 0.5393 - loss: 1.3708 - val_accuracy: 0.0982 - val_loss: 3.2503\n",
            "Epoch 31/100\n",
            "\u001b[1m375/375\u001b[0m \u001b[32m━━━━━━━━━━━━━━━━━━━━\u001b[0m\u001b[37m\u001b[0m \u001b[1m3s\u001b[0m 9ms/step - accuracy: 0.5499 - loss: 1.3363 - val_accuracy: 0.0961 - val_loss: 3.3055\n",
            "Epoch 32/100\n",
            "\u001b[1m375/375\u001b[0m \u001b[32m━━━━━━━━━━━━━━━━━━━━\u001b[0m\u001b[37m\u001b[0m \u001b[1m3s\u001b[0m 9ms/step - accuracy: 0.5652 - loss: 1.3019 - val_accuracy: 0.0963 - val_loss: 3.3611\n",
            "Epoch 33/100\n",
            "\u001b[1m375/375\u001b[0m \u001b[32m━━━━━━━━━━━━━━━━━━━━\u001b[0m\u001b[37m\u001b[0m \u001b[1m5s\u001b[0m 13ms/step - accuracy: 0.5734 - loss: 1.2748 - val_accuracy: 0.0987 - val_loss: 3.4062\n",
            "Epoch 34/100\n",
            "\u001b[1m375/375\u001b[0m \u001b[32m━━━━━━━━━━━━━━━━━━━━\u001b[0m\u001b[37m\u001b[0m \u001b[1m3s\u001b[0m 9ms/step - accuracy: 0.5804 - loss: 1.2482 - val_accuracy: 0.0987 - val_loss: 3.4649\n",
            "Epoch 35/100\n",
            "\u001b[1m375/375\u001b[0m \u001b[32m━━━━━━━━━━━━━━━━━━━━\u001b[0m\u001b[37m\u001b[0m \u001b[1m3s\u001b[0m 9ms/step - accuracy: 0.5904 - loss: 1.2243 - val_accuracy: 0.0947 - val_loss: 3.5628\n",
            "Epoch 36/100\n",
            "\u001b[1m375/375\u001b[0m \u001b[32m━━━━━━━━━━━━━━━━━━━━\u001b[0m\u001b[37m\u001b[0m \u001b[1m7s\u001b[0m 14ms/step - accuracy: 0.6013 - loss: 1.1971 - val_accuracy: 0.0993 - val_loss: 3.6171\n",
            "Epoch 37/100\n",
            "\u001b[1m375/375\u001b[0m \u001b[32m━━━━━━━━━━━━━━━━━━━━\u001b[0m\u001b[37m\u001b[0m \u001b[1m3s\u001b[0m 9ms/step - accuracy: 0.6120 - loss: 1.1671 - val_accuracy: 0.0993 - val_loss: 3.6099\n",
            "Epoch 38/100\n",
            "\u001b[1m375/375\u001b[0m \u001b[32m━━━━━━━━━━━━━━━━━━━━\u001b[0m\u001b[37m\u001b[0m \u001b[1m5s\u001b[0m 9ms/step - accuracy: 0.6212 - loss: 1.1366 - val_accuracy: 0.0990 - val_loss: 3.6972\n",
            "Epoch 39/100\n",
            "\u001b[1m375/375\u001b[0m \u001b[32m━━━━━━━━━━━━━━━━━━━━\u001b[0m\u001b[37m\u001b[0m \u001b[1m6s\u001b[0m 10ms/step - accuracy: 0.6288 - loss: 1.1137 - val_accuracy: 0.0991 - val_loss: 3.7561\n",
            "Epoch 40/100\n",
            "\u001b[1m375/375\u001b[0m \u001b[32m━━━━━━━━━━━━━━━━━━━━\u001b[0m\u001b[37m\u001b[0m \u001b[1m5s\u001b[0m 9ms/step - accuracy: 0.6405 - loss: 1.0897 - val_accuracy: 0.0975 - val_loss: 3.8135\n",
            "Epoch 41/100\n",
            "\u001b[1m375/375\u001b[0m \u001b[32m━━━━━━━━━━━━━━━━━━━━\u001b[0m\u001b[37m\u001b[0m \u001b[1m7s\u001b[0m 13ms/step - accuracy: 0.6527 - loss: 1.0583 - val_accuracy: 0.0967 - val_loss: 3.8759\n",
            "Epoch 42/100\n",
            "\u001b[1m375/375\u001b[0m \u001b[32m━━━━━━━━━━━━━━━━━━━━\u001b[0m\u001b[37m\u001b[0m \u001b[1m3s\u001b[0m 9ms/step - accuracy: 0.6619 - loss: 1.0378 - val_accuracy: 0.0977 - val_loss: 3.9129\n",
            "Epoch 43/100\n",
            "\u001b[1m375/375\u001b[0m \u001b[32m━━━━━━━━━━━━━━━━━━━━\u001b[0m\u001b[37m\u001b[0m \u001b[1m3s\u001b[0m 9ms/step - accuracy: 0.6670 - loss: 1.0123 - val_accuracy: 0.0980 - val_loss: 3.9789\n",
            "Epoch 44/100\n",
            "\u001b[1m375/375\u001b[0m \u001b[32m━━━━━━━━━━━━━━━━━━━━\u001b[0m\u001b[37m\u001b[0m \u001b[1m7s\u001b[0m 13ms/step - accuracy: 0.6695 - loss: 1.0026 - val_accuracy: 0.0991 - val_loss: 4.0295\n",
            "Epoch 45/100\n",
            "\u001b[1m375/375\u001b[0m \u001b[32m━━━━━━━━━━━━━━━━━━━━\u001b[0m\u001b[37m\u001b[0m \u001b[1m4s\u001b[0m 9ms/step - accuracy: 0.6801 - loss: 0.9807 - val_accuracy: 0.0967 - val_loss: 4.1419\n",
            "Epoch 46/100\n",
            "\u001b[1m375/375\u001b[0m \u001b[32m━━━━━━━━━━━━━━━━━━━━\u001b[0m\u001b[37m\u001b[0m \u001b[1m5s\u001b[0m 9ms/step - accuracy: 0.6850 - loss: 0.9589 - val_accuracy: 0.0998 - val_loss: 4.2257\n",
            "Epoch 47/100\n",
            "\u001b[1m375/375\u001b[0m \u001b[32m━━━━━━━━━━━━━━━━━━━━\u001b[0m\u001b[37m\u001b[0m \u001b[1m5s\u001b[0m 13ms/step - accuracy: 0.6936 - loss: 0.9323 - val_accuracy: 0.0976 - val_loss: 4.2655\n",
            "Epoch 48/100\n",
            "\u001b[1m375/375\u001b[0m \u001b[32m━━━━━━━━━━━━━━━━━━━━\u001b[0m\u001b[37m\u001b[0m \u001b[1m4s\u001b[0m 10ms/step - accuracy: 0.6982 - loss: 0.9177 - val_accuracy: 0.0983 - val_loss: 4.2865\n",
            "Epoch 49/100\n",
            "\u001b[1m375/375\u001b[0m \u001b[32m━━━━━━━━━━━━━━━━━━━━\u001b[0m\u001b[37m\u001b[0m \u001b[1m5s\u001b[0m 9ms/step - accuracy: 0.7067 - loss: 0.8934 - val_accuracy: 0.0993 - val_loss: 4.4191\n",
            "Epoch 50/100\n",
            "\u001b[1m375/375\u001b[0m \u001b[32m━━━━━━━━━━━━━━━━━━━━\u001b[0m\u001b[37m\u001b[0m \u001b[1m7s\u001b[0m 20ms/step - accuracy: 0.7172 - loss: 0.8705 - val_accuracy: 0.0984 - val_loss: 4.4497\n",
            "Epoch 51/100\n",
            "\u001b[1m375/375\u001b[0m \u001b[32m━━━━━━━━━━━━━━━━━━━━\u001b[0m\u001b[37m\u001b[0m \u001b[1m6s\u001b[0m 9ms/step - accuracy: 0.7214 - loss: 0.8580 - val_accuracy: 0.0986 - val_loss: 4.5022\n",
            "Epoch 52/100\n",
            "\u001b[1m375/375\u001b[0m \u001b[32m━━━━━━━━━━━━━━━━━━━━\u001b[0m\u001b[37m\u001b[0m \u001b[1m4s\u001b[0m 9ms/step - accuracy: 0.7244 - loss: 0.8402 - val_accuracy: 0.0985 - val_loss: 4.5826\n",
            "Epoch 53/100\n",
            "\u001b[1m375/375\u001b[0m \u001b[32m━━━━━━━━━━━━━━━━━━━━\u001b[0m\u001b[37m\u001b[0m \u001b[1m5s\u001b[0m 13ms/step - accuracy: 0.7331 - loss: 0.8229 - val_accuracy: 0.1005 - val_loss: 4.6552\n",
            "Epoch 54/100\n",
            "\u001b[1m375/375\u001b[0m \u001b[32m━━━━━━━━━━━━━━━━━━━━\u001b[0m\u001b[37m\u001b[0m \u001b[1m3s\u001b[0m 9ms/step - accuracy: 0.7409 - loss: 0.8012 - val_accuracy: 0.0972 - val_loss: 4.6914\n",
            "Epoch 55/100\n",
            "\u001b[1m375/375\u001b[0m \u001b[32m━━━━━━━━━━━━━━━━━━━━\u001b[0m\u001b[37m\u001b[0m \u001b[1m5s\u001b[0m 9ms/step - accuracy: 0.7439 - loss: 0.7872 - val_accuracy: 0.0991 - val_loss: 4.7592\n",
            "Epoch 56/100\n",
            "\u001b[1m375/375\u001b[0m \u001b[32m━━━━━━━━━━━━━━━━━━━━\u001b[0m\u001b[37m\u001b[0m \u001b[1m6s\u001b[0m 11ms/step - accuracy: 0.7493 - loss: 0.7746 - val_accuracy: 0.0997 - val_loss: 4.8493\n",
            "Epoch 57/100\n",
            "\u001b[1m375/375\u001b[0m \u001b[32m━━━━━━━━━━━━━━━━━━━━\u001b[0m\u001b[37m\u001b[0m \u001b[1m4s\u001b[0m 9ms/step - accuracy: 0.7594 - loss: 0.7517 - val_accuracy: 0.0975 - val_loss: 4.9099\n",
            "Epoch 58/100\n",
            "\u001b[1m375/375\u001b[0m \u001b[32m━━━━━━━━━━━━━━━━━━━━\u001b[0m\u001b[37m\u001b[0m \u001b[1m6s\u001b[0m 13ms/step - accuracy: 0.7671 - loss: 0.7293 - val_accuracy: 0.0990 - val_loss: 4.9663\n",
            "Epoch 59/100\n",
            "\u001b[1m375/375\u001b[0m \u001b[32m━━━━━━━━━━━━━━━━━━━━\u001b[0m\u001b[37m\u001b[0m \u001b[1m4s\u001b[0m 10ms/step - accuracy: 0.7693 - loss: 0.7220 - val_accuracy: 0.0994 - val_loss: 5.0665\n",
            "Epoch 60/100\n",
            "\u001b[1m375/375\u001b[0m \u001b[32m━━━━━━━━━━━━━━━━━━━━\u001b[0m\u001b[37m\u001b[0m \u001b[1m5s\u001b[0m 9ms/step - accuracy: 0.7703 - loss: 0.7130 - val_accuracy: 0.0982 - val_loss: 5.1254\n",
            "Epoch 61/100\n",
            "\u001b[1m375/375\u001b[0m \u001b[32m━━━━━━━━━━━━━━━━━━━━\u001b[0m\u001b[37m\u001b[0m \u001b[1m4s\u001b[0m 12ms/step - accuracy: 0.7783 - loss: 0.6969 - val_accuracy: 0.0982 - val_loss: 5.1925\n",
            "Epoch 62/100\n",
            "\u001b[1m375/375\u001b[0m \u001b[32m━━━━━━━━━━━━━━━━━━━━\u001b[0m\u001b[37m\u001b[0m \u001b[1m4s\u001b[0m 9ms/step - accuracy: 0.7855 - loss: 0.6783 - val_accuracy: 0.0977 - val_loss: 5.2798\n",
            "Epoch 63/100\n",
            "\u001b[1m375/375\u001b[0m \u001b[32m━━━━━━━━━━━━━━━━━━━━\u001b[0m\u001b[37m\u001b[0m \u001b[1m5s\u001b[0m 9ms/step - accuracy: 0.7864 - loss: 0.6699 - val_accuracy: 0.1023 - val_loss: 5.3160\n",
            "Epoch 64/100\n",
            "\u001b[1m375/375\u001b[0m \u001b[32m━━━━━━━━━━━━━━━━━━━━\u001b[0m\u001b[37m\u001b[0m \u001b[1m6s\u001b[0m 13ms/step - accuracy: 0.7888 - loss: 0.6572 - val_accuracy: 0.0961 - val_loss: 5.4166\n",
            "Epoch 65/100\n",
            "\u001b[1m375/375\u001b[0m \u001b[32m━━━━━━━━━━━━━━━━━━━━\u001b[0m\u001b[37m\u001b[0m \u001b[1m4s\u001b[0m 9ms/step - accuracy: 0.7964 - loss: 0.6433 - val_accuracy: 0.0985 - val_loss: 5.4626\n",
            "Epoch 66/100\n",
            "\u001b[1m375/375\u001b[0m \u001b[32m━━━━━━━━━━━━━━━━━━━━\u001b[0m\u001b[37m\u001b[0m \u001b[1m6s\u001b[0m 11ms/step - accuracy: 0.7986 - loss: 0.6303 - val_accuracy: 0.0991 - val_loss: 5.4942\n",
            "Epoch 67/100\n",
            "\u001b[1m375/375\u001b[0m \u001b[32m━━━━━━━━━━━━━━━━━━━━\u001b[0m\u001b[37m\u001b[0m \u001b[1m5s\u001b[0m 10ms/step - accuracy: 0.8082 - loss: 0.6110 - val_accuracy: 0.1021 - val_loss: 5.6252\n",
            "Epoch 68/100\n",
            "\u001b[1m375/375\u001b[0m \u001b[32m━━━━━━━━━━━━━━━━━━━━\u001b[0m\u001b[37m\u001b[0m \u001b[1m5s\u001b[0m 9ms/step - accuracy: 0.8059 - loss: 0.6079 - val_accuracy: 0.0988 - val_loss: 5.6663\n",
            "Epoch 69/100\n",
            "\u001b[1m375/375\u001b[0m \u001b[32m━━━━━━━━━━━━━━━━━━━━\u001b[0m\u001b[37m\u001b[0m \u001b[1m5s\u001b[0m 13ms/step - accuracy: 0.8147 - loss: 0.5838 - val_accuracy: 0.0974 - val_loss: 5.7740\n",
            "Epoch 70/100\n",
            "\u001b[1m375/375\u001b[0m \u001b[32m━━━━━━━━━━━━━━━━━━━━\u001b[0m\u001b[37m\u001b[0m \u001b[1m4s\u001b[0m 10ms/step - accuracy: 0.8179 - loss: 0.5768 - val_accuracy: 0.0994 - val_loss: 5.8336\n",
            "Epoch 71/100\n",
            "\u001b[1m375/375\u001b[0m \u001b[32m━━━━━━━━━━━━━━━━━━━━\u001b[0m\u001b[37m\u001b[0m \u001b[1m4s\u001b[0m 9ms/step - accuracy: 0.8245 - loss: 0.5611 - val_accuracy: 0.0993 - val_loss: 5.8624\n",
            "Epoch 72/100\n",
            "\u001b[1m375/375\u001b[0m \u001b[32m━━━━━━━━━━━━━━━━━━━━\u001b[0m\u001b[37m\u001b[0m \u001b[1m6s\u001b[0m 13ms/step - accuracy: 0.8217 - loss: 0.5558 - val_accuracy: 0.0982 - val_loss: 6.0612\n",
            "Epoch 73/100\n",
            "\u001b[1m375/375\u001b[0m \u001b[32m━━━━━━━━━━━━━━━━━━━━\u001b[0m\u001b[37m\u001b[0m \u001b[1m4s\u001b[0m 9ms/step - accuracy: 0.8320 - loss: 0.5414 - val_accuracy: 0.1002 - val_loss: 6.0182\n",
            "Epoch 74/100\n",
            "\u001b[1m375/375\u001b[0m \u001b[32m━━━━━━━━━━━━━━━━━━━━\u001b[0m\u001b[37m\u001b[0m \u001b[1m5s\u001b[0m 9ms/step - accuracy: 0.8289 - loss: 0.5326 - val_accuracy: 0.1016 - val_loss: 6.1176\n",
            "Epoch 75/100\n",
            "\u001b[1m375/375\u001b[0m \u001b[32m━━━━━━━━━━━━━━━━━━━━\u001b[0m\u001b[37m\u001b[0m \u001b[1m6s\u001b[0m 13ms/step - accuracy: 0.8387 - loss: 0.5188 - val_accuracy: 0.0997 - val_loss: 6.2045\n",
            "Epoch 76/100\n",
            "\u001b[1m375/375\u001b[0m \u001b[32m━━━━━━━━━━━━━━━━━━━━\u001b[0m\u001b[37m\u001b[0m \u001b[1m3s\u001b[0m 9ms/step - accuracy: 0.8394 - loss: 0.5104 - val_accuracy: 0.0988 - val_loss: 6.3272\n",
            "Epoch 77/100\n",
            "\u001b[1m375/375\u001b[0m \u001b[32m━━━━━━━━━━━━━━━━━━━━\u001b[0m\u001b[37m\u001b[0m \u001b[1m3s\u001b[0m 9ms/step - accuracy: 0.8465 - loss: 0.4972 - val_accuracy: 0.0997 - val_loss: 6.3514\n",
            "Epoch 78/100\n",
            "\u001b[1m375/375\u001b[0m \u001b[32m━━━━━━━━━━━━━━━━━━━━\u001b[0m\u001b[37m\u001b[0m \u001b[1m7s\u001b[0m 13ms/step - accuracy: 0.8495 - loss: 0.4856 - val_accuracy: 0.0978 - val_loss: 6.4565\n",
            "Epoch 79/100\n",
            "\u001b[1m375/375\u001b[0m \u001b[32m━━━━━━━━━━━━━━━━━━━━\u001b[0m\u001b[37m\u001b[0m \u001b[1m4s\u001b[0m 9ms/step - accuracy: 0.8545 - loss: 0.4787 - val_accuracy: 0.0975 - val_loss: 6.4861\n",
            "Epoch 80/100\n",
            "\u001b[1m375/375\u001b[0m \u001b[32m━━━━━━━━━━━━━━━━━━━━\u001b[0m\u001b[37m\u001b[0m \u001b[1m3s\u001b[0m 9ms/step - accuracy: 0.8550 - loss: 0.4649 - val_accuracy: 0.0982 - val_loss: 6.5593\n",
            "Epoch 81/100\n",
            "\u001b[1m375/375\u001b[0m \u001b[32m━━━━━━━━━━━━━━━━━━━━\u001b[0m\u001b[37m\u001b[0m \u001b[1m5s\u001b[0m 13ms/step - accuracy: 0.8559 - loss: 0.4592 - val_accuracy: 0.1001 - val_loss: 6.6807\n",
            "Epoch 82/100\n",
            "\u001b[1m375/375\u001b[0m \u001b[32m━━━━━━━━━━━━━━━━━━━━\u001b[0m\u001b[37m\u001b[0m \u001b[1m4s\u001b[0m 9ms/step - accuracy: 0.8593 - loss: 0.4493 - val_accuracy: 0.1016 - val_loss: 6.7702\n",
            "Epoch 83/100\n",
            "\u001b[1m375/375\u001b[0m \u001b[32m━━━━━━━━━━━━━━━━━━━━\u001b[0m\u001b[37m\u001b[0m \u001b[1m3s\u001b[0m 9ms/step - accuracy: 0.8629 - loss: 0.4418 - val_accuracy: 0.0992 - val_loss: 6.7970\n",
            "Epoch 84/100\n",
            "\u001b[1m375/375\u001b[0m \u001b[32m━━━━━━━━━━━━━━━━━━━━\u001b[0m\u001b[37m\u001b[0m \u001b[1m4s\u001b[0m 10ms/step - accuracy: 0.8673 - loss: 0.4313 - val_accuracy: 0.1018 - val_loss: 6.8255\n",
            "Epoch 85/100\n",
            "\u001b[1m375/375\u001b[0m \u001b[32m━━━━━━━━━━━━━━━━━━━━\u001b[0m\u001b[37m\u001b[0m \u001b[1m5s\u001b[0m 11ms/step - accuracy: 0.8722 - loss: 0.4233 - val_accuracy: 0.1009 - val_loss: 6.9311\n",
            "Epoch 86/100\n",
            "\u001b[1m375/375\u001b[0m \u001b[32m━━━━━━━━━━━━━━━━━━━━\u001b[0m\u001b[37m\u001b[0m \u001b[1m3s\u001b[0m 9ms/step - accuracy: 0.8748 - loss: 0.4150 - val_accuracy: 0.0983 - val_loss: 7.0352\n",
            "Epoch 87/100\n",
            "\u001b[1m375/375\u001b[0m \u001b[32m━━━━━━━━━━━━━━━━━━━━\u001b[0m\u001b[37m\u001b[0m \u001b[1m7s\u001b[0m 14ms/step - accuracy: 0.8771 - loss: 0.4066 - val_accuracy: 0.0966 - val_loss: 7.1095\n",
            "Epoch 88/100\n",
            "\u001b[1m375/375\u001b[0m \u001b[32m━━━━━━━━━━━━━━━━━━━━\u001b[0m\u001b[37m\u001b[0m \u001b[1m4s\u001b[0m 9ms/step - accuracy: 0.8785 - loss: 0.3974 - val_accuracy: 0.0972 - val_loss: 7.1982\n",
            "Epoch 89/100\n",
            "\u001b[1m375/375\u001b[0m \u001b[32m━━━━━━━━━━━━━━━━━━━━\u001b[0m\u001b[37m\u001b[0m \u001b[1m4s\u001b[0m 9ms/step - accuracy: 0.8791 - loss: 0.3942 - val_accuracy: 0.0980 - val_loss: 7.2872\n",
            "Epoch 90/100\n",
            "\u001b[1m375/375\u001b[0m \u001b[32m━━━━━━━━━━━━━━━━━━━━\u001b[0m\u001b[37m\u001b[0m \u001b[1m4s\u001b[0m 11ms/step - accuracy: 0.8788 - loss: 0.3909 - val_accuracy: 0.0988 - val_loss: 7.3223\n",
            "Epoch 91/100\n",
            "\u001b[1m375/375\u001b[0m \u001b[32m━━━━━━━━━━━━━━━━━━━━\u001b[0m\u001b[37m\u001b[0m \u001b[1m4s\u001b[0m 11ms/step - accuracy: 0.8814 - loss: 0.3840 - val_accuracy: 0.0961 - val_loss: 7.3875\n",
            "Epoch 92/100\n",
            "\u001b[1m375/375\u001b[0m \u001b[32m━━━━━━━━━━━━━━━━━━━━\u001b[0m\u001b[37m\u001b[0m \u001b[1m4s\u001b[0m 10ms/step - accuracy: 0.8860 - loss: 0.3698 - val_accuracy: 0.0996 - val_loss: 7.4816\n",
            "Epoch 93/100\n",
            "\u001b[1m375/375\u001b[0m \u001b[32m━━━━━━━━━━━━━━━━━━━━\u001b[0m\u001b[37m\u001b[0m \u001b[1m4s\u001b[0m 10ms/step - accuracy: 0.8882 - loss: 0.3704 - val_accuracy: 0.0981 - val_loss: 7.6157\n",
            "Epoch 94/100\n",
            "\u001b[1m375/375\u001b[0m \u001b[32m━━━━━━━━━━━━━━━━━━━━\u001b[0m\u001b[37m\u001b[0m \u001b[1m5s\u001b[0m 14ms/step - accuracy: 0.8882 - loss: 0.3649 - val_accuracy: 0.1011 - val_loss: 7.6739\n",
            "Epoch 95/100\n",
            "\u001b[1m375/375\u001b[0m \u001b[32m━━━━━━━━━━━━━━━━━━━━\u001b[0m\u001b[37m\u001b[0m \u001b[1m4s\u001b[0m 9ms/step - accuracy: 0.8928 - loss: 0.3503 - val_accuracy: 0.0993 - val_loss: 7.6675\n",
            "Epoch 96/100\n",
            "\u001b[1m375/375\u001b[0m \u001b[32m━━━━━━━━━━━━━━━━━━━━\u001b[0m\u001b[37m\u001b[0m \u001b[1m4s\u001b[0m 10ms/step - accuracy: 0.8959 - loss: 0.3453 - val_accuracy: 0.1018 - val_loss: 7.7720\n",
            "Epoch 97/100\n",
            "\u001b[1m375/375\u001b[0m \u001b[32m━━━━━━━━━━━━━━━━━━━━\u001b[0m\u001b[37m\u001b[0m \u001b[1m6s\u001b[0m 13ms/step - accuracy: 0.8986 - loss: 0.3343 - val_accuracy: 0.1002 - val_loss: 7.8796\n",
            "Epoch 98/100\n",
            "\u001b[1m375/375\u001b[0m \u001b[32m━━━━━━━━━━━━━━━━━━━━\u001b[0m\u001b[37m\u001b[0m \u001b[1m4s\u001b[0m 9ms/step - accuracy: 0.8997 - loss: 0.3328 - val_accuracy: 0.0971 - val_loss: 7.9885\n",
            "Epoch 99/100\n",
            "\u001b[1m375/375\u001b[0m \u001b[32m━━━━━━━━━━━━━━━━━━━━\u001b[0m\u001b[37m\u001b[0m \u001b[1m4s\u001b[0m 9ms/step - accuracy: 0.8993 - loss: 0.3299 - val_accuracy: 0.0964 - val_loss: 8.0133\n",
            "Epoch 100/100\n",
            "\u001b[1m375/375\u001b[0m \u001b[32m━━━━━━━━━━━━━━━━━━━━\u001b[0m\u001b[37m\u001b[0m \u001b[1m7s\u001b[0m 13ms/step - accuracy: 0.9046 - loss: 0.3178 - val_accuracy: 0.1022 - val_loss: 8.0803\n"
          ]
        },
        {
          "output_type": "execute_result",
          "data": {
            "text/plain": [
              "<keras.src.callbacks.history.History at 0x7a48975cd5d0>"
            ]
          },
          "metadata": {},
          "execution_count": 10
        }
      ]
    },
    {
      "cell_type": "markdown",
      "source": [
        "### 경사하강법의 핵심파라미터 튜닝"
      ],
      "metadata": {
        "id": "GJakrGGN4Sgc"
      }
    },
    {
      "cell_type": "code",
      "source": [
        "(train_images, train_labels) , _=mnist.load_data()\n",
        "train_images =  train_images.reshape(60000,28*28)\n",
        "train_images = train_images.astype(\"float32\")/255\n",
        "\n",
        "model = keras.Sequential([\n",
        "    layers.Dense(512,activation=\"relu\"),\n",
        "    layers.Dense(10,activation=\"softmax\")\n",
        "])\n",
        "model.compile(optimizer=keras.optimizers.RMSprop(1,),\n",
        "              loss = \"sparse_categorical_crossentropy\",\n",
        "              metrics=[\"accuracy\"])\n",
        "model.fit(train_images,train_labels,\n",
        "          epochs=10,\n",
        "          batch_size=128,\n",
        "          validation_split=0.2)"
      ],
      "metadata": {
        "id": "4m58OP5zxfr5"
      },
      "execution_count": null,
      "outputs": []
    },
    {
      "cell_type": "markdown",
      "source": [
        "해당 모델은 30~40% 정도의 훈련 정확도와 검증 정확도에 빠르게 도달하지만 이를 넘어서지 못합니다."
      ],
      "metadata": {
        "id": "JGzNESqH5Jah"
      }
    },
    {
      "cell_type": "code",
      "source": [
        "model = keras.Sequential([\n",
        "    layers.Dense(512, activation=\"relu\"),\n",
        "    layers.Dense(10, activation=\"softmax\")\n",
        "])\n",
        "model.compile(optimizer=keras.optimizers.RMSprop(1e-2),\n",
        "              loss=\"sparse_categorical_crossentropy\",\n",
        "              metrics=[\"accuracy\"])\n",
        "model.fit(train_images, train_labels,\n",
        "          epochs=10,\n",
        "          batch_size=128,\n",
        "          validation_split=0.2)"
      ],
      "metadata": {
        "id": "PloDSCvx4_Io"
      },
      "execution_count": null,
      "outputs": []
    },
    {
      "cell_type": "markdown",
      "source": [
        "모델용량 늘리기"
      ],
      "metadata": {
        "id": "EWtl5_dg7orU"
      }
    },
    {
      "cell_type": "code",
      "source": [
        "model = keras.Sequential([layers.Dense(10,activation=\"softmax\")])\n",
        "model.compile(optimizer=\"rmsprop\",\n",
        "              loss=\"sparse_categorical_crossentropy\",\n",
        "              metrics=[\"accuracy\"])\n",
        "model.fit(train_images,train_labels,\n",
        "          epochs=10,\n",
        "          batch_size=128,\n",
        "          validation_split=0.2)"
      ],
      "metadata": {
        "id": "6fJvyhir7rcL"
      },
      "execution_count": null,
      "outputs": []
    },
    {
      "cell_type": "code",
      "source": [
        "import matplotlib.pyplot as plt\n",
        "val_loss = history_small_model.history[\"val_loss\"]\n",
        "epochs = range(1, 21)\n",
        "plt.plot(epochs, val_loss, \"b--\",\n",
        "         label=\"Validation loss\")\n",
        "plt.title(\"Effect of insufficient model capacity on validation loss\")\n",
        "plt.xlabel(\"Epochs\")\n",
        "plt.ylabel(\"Loss\")\n",
        "plt.legend()\n",
        "plt.show()"
      ],
      "metadata": {
        "colab": {
          "base_uri": "https://localhost:8080/",
          "height": 220
        },
        "id": "9vrvESAr8Zos",
        "outputId": "0dd4f985-7ac2-4d2a-a721-6e261030b62c"
      },
      "execution_count": 11,
      "outputs": [
        {
          "output_type": "error",
          "ename": "NameError",
          "evalue": "name 'history_small_model' is not defined",
          "traceback": [
            "\u001b[0;31m---------------------------------------------------------------------------\u001b[0m",
            "\u001b[0;31mNameError\u001b[0m                                 Traceback (most recent call last)",
            "\u001b[0;32m<ipython-input-11-90dcdab1b838>\u001b[0m in \u001b[0;36m<cell line: 2>\u001b[0;34m()\u001b[0m\n\u001b[1;32m      1\u001b[0m \u001b[0;32mimport\u001b[0m \u001b[0mmatplotlib\u001b[0m\u001b[0;34m.\u001b[0m\u001b[0mpyplot\u001b[0m \u001b[0;32mas\u001b[0m \u001b[0mplt\u001b[0m\u001b[0;34m\u001b[0m\u001b[0;34m\u001b[0m\u001b[0m\n\u001b[0;32m----> 2\u001b[0;31m \u001b[0mval_loss\u001b[0m \u001b[0;34m=\u001b[0m \u001b[0mhistory_small_model\u001b[0m\u001b[0;34m.\u001b[0m\u001b[0mhistory\u001b[0m\u001b[0;34m[\u001b[0m\u001b[0;34m\"val_loss\"\u001b[0m\u001b[0;34m]\u001b[0m\u001b[0;34m\u001b[0m\u001b[0;34m\u001b[0m\u001b[0m\n\u001b[0m\u001b[1;32m      3\u001b[0m \u001b[0mepochs\u001b[0m \u001b[0;34m=\u001b[0m \u001b[0mrange\u001b[0m\u001b[0;34m(\u001b[0m\u001b[0;36m1\u001b[0m\u001b[0;34m,\u001b[0m \u001b[0;36m21\u001b[0m\u001b[0;34m)\u001b[0m\u001b[0;34m\u001b[0m\u001b[0;34m\u001b[0m\u001b[0m\n\u001b[1;32m      4\u001b[0m plt.plot(epochs, val_loss, \"b--\",\n\u001b[1;32m      5\u001b[0m          label=\"Validation loss\")\n",
            "\u001b[0;31mNameError\u001b[0m: name 'history_small_model' is not defined"
          ]
        }
      ]
    },
    {
      "cell_type": "code",
      "source": [
        "model = keras.Sequential([\n",
        "    layers.Dense(96, activation=\"relu\"),\n",
        "    layers.Dense(96, activation=\"relu\"),\n",
        "    layers.Dense(10, activation=\"softmax\"),\n",
        "])\n",
        "model.compile(optimizer=\"rmsprop\",\n",
        "              loss=\"sparse_categorical_crossentropy\",\n",
        "              metrics=[\"accuracy\"])\n",
        "history_large_model = model.fit(\n",
        "    train_images, train_labels,\n",
        "    epochs=20,\n",
        "    batch_size=128,\n",
        "    validation_split=0.2)"
      ],
      "metadata": {
        "id": "QUJfHFDIBEAB"
      },
      "execution_count": null,
      "outputs": []
    },
    {
      "cell_type": "markdown",
      "source": [
        "###가중치 규제\n",
        "모델의 과대적합을 방지하기 위한 방법중 하나이며 모델이 지나치게 복잡해지거나 훈련데이터에 대해서 치중되지 않도록 합니다.\n",
        "\n",
        "L2 규제:  모델의 가중치의 제곱합을 손실 함수에 추가하는 방식이다.\n",
        "모델의 가중치를 제곱합을 손실함수에 추가하는방식\n",
        "-> 즉, 가중치가 너무 커지는것을 방지하여 모델이 복잡해지는 것을 막으며 손실 함수에 가중치의 제곱을 추가함으로서 큰 가중치를 패널티로 적용\n",
        "예를들어\n",
        "\n",
        "가중치 벡터 $w= [0.5,1.0,-0.8,0.0,2.5]$\n",
        "\n",
        "손실함수(기본손실) = 1.0\n",
        "\n",
        "규제강도 : 0.1\n",
        "\n",
        "$λ∑w^2= 0.1 *(0.5^2 + 1.0^2+(-0.8)^2+2.5^2) $\n",
        "\n",
        "따라서 L2규제가 적용된 최종손실함수는 $L2loss = originalLoss  + L2 penalty = 1.0 +  0.814 = 1.814$ 이다.\n",
        "\n",
        "\n",
        "\n",
        "L1 규제: 모델의 가중치의 절댓값 합을 손실 함수에 추가하는 방식이다.\n",
        "\n",
        "해당 규제는 희소성을 유도하며 일부 가중치를 0으로 만들어 불필요한 가중치가 제거된다.\n",
        "\n",
        "$L1 penalty = λ∑∣w∣=0.1×(∣0.5∣+∣1.0∣+∣−0.8∣+∣0.0∣+∣2.5∣)$\n",
        "\n",
        "$=0.1×(0.5+1.0+0.8+0.0+2.5)=0.1×4.8=0.48$\n",
        "\n",
        "$L1 loss=original loss+L1 penalty=1.0+0.48=1.48$ 으로 볼 수 있다.\n",
        "\n",
        "이를 코드에 적용시키면 아래와 같다"
      ],
      "metadata": {
        "id": "8euSEmVj_sjG"
      }
    },
    {
      "cell_type": "code",
      "source": [
        "from tensorflow.keras.datasets import imdb\n",
        "(train_data, train_labels), _ = imdb.load_data(num_words=10000)\n",
        "from tensorflow.keras import regularizers\n",
        "\n",
        "model.keras.Sequential([\n",
        "    layers.Dense(16, kernel_regularizer=regularizers.l2(0.001),\n",
        "                 activation=\"relu\", input_shape=(10000,)),\n",
        "    layers.Dense(16, kernel_regularizer=regularizers.l2(0.001),\n",
        "                 activation=\"relu\"),\n",
        "    layers.Dense(1, activation=\"sigmoid\")])\n",
        "\n",
        "model.compile(optimizer=\"rmsprop\",\n",
        "              loss=\"binary_crossentropy\",\n",
        "              metrics=[\"accuracy\"])\n",
        "history_12_reg  = model.fit(train_data, train_labels,epochs=20, batch_size = 512  , validation_split = 0.4 )\n"
      ],
      "metadata": {
        "id": "u5t99UKPKe0Y"
      },
      "execution_count": null,
      "outputs": []
    },
    {
      "cell_type": "markdown",
      "source": [
        "### 케라스 가중치 규제\n",
        "\n"
      ],
      "metadata": {
        "id": "Rpo7Rv4AMZ-n"
      }
    },
    {
      "cell_type": "code",
      "source": [
        "from tensorflow.keras import regularizers\n",
        "regularizers.l1(0.001)\n",
        "regularizers.l2(0.001)\n",
        "regularizers.l1_l2(l1=0.001, l2=0.001)\n"
      ],
      "metadata": {
        "id": "nY9H2bf0MjeA"
      },
      "execution_count": null,
      "outputs": []
    },
    {
      "cell_type": "markdown",
      "source": [
        "###드롭아웃\n",
        "\n",
        "드롭아웃이란 모델 층에서 훈련하는 동안 무작위로 층의 출력 특성을 일부 제외시킵니다. 예를 들어 어떤 입력에 대해 $[0.2,0.5,1,3,2]$ 벡터를 출력한다면  드롭아웃을 적용시 이 벡터의 일부가 무작위로 0으로 바뀝니다. 드롭아웃의 비율은 0이 될특성의 비율입니다.\n",
        "\n",
        "보통 0.2 ~ 0.5 사이로 지정되는데 테스트 단계에서는 어떤 유닛도 드롭아웃되지 않습니다. 그 대신 층의 출력을 드롭아웃 비율에 비례해여 줄여줍니다. 훈련할 때 보다 더 많으 유닛이 활성화되기 때문입니다.\n",
        "\n",
        "아래는 드롭아웃의 예시입니다.\n",
        "\n",
        "$입력값 :  [1.0,0.5,-0.2]$\n",
        "\n",
        "$가중치 : [0.5 , -0.3 , 0.8]$\n",
        "\n",
        "드롭아웃을 적용하게 되면  입력값은 랜덤하게\n",
        "\n",
        "확률이 0.5 이므로 드롭아웃이 적용된 마스크가 $[1,0,1]$인 경우 두번째 뉴런이 비활성화 됩니다.\n",
        "\n",
        "$드롭아웃 후 입력값 :  [1.0*1  ,0.5*0 , 0.2*1 ] =  [1.0,0,-0.2]$\n",
        "이런식입니다.\n",
        "\n",
        "코드로 표현하면 아래와 같습니다."
      ],
      "metadata": {
        "id": "7eNOlkRmOchZ"
      }
    },
    {
      "cell_type": "code",
      "source": [
        "model = keras.Sequential(\n",
        "    [\n",
        "        layers.Dense(16,activation= \"relu\"),\n",
        "        layers.Dropout(0.5),\n",
        "        layers.Dense(16,activation= \"relu\"),\n",
        "        layers.Dropout(0.5),\n",
        "        layer.Dense(1, activation=\"softmax\")\n",
        "    ]\n",
        "\n",
        ")\n",
        "model.compile(optimizer=\"rmsprop\",loss = \"binary_crossentropy\", metrics=[\"accuracy\"])\n",
        "model.fit(train_data,train_labels,epochs=20,batch_size=512,validation_split=0.4)"
      ],
      "metadata": {
        "id": "w914uPBdNPxV"
      },
      "execution_count": null,
      "outputs": []
    }
  ]
}