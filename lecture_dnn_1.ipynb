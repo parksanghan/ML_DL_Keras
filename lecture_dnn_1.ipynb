{
  "cells": [
    {
      "cell_type": "code",
      "execution_count": null,
      "id": "5670a73c-8026-44d1-95ba-cb06f312e2da",
      "metadata": {
        "id": "5670a73c-8026-44d1-95ba-cb06f312e2da"
      },
      "outputs": [],
      "source": [
        "import numpy as np"
      ]
    },
    {
      "cell_type": "code",
      "execution_count": null,
      "id": "41e559ff-e742-4b8a-8cb1-e0fc0f873b94",
      "metadata": {
        "id": "41e559ff-e742-4b8a-8cb1-e0fc0f873b94"
      },
      "outputs": [],
      "source": [
        "a = np.array([\n",
        "    [1,2,3],\n",
        "    [4,5,6]\n",
        "])"
      ]
    },
    {
      "cell_type": "code",
      "execution_count": null,
      "id": "1aa2a200-b093-41ed-9f42-b0239d1fb312",
      "metadata": {
        "id": "1aa2a200-b093-41ed-9f42-b0239d1fb312"
      },
      "outputs": [],
      "source": [
        "b = np.array([\n",
        "    [1,2],\n",
        "    [3,4],\n",
        "    [5,6]\n",
        "])"
      ]
    },
    {
      "cell_type": "code",
      "execution_count": null,
      "id": "56a750b2-6f27-4305-b4f5-f61a9af428da",
      "metadata": {
        "id": "56a750b2-6f27-4305-b4f5-f61a9af428da",
        "outputId": "d88c145c-c003-45b1-8a61-06f42aa0a1d3"
      },
      "outputs": [
        {
          "data": {
            "text/plain": [
              "(22, 28)"
            ]
          },
          "execution_count": 4,
          "metadata": {},
          "output_type": "execute_result"
        }
      ],
      "source": [
        "# 2X3  , 3X2\n",
        "(1+6+15),(2+8+18)"
      ]
    },
    {
      "cell_type": "code",
      "execution_count": null,
      "id": "5e7e554c-b499-4120-9c72-fdd1fcd66974",
      "metadata": {
        "id": "5e7e554c-b499-4120-9c72-fdd1fcd66974"
      },
      "outputs": [],
      "source": [
        "c = np.dot(a,b)"
      ]
    },
    {
      "cell_type": "code",
      "execution_count": null,
      "id": "acd7bbda-26ba-4c4e-9151-ef372125e0e4",
      "metadata": {
        "id": "acd7bbda-26ba-4c4e-9151-ef372125e0e4",
        "outputId": "a63f55cb-3e4e-4c03-ba61-4ac4821955ff"
      },
      "outputs": [
        {
          "name": "stdout",
          "output_type": "stream",
          "text": [
            "[[22 28]\n",
            " [49 64]]\n"
          ]
        }
      ],
      "source": [
        "print(c)"
      ]
    },
    {
      "cell_type": "code",
      "execution_count": null,
      "id": "fb0db4fc-7c07-43d2-8526-99599dd12fe3",
      "metadata": {
        "id": "fb0db4fc-7c07-43d2-8526-99599dd12fe3",
        "outputId": "24118318-2e2c-49f0-a0fb-35851e9edfcc"
      },
      "outputs": [
        {
          "data": {
            "text/plain": [
              "array([[22, 49],\n",
              "       [28, 64]])"
            ]
          },
          "execution_count": 7,
          "metadata": {},
          "output_type": "execute_result"
        }
      ],
      "source": [
        "c.T"
      ]
    },
    {
      "cell_type": "code",
      "execution_count": null,
      "id": "ed4ad2d7-a2c9-444a-9bdd-0a4cf1c43726",
      "metadata": {
        "id": "ed4ad2d7-a2c9-444a-9bdd-0a4cf1c43726"
      },
      "outputs": [],
      "source": [
        "import matplotlib.pyplot as plt"
      ]
    },
    {
      "cell_type": "code",
      "execution_count": null,
      "id": "6fe0fdfb-0704-4352-bc2c-24c1428bcd3b",
      "metadata": {
        "id": "6fe0fdfb-0704-4352-bc2c-24c1428bcd3b"
      },
      "outputs": [],
      "source": [
        "data_file = open('./data/mnist_train_100.csv','r')\n",
        "data_list = data_file.readlines()\n",
        "data_file.close()"
      ]
    },
    {
      "cell_type": "code",
      "execution_count": null,
      "id": "521d08b7-abdc-4c59-b88c-907bcd3a4ae7",
      "metadata": {
        "id": "521d08b7-abdc-4c59-b88c-907bcd3a4ae7",
        "outputId": "a9b43767-d33f-4a76-d546-5d0e1b4093cd"
      },
      "outputs": [
        {
          "data": {
            "text/plain": [
              "100"
            ]
          },
          "execution_count": 10,
          "metadata": {},
          "output_type": "execute_result"
        }
      ],
      "source": [
        "len(data_list)"
      ]
    },
    {
      "cell_type": "code",
      "execution_count": null,
      "id": "37b42ad6-99ba-47eb-9332-48d3317962fd",
      "metadata": {
        "id": "37b42ad6-99ba-47eb-9332-48d3317962fd",
        "outputId": "2735e79f-7d75-4cc7-d92a-b75fe7d8d973"
      },
      "outputs": [
        {
          "data": {
            "text/plain": [
              "785"
            ]
          },
          "execution_count": 11,
          "metadata": {},
          "output_type": "execute_result"
        }
      ],
      "source": [
        "len(data_list[0].split(','))"
      ]
    },
    {
      "cell_type": "code",
      "execution_count": null,
      "id": "3d55d832-6f56-4331-84c0-d5b27a33c21d",
      "metadata": {
        "id": "3d55d832-6f56-4331-84c0-d5b27a33c21d"
      },
      "outputs": [],
      "source": [
        "all_values = data_list[0][2:-1].split(',')"
      ]
    },
    {
      "cell_type": "code",
      "execution_count": null,
      "id": "ece77cda-cfef-4aa4-ab0b-e175f64a3e50",
      "metadata": {
        "id": "ece77cda-cfef-4aa4-ab0b-e175f64a3e50",
        "outputId": "3bd28d71-fbfd-45d1-de39-46f50660f2bc"
      },
      "outputs": [
        {
          "name": "stdout",
          "output_type": "stream",
          "text": [
            "['0', '0', '0', '0', '0', '0', '0', '0', '0', '0', '0', '0', '0', '0', '0', '0', '0', '0', '0', '0', '0', '0', '0', '0', '0', '0', '0', '0', '0', '0', '0', '0', '0', '0', '0', '0', '0', '0', '0', '0', '0', '0', '0', '0', '0', '0', '0', '0', '0', '0', '0', '0', '0', '0', '0', '0', '0', '0', '0', '0', '0', '0', '0', '0', '0', '0', '0', '0', '0', '0', '0', '0', '0', '0', '0', '0', '0', '0', '0', '0', '0', '0', '0', '0', '0', '0', '0', '0', '0', '0', '0', '0', '0', '0', '0', '0', '0', '0', '0', '0', '0', '0', '0', '0', '0', '0', '0', '0', '0', '0', '0', '0', '0', '0', '0', '0', '0', '0', '0', '0', '0', '0', '0', '0', '0', '0', '0', '0', '0', '0', '0', '0', '0', '0', '0', '0', '0', '0', '0', '0', '0', '0', '0', '0', '0', '0', '0', '0', '0', '0', '0', '0', '3', '18', '18', '18', '126', '136', '175', '26', '166', '255', '247', '127', '0', '0', '0', '0', '0', '0', '0', '0', '0', '0', '0', '0', '30', '36', '94', '154', '170', '253', '253', '253', '253', '253', '225', '172', '253', '242', '195', '64', '0', '0', '0', '0', '0', '0', '0', '0', '0', '0', '0', '49', '238', '253', '253', '253', '253', '253', '253', '253', '253', '251', '93', '82', '82', '56', '39', '0', '0', '0', '0', '0', '0', '0', '0', '0', '0', '0', '0', '18', '219', '253', '253', '253', '253', '253', '198', '182', '247', '241', '0', '0', '0', '0', '0', '0', '0', '0', '0', '0', '0', '0', '0', '0', '0', '0', '0', '0', '80', '156', '107', '253', '253', '205', '11', '0', '43', '154', '0', '0', '0', '0', '0', '0', '0', '0', '0', '0', '0', '0', '0', '0', '0', '0', '0', '0', '0', '14', '1', '154', '253', '90', '0', '0', '0', '0', '0', '0', '0', '0', '0', '0', '0', '0', '0', '0', '0', '0', '0', '0', '0', '0', '0', '0', '0', '0', '0', '139', '253', '190', '2', '0', '0', '0', '0', '0', '0', '0', '0', '0', '0', '0', '0', '0', '0', '0', '0', '0', '0', '0', '0', '0', '0', '0', '0', '11', '190', '253', '70', '0', '0', '0', '0', '0', '0', '0', '0', '0', '0', '0', '0', '0', '0', '0', '0', '0', '0', '0', '0', '0', '0', '0', '0', '0', '35', '241', '225', '160', '108', '1', '0', '0', '0', '0', '0', '0', '0', '0', '0', '0', '0', '0', '0', '0', '0', '0', '0', '0', '0', '0', '0', '0', '0', '81', '240', '253', '253', '119', '25', '0', '0', '0', '0', '0', '0', '0', '0', '0', '0', '0', '0', '0', '0', '0', '0', '0', '0', '0', '0', '0', '0', '0', '45', '186', '253', '253', '150', '27', '0', '0', '0', '0', '0', '0', '0', '0', '0', '0', '0', '0', '0', '0', '0', '0', '0', '0', '0', '0', '0', '0', '0', '16', '93', '252', '253', '187', '0', '0', '0', '0', '0', '0', '0', '0', '0', '0', '0', '0', '0', '0', '0', '0', '0', '0', '0', '0', '0', '0', '0', '0', '0', '249', '253', '249', '64', '0', '0', '0', '0', '0', '0', '0', '0', '0', '0', '0', '0', '0', '0', '0', '0', '0', '0', '0', '0', '0', '46', '130', '183', '253', '253', '207', '2', '0', '0', '0', '0', '0', '0', '0', '0', '0', '0', '0', '0', '0', '0', '0', '0', '0', '0', '0', '39', '148', '229', '253', '253', '253', '250', '182', '0', '0', '0', '0', '0', '0', '0', '0', '0', '0', '0', '0', '0', '0', '0', '0', '0', '0', '24', '114', '221', '253', '253', '253', '253', '201', '78', '0', '0', '0', '0', '0', '0', '0', '0', '0', '0', '0', '0', '0', '0', '0', '0', '0', '23', '66', '213', '253', '253', '253', '253', '198', '81', '2', '0', '0', '0', '0', '0', '0', '0', '0', '0', '0', '0', '0', '0', '0', '0', '0', '18', '171', '219', '253', '253', '253', '253', '195', '80', '9', '0', '0', '0', '0', '0', '0', '0', '0', '0', '0', '0', '0', '0', '0', '0', '0', '55', '172', '226', '253', '253', '253', '253', '244', '133', '11', '0', '0', '0', '0', '0', '0', '0', '0', '0', '0', '0', '0', '0', '0', '0', '0', '0', '0', '136', '253', '253', '253', '212', '135', '132', '16', '0', '0', '0', '0', '0', '0', '0', '0', '0', '0', '0', '0', '0', '0', '0', '0', '0', '0', '0', '0', '0', '0', '0', '0', '0', '0', '0', '0', '0', '0', '0', '0', '0', '0', '0', '0', '0', '0', '0', '0', '0', '0', '0', '0', '0', '0', '0', '0', '0', '0', '0', '0', '0', '0', '0', '0', '0', '0', '0', '0', '0', '0', '0', '0', '0', '0', '0', '0', '0', '0', '0', '0', '0', '0', '0', '0', '0', '0', '0', '0', '0', '0', '0', '0', '0', '0', '0', '0', '0', '0', '0', '0', '0', '0', '0', '0', '0', '0', '0', '0']\n"
          ]
        }
      ],
      "source": [
        "print(all_values)"
      ]
    },
    {
      "cell_type": "code",
      "execution_count": null,
      "id": "cc358079-e84d-45c3-b35c-30948ff958e9",
      "metadata": {
        "id": "cc358079-e84d-45c3-b35c-30948ff958e9"
      },
      "outputs": [],
      "source": [
        "image_array = np.asfarray(all_values).reshape((28,28))"
      ]
    },
    {
      "cell_type": "code",
      "execution_count": null,
      "id": "c39fac44-b78b-4bff-8d15-dcf1084a0acb",
      "metadata": {
        "id": "c39fac44-b78b-4bff-8d15-dcf1084a0acb",
        "outputId": "46f75644-1b3a-4f0a-cf45-58b551531605"
      },
      "outputs": [
        {
          "name": "stdout",
          "output_type": "stream",
          "text": [
            "[[  0.   0.   0.   0.   0.   0.   0.   0.   0.   0.   0.   0.   0.   0.\n",
            "    0.   0.   0.   0.   0.   0.   0.   0.   0.   0.   0.   0.   0.   0.]\n",
            " [  0.   0.   0.   0.   0.   0.   0.   0.   0.   0.   0.   0.   0.   0.\n",
            "    0.   0.   0.   0.   0.   0.   0.   0.   0.   0.   0.   0.   0.   0.]\n",
            " [  0.   0.   0.   0.   0.   0.   0.   0.   0.   0.   0.   0.   0.   0.\n",
            "    0.   0.   0.   0.   0.   0.   0.   0.   0.   0.   0.   0.   0.   0.]\n",
            " [  0.   0.   0.   0.   0.   0.   0.   0.   0.   0.   0.   0.   0.   0.\n",
            "    0.   0.   0.   0.   0.   0.   0.   0.   0.   0.   0.   0.   0.   0.]\n",
            " [  0.   0.   0.   0.   0.   0.   0.   0.   0.   0.   0.   0.   0.   0.\n",
            "    0.   0.   0.   0.   0.   0.   0.   0.   0.   0.   0.   0.   0.   0.]\n",
            " [  0.   0.   0.   0.   0.   0.   0.   0.   0.   0.   0.   0.   3.  18.\n",
            "   18.  18. 126. 136. 175.  26. 166. 255. 247. 127.   0.   0.   0.   0.]\n",
            " [  0.   0.   0.   0.   0.   0.   0.   0.  30.  36.  94. 154. 170. 253.\n",
            "  253. 253. 253. 253. 225. 172. 253. 242. 195.  64.   0.   0.   0.   0.]\n",
            " [  0.   0.   0.   0.   0.   0.   0.  49. 238. 253. 253. 253. 253. 253.\n",
            "  253. 253. 253. 251.  93.  82.  82.  56.  39.   0.   0.   0.   0.   0.]\n",
            " [  0.   0.   0.   0.   0.   0.   0.  18. 219. 253. 253. 253. 253. 253.\n",
            "  198. 182. 247. 241.   0.   0.   0.   0.   0.   0.   0.   0.   0.   0.]\n",
            " [  0.   0.   0.   0.   0.   0.   0.   0.  80. 156. 107. 253. 253. 205.\n",
            "   11.   0.  43. 154.   0.   0.   0.   0.   0.   0.   0.   0.   0.   0.]\n",
            " [  0.   0.   0.   0.   0.   0.   0.   0.   0.  14.   1. 154. 253.  90.\n",
            "    0.   0.   0.   0.   0.   0.   0.   0.   0.   0.   0.   0.   0.   0.]\n",
            " [  0.   0.   0.   0.   0.   0.   0.   0.   0.   0.   0. 139. 253. 190.\n",
            "    2.   0.   0.   0.   0.   0.   0.   0.   0.   0.   0.   0.   0.   0.]\n",
            " [  0.   0.   0.   0.   0.   0.   0.   0.   0.   0.   0.  11. 190. 253.\n",
            "   70.   0.   0.   0.   0.   0.   0.   0.   0.   0.   0.   0.   0.   0.]\n",
            " [  0.   0.   0.   0.   0.   0.   0.   0.   0.   0.   0.   0.  35. 241.\n",
            "  225. 160. 108.   1.   0.   0.   0.   0.   0.   0.   0.   0.   0.   0.]\n",
            " [  0.   0.   0.   0.   0.   0.   0.   0.   0.   0.   0.   0.   0.  81.\n",
            "  240. 253. 253. 119.  25.   0.   0.   0.   0.   0.   0.   0.   0.   0.]\n",
            " [  0.   0.   0.   0.   0.   0.   0.   0.   0.   0.   0.   0.   0.   0.\n",
            "   45. 186. 253. 253. 150.  27.   0.   0.   0.   0.   0.   0.   0.   0.]\n",
            " [  0.   0.   0.   0.   0.   0.   0.   0.   0.   0.   0.   0.   0.   0.\n",
            "    0.  16.  93. 252. 253. 187.   0.   0.   0.   0.   0.   0.   0.   0.]\n",
            " [  0.   0.   0.   0.   0.   0.   0.   0.   0.   0.   0.   0.   0.   0.\n",
            "    0.   0.   0. 249. 253. 249.  64.   0.   0.   0.   0.   0.   0.   0.]\n",
            " [  0.   0.   0.   0.   0.   0.   0.   0.   0.   0.   0.   0.   0.   0.\n",
            "   46. 130. 183. 253. 253. 207.   2.   0.   0.   0.   0.   0.   0.   0.]\n",
            " [  0.   0.   0.   0.   0.   0.   0.   0.   0.   0.   0.   0.  39. 148.\n",
            "  229. 253. 253. 253. 250. 182.   0.   0.   0.   0.   0.   0.   0.   0.]\n",
            " [  0.   0.   0.   0.   0.   0.   0.   0.   0.   0.  24. 114. 221. 253.\n",
            "  253. 253. 253. 201.  78.   0.   0.   0.   0.   0.   0.   0.   0.   0.]\n",
            " [  0.   0.   0.   0.   0.   0.   0.   0.  23.  66. 213. 253. 253. 253.\n",
            "  253. 198.  81.   2.   0.   0.   0.   0.   0.   0.   0.   0.   0.   0.]\n",
            " [  0.   0.   0.   0.   0.   0.  18. 171. 219. 253. 253. 253. 253. 195.\n",
            "   80.   9.   0.   0.   0.   0.   0.   0.   0.   0.   0.   0.   0.   0.]\n",
            " [  0.   0.   0.   0.  55. 172. 226. 253. 253. 253. 253. 244. 133.  11.\n",
            "    0.   0.   0.   0.   0.   0.   0.   0.   0.   0.   0.   0.   0.   0.]\n",
            " [  0.   0.   0.   0. 136. 253. 253. 253. 212. 135. 132.  16.   0.   0.\n",
            "    0.   0.   0.   0.   0.   0.   0.   0.   0.   0.   0.   0.   0.   0.]\n",
            " [  0.   0.   0.   0.   0.   0.   0.   0.   0.   0.   0.   0.   0.   0.\n",
            "    0.   0.   0.   0.   0.   0.   0.   0.   0.   0.   0.   0.   0.   0.]\n",
            " [  0.   0.   0.   0.   0.   0.   0.   0.   0.   0.   0.   0.   0.   0.\n",
            "    0.   0.   0.   0.   0.   0.   0.   0.   0.   0.   0.   0.   0.   0.]\n",
            " [  0.   0.   0.   0.   0.   0.   0.   0.   0.   0.   0.   0.   0.   0.\n",
            "    0.   0.   0.   0.   0.   0.   0.   0.   0.   0.   0.   0.   0.   0.]]\n"
          ]
        }
      ],
      "source": [
        "print(image_array)"
      ]
    },
    {
      "cell_type": "code",
      "execution_count": null,
      "id": "acbffa8a-f216-4c27-9da3-e3496d6f88ed",
      "metadata": {
        "id": "acbffa8a-f216-4c27-9da3-e3496d6f88ed",
        "outputId": "bddcd61b-ea82-4ccc-b8c4-283cd1dac158"
      },
      "outputs": [
        {
          "data": {
            "text/plain": [
              "<matplotlib.image.AxesImage at 0x21621ce2b10>"
            ]
          },
          "execution_count": 16,
          "metadata": {},
          "output_type": "execute_result"
        },
        {
          "data": {
            "image/png": "[encoded data removed]",
            "text/plain": [
              "<Figure size 640x480 with 1 Axes>"
            ]
          },
          "metadata": {},
          "output_type": "display_data"
        }
      ],
      "source": [
        "plt.imshow(image_array, cmap='Greys', interpolation='None')"
      ]
    },
    {
      "cell_type": "code",
      "execution_count": null,
      "id": "19140be5-cf6a-4fdb-9b1e-e5dbb67de3ee",
      "metadata": {
        "id": "19140be5-cf6a-4fdb-9b1e-e5dbb67de3ee",
        "outputId": "cb4ffc03-22cc-4e3d-9b53-bf21ad8a48b2"
      },
      "outputs": [
        {
          "name": "stdout",
          "output_type": "stream",
          "text": [
            "[0.01       0.01       0.01       0.01       0.01       0.01\n",
            " 0.01       0.01       0.01       0.01       0.01       0.01\n",
            " 0.01       0.01       0.01       0.01       0.01       0.01\n",
            " 0.01       0.01       0.01       0.01       0.01       0.01\n",
            " 0.01       0.01       0.01       0.01       0.01       0.01\n",
            " 0.01       0.01       0.01       0.01       0.01       0.01\n",
            " 0.01       0.01       0.01       0.01       0.01       0.01\n",
            " 0.01       0.01       0.01       0.01       0.01       0.01\n",
            " 0.01       0.01       0.01       0.01       0.01       0.01\n",
            " 0.01       0.01       0.01       0.01       0.01       0.01\n",
            " 0.01       0.01       0.01       0.01       0.01       0.01\n",
            " 0.01       0.01       0.01       0.01       0.01       0.01\n",
            " 0.01       0.01       0.01       0.01       0.01       0.01\n",
            " 0.01       0.01       0.01       0.01       0.01       0.01\n",
            " 0.01       0.01       0.01       0.01       0.01       0.01\n",
            " 0.01       0.01       0.01       0.01       0.01       0.01\n",
            " 0.01       0.01       0.01       0.01       0.01       0.01\n",
            " 0.01       0.01       0.01       0.01       0.01       0.01\n",
            " 0.01       0.01       0.01       0.01       0.01       0.01\n",
            " 0.01       0.01       0.01       0.01       0.01       0.01\n",
            " 0.01       0.01       0.01       0.01       0.01       0.01\n",
            " 0.01       0.01       0.01       0.01       0.01       0.01\n",
            " 0.01       0.01       0.01       0.01       0.01       0.01\n",
            " 0.01       0.01       0.01       0.01       0.01       0.01\n",
            " 0.01       0.01       0.01       0.01       0.01       0.01\n",
            " 0.01       0.01       0.02164706 0.07988235 0.07988235 0.07988235\n",
            " 0.49917647 0.538      0.68941176 0.11094118 0.65447059 1.\n",
            " 0.96894118 0.50305882 0.01       0.01       0.01       0.01\n",
            " 0.01       0.01       0.01       0.01       0.01       0.01\n",
            " 0.01       0.01       0.12647059 0.14976471 0.37494118 0.60788235\n",
            " 0.67       0.99223529 0.99223529 0.99223529 0.99223529 0.99223529\n",
            " 0.88352941 0.67776471 0.99223529 0.94952941 0.76705882 0.25847059\n",
            " 0.01       0.01       0.01       0.01       0.01       0.01\n",
            " 0.01       0.01       0.01       0.01       0.01       0.20023529\n",
            " 0.934      0.99223529 0.99223529 0.99223529 0.99223529 0.99223529\n",
            " 0.99223529 0.99223529 0.99223529 0.98447059 0.37105882 0.32835294\n",
            " 0.32835294 0.22741176 0.16141176 0.01       0.01       0.01\n",
            " 0.01       0.01       0.01       0.01       0.01       0.01\n",
            " 0.01       0.01       0.01       0.07988235 0.86023529 0.99223529\n",
            " 0.99223529 0.99223529 0.99223529 0.99223529 0.77870588 0.71658824\n",
            " 0.96894118 0.94564706 0.01       0.01       0.01       0.01\n",
            " 0.01       0.01       0.01       0.01       0.01       0.01\n",
            " 0.01       0.01       0.01       0.01       0.01       0.01\n",
            " 0.01       0.01       0.32058824 0.61564706 0.42541176 0.99223529\n",
            " 0.99223529 0.80588235 0.05270588 0.01       0.17694118 0.60788235\n",
            " 0.01       0.01       0.01       0.01       0.01       0.01\n",
            " 0.01       0.01       0.01       0.01       0.01       0.01\n",
            " 0.01       0.01       0.01       0.01       0.01       0.01\n",
            " 0.01       0.06435294 0.01388235 0.60788235 0.99223529 0.35941176\n",
            " 0.01       0.01       0.01       0.01       0.01       0.01\n",
            " 0.01       0.01       0.01       0.01       0.01       0.01\n",
            " 0.01       0.01       0.01       0.01       0.01       0.01\n",
            " 0.01       0.01       0.01       0.01       0.01       0.01\n",
            " 0.01       0.54964706 0.99223529 0.74764706 0.01776471 0.01\n",
            " 0.01       0.01       0.01       0.01       0.01       0.01\n",
            " 0.01       0.01       0.01       0.01       0.01       0.01\n",
            " 0.01       0.01       0.01       0.01       0.01       0.01\n",
            " 0.01       0.01       0.01       0.01       0.01       0.05270588\n",
            " 0.74764706 0.99223529 0.28176471 0.01       0.01       0.01\n",
            " 0.01       0.01       0.01       0.01       0.01       0.01\n",
            " 0.01       0.01       0.01       0.01       0.01       0.01\n",
            " 0.01       0.01       0.01       0.01       0.01       0.01\n",
            " 0.01       0.01       0.01       0.01       0.14588235 0.94564706\n",
            " 0.88352941 0.63117647 0.42929412 0.01388235 0.01       0.01\n",
            " 0.01       0.01       0.01       0.01       0.01       0.01\n",
            " 0.01       0.01       0.01       0.01       0.01       0.01\n",
            " 0.01       0.01       0.01       0.01       0.01       0.01\n",
            " 0.01       0.01       0.01       0.32447059 0.94176471 0.99223529\n",
            " 0.99223529 0.472      0.10705882 0.01       0.01       0.01\n",
            " 0.01       0.01       0.01       0.01       0.01       0.01\n",
            " 0.01       0.01       0.01       0.01       0.01       0.01\n",
            " 0.01       0.01       0.01       0.01       0.01       0.01\n",
            " 0.01       0.01       0.18470588 0.73211765 0.99223529 0.99223529\n",
            " 0.59235294 0.11482353 0.01       0.01       0.01       0.01\n",
            " 0.01       0.01       0.01       0.01       0.01       0.01\n",
            " 0.01       0.01       0.01       0.01       0.01       0.01\n",
            " 0.01       0.01       0.01       0.01       0.01       0.01\n",
            " 0.01       0.07211765 0.37105882 0.98835294 0.99223529 0.736\n",
            " 0.01       0.01       0.01       0.01       0.01       0.01\n",
            " 0.01       0.01       0.01       0.01       0.01       0.01\n",
            " 0.01       0.01       0.01       0.01       0.01       0.01\n",
            " 0.01       0.01       0.01       0.01       0.01       0.01\n",
            " 0.01       0.97670588 0.99223529 0.97670588 0.25847059 0.01\n",
            " 0.01       0.01       0.01       0.01       0.01       0.01\n",
            " 0.01       0.01       0.01       0.01       0.01       0.01\n",
            " 0.01       0.01       0.01       0.01       0.01       0.01\n",
            " 0.01       0.01       0.18858824 0.51470588 0.72047059 0.99223529\n",
            " 0.99223529 0.81364706 0.01776471 0.01       0.01       0.01\n",
            " 0.01       0.01       0.01       0.01       0.01       0.01\n",
            " 0.01       0.01       0.01       0.01       0.01       0.01\n",
            " 0.01       0.01       0.01       0.01       0.16141176 0.58458824\n",
            " 0.89905882 0.99223529 0.99223529 0.99223529 0.98058824 0.71658824\n",
            " 0.01       0.01       0.01       0.01       0.01       0.01\n",
            " 0.01       0.01       0.01       0.01       0.01       0.01\n",
            " 0.01       0.01       0.01       0.01       0.01       0.01\n",
            " 0.10317647 0.45258824 0.868      0.99223529 0.99223529 0.99223529\n",
            " 0.99223529 0.79035294 0.31282353 0.01       0.01       0.01\n",
            " 0.01       0.01       0.01       0.01       0.01       0.01\n",
            " 0.01       0.01       0.01       0.01       0.01       0.01\n",
            " 0.01       0.01       0.09929412 0.26623529 0.83694118 0.99223529\n",
            " 0.99223529 0.99223529 0.99223529 0.77870588 0.32447059 0.01776471\n",
            " 0.01       0.01       0.01       0.01       0.01       0.01\n",
            " 0.01       0.01       0.01       0.01       0.01       0.01\n",
            " 0.01       0.01       0.01       0.01       0.07988235 0.67388235\n",
            " 0.86023529 0.99223529 0.99223529 0.99223529 0.99223529 0.76705882\n",
            " 0.32058824 0.04494118 0.01       0.01       0.01       0.01\n",
            " 0.01       0.01       0.01       0.01       0.01       0.01\n",
            " 0.01       0.01       0.01       0.01       0.01       0.01\n",
            " 0.22352941 0.67776471 0.88741176 0.99223529 0.99223529 0.99223529\n",
            " 0.99223529 0.95729412 0.52635294 0.05270588 0.01       0.01\n",
            " 0.01       0.01       0.01       0.01       0.01       0.01\n",
            " 0.01       0.01       0.01       0.01       0.01       0.01\n",
            " 0.01       0.01       0.01       0.01       0.538      0.99223529\n",
            " 0.99223529 0.99223529 0.83305882 0.53411765 0.52247059 0.07211765\n",
            " 0.01       0.01       0.01       0.01       0.01       0.01\n",
            " 0.01       0.01       0.01       0.01       0.01       0.01\n",
            " 0.01       0.01       0.01       0.01       0.01       0.01\n",
            " 0.01       0.01       0.01       0.01       0.01       0.01\n",
            " 0.01       0.01       0.01       0.01       0.01       0.01\n",
            " 0.01       0.01       0.01       0.01       0.01       0.01\n",
            " 0.01       0.01       0.01       0.01       0.01       0.01\n",
            " 0.01       0.01       0.01       0.01       0.01       0.01\n",
            " 0.01       0.01       0.01       0.01       0.01       0.01\n",
            " 0.01       0.01       0.01       0.01       0.01       0.01\n",
            " 0.01       0.01       0.01       0.01       0.01       0.01\n",
            " 0.01       0.01       0.01       0.01       0.01       0.01\n",
            " 0.01       0.01       0.01       0.01       0.01       0.01\n",
            " 0.01       0.01       0.01       0.01       0.01       0.01\n",
            " 0.01       0.01       0.01       0.01       0.01       0.01\n",
            " 0.01       0.01       0.01       0.01       0.01       0.01\n",
            " 0.01       0.01       0.01       0.01      ]\n"
          ]
        }
      ],
      "source": [
        "scaled_input = (np.asfarray(all_values)/255.0*0.99)+0.01\n",
        "print(scaled_input)"
      ]
    },
    {
      "cell_type": "code",
      "execution_count": null,
      "id": "0fb6a55e-56b6-421b-a80c-dcf27b8f0d8f",
      "metadata": {
        "id": "0fb6a55e-56b6-421b-a80c-dcf27b8f0d8f"
      },
      "outputs": [],
      "source": [
        "onodes = 10\n",
        "targets = np.zeros(onodes)+0.01\n",
        "targets[5] = 0.99"
      ]
    },
    {
      "cell_type": "code",
      "execution_count": null,
      "id": "c077d528-ba7a-4bc8-b7e6-8cd4446e2c62",
      "metadata": {
        "id": "c077d528-ba7a-4bc8-b7e6-8cd4446e2c62",
        "outputId": "7a5f05d5-7d48-4f3b-c3f7-4aca223c775a"
      },
      "outputs": [
        {
          "name": "stdout",
          "output_type": "stream",
          "text": [
            "[0.01 0.01 0.01 0.01 0.01 0.99 0.01 0.01 0.01 0.01]\n"
          ]
        }
      ],
      "source": [
        "print(targets)"
      ]
    },
    {
      "cell_type": "code",
      "execution_count": null,
      "id": "ad05f2f0-3b88-4843-bc8c-931c63ad73ec",
      "metadata": {
        "id": "ad05f2f0-3b88-4843-bc8c-931c63ad73ec"
      },
      "outputs": [],
      "source": [
        "import scipy.special"
      ]
    },
    {
      "cell_type": "code",
      "execution_count": null,
      "id": "fac7bf29-6ad8-4067-aaef-6f0dc639649b",
      "metadata": {
        "id": "fac7bf29-6ad8-4067-aaef-6f0dc639649b"
      },
      "outputs": [],
      "source": [
        "class DeepNeuralNetwork:\n",
        "\n",
        "    def __init__(self,inputnodes,hiddennodes,outputnodes,learingnate):\n",
        "        self.inodes = inputnodes\n",
        "        self.hnodes = hiddennodes\n",
        "        self.onodes = outputnodes\n",
        "\n",
        "        self.wih = np.random.normal(0.0, pow(self.inodes, -0.5), (self.hnodes,self.inodes))\n",
        "        self.who = np.random.normal(0.0, pow(self.hnodes, -0.5), (self.onodes,self.hnodes))\n",
        "\n",
        "        self.lr = learingnate\n",
        "\n",
        "        self.activation_function = lambda x: scipy.special.expit(x)\n",
        "        pass\n",
        "\n",
        "    def train(self,inputs_list,targets_list):\n",
        "        inputs = np.array(inputs_list,ndmin=2).T\n",
        "        targets = np.array(targets_list, ndmin=2).T\n",
        "\n",
        "        hidden_inputs = np.dot(self.wih, inputs)\n",
        "        hidden_outputs = self.activation_function(hidden_inputs)\n",
        "\n",
        "        final_inputs = np.dot(self.who, hidden_outputs)\n",
        "        final_outputs = self.activation_function(final_inputs)\n",
        "\n",
        "        output_errors = targets - final_outputs\n",
        "        hidden_errors = np.dot(self.who.T, output_errors)\n",
        "\n",
        "        self.who += \\\n",
        "        self.lr*np.dot((output_errors*final_outputs*(1.0-final_outputs)),np.transpose(hidden_outputs))\n",
        "\n",
        "        self.wih += \\\n",
        "        self.lr *np.dot((hidden_errors * hidden_outputs*(1.0-hidden_outputs)), np.transpose(inputs))\n",
        "        pass\n",
        "\n",
        "    def query(self,inputs_list):\n",
        "        inputs = np.array(inputs_list, ndmin=2).T\n",
        "\n",
        "        hidden_inputs = np.dot(self.wih,inputs)\n",
        "        hidden_outputs = self.activation_function(hidden_inputs)\n",
        "\n",
        "        final_inputs = np.dot(self.who, hidden_outputs)\n",
        "        final_outputs = self.activation_function(final_inputs)\n",
        "\n",
        "        return final_outputs\n",
        "\n",
        "    pass"
      ]
    },
    {
      "cell_type": "code",
      "execution_count": null,
      "id": "38359444-157e-459e-99e8-eb60d811d301",
      "metadata": {
        "id": "38359444-157e-459e-99e8-eb60d811d301"
      },
      "outputs": [],
      "source": [
        "input_nodes = 784\n",
        "hidden_ndoes = 200\n",
        "output_nodes = 10\n",
        "\n",
        "learning_rate = 0.1\n",
        "\n",
        "n = DeepNeuralNetwork(input_nodes,hidden_ndoes,output_nodes,learning_rate)"
      ]
    },
    {
      "cell_type": "code",
      "execution_count": null,
      "id": "6f2a6dcf-cc7d-48d0-a72e-318a00a0d0bc",
      "metadata": {
        "id": "6f2a6dcf-cc7d-48d0-a72e-318a00a0d0bc"
      },
      "outputs": [],
      "source": [
        "training_data_file = open('./data/mnist_train_100.csv','r')\n",
        "training_data_list = training_data_file.readlines()\n",
        "training_data_file.close()"
      ]
    },
    {
      "cell_type": "code",
      "execution_count": null,
      "id": "18e21643-90e3-4313-b41a-196dc0475e0d",
      "metadata": {
        "id": "18e21643-90e3-4313-b41a-196dc0475e0d"
      },
      "outputs": [],
      "source": [
        "epochs = 5\n",
        "for e in range(epochs):\n",
        "    for record in training_data_list:\n",
        "        all_values = record[:-1].split(',')\n",
        "        inputs = (np.asfarray(all_values[1:])/255.0*0.99)+0.01\n",
        "        targets = np.zeros(output_nodes) + 0.01\n",
        "        targets[int(all_values[0])] = 0.99\n",
        "        n.train(inputs, targets)\n",
        "        pass\n",
        "    pass"
      ]
    },
    {
      "cell_type": "code",
      "execution_count": null,
      "id": "25ee04fa-d554-4f8e-b4aa-20b6cd343399",
      "metadata": {
        "id": "25ee04fa-d554-4f8e-b4aa-20b6cd343399"
      },
      "outputs": [],
      "source": [
        "test_data_file = open('./data/mnist_test_10.csv','r')\n",
        "test_data_list = test_data_file.readlines()\n",
        "test_data_file.close()"
      ]
    },
    {
      "cell_type": "code",
      "execution_count": null,
      "id": "d0ea6b06-fc5f-4de1-9f34-7b63a4d2caf9",
      "metadata": {
        "id": "d0ea6b06-fc5f-4de1-9f34-7b63a4d2caf9"
      },
      "outputs": [],
      "source": [
        "scorecard = []\n",
        "\n",
        "for record in test_data_list:\n",
        "    all_values = record[:-1].split(',')\n",
        "    correct_label = int(all_values[0])\n",
        "    inputs = (np.asfarray(all_values[1:])/255.0*0.99)+0.01\n",
        "    outputs = n.query(inputs)\n",
        "    label = np.argmax(outputs)\n",
        "    if correct_label==label:\n",
        "        scorecard.append(1)\n",
        "    else :\n",
        "        scorecard.append(0)\n",
        "        pass\n",
        "    pass"
      ]
    },
    {
      "cell_type": "code",
      "execution_count": null,
      "id": "b005c620-7085-4191-b8e3-82feaf0a496a",
      "metadata": {
        "id": "b005c620-7085-4191-b8e3-82feaf0a496a"
      },
      "outputs": [],
      "source": [
        "scorecard = []\n",
        "\n",
        "for record in test_data_list:\n",
        "    all_values = record[:-1].split(',')\n",
        "    correct_label = int(all_values[0])\n",
        "    inputs = (np.asfarray(all_values[1:])/255.0*0.99)+0.01\n",
        "    outputs = n.query(inputs)\n",
        "    label = np.argmax(outputs)\n",
        "    if correct_label==label:\n",
        "        scorecard.append(1)\n",
        "    else :\n",
        "        scorecard.append(0)\n",
        "        pass\n",
        "    pass"
      ]
    },
    {
      "cell_type": "code",
      "execution_count": null,
      "id": "adcbbf28-77c6-4c06-9fb0-901e2d911383",
      "metadata": {
        "id": "adcbbf28-77c6-4c06-9fb0-901e2d911383",
        "outputId": "0e926dfd-5239-43ec-f9ba-38fd45d28fb0"
      },
      "outputs": [
        {
          "name": "stdout",
          "output_type": "stream",
          "text": [
            "[1, 0, 1, 1, 1, 1, 1, 0, 0, 0]\n"
          ]
        }
      ],
      "source": [
        "print(scorecard)"
      ]
    },
    {
      "cell_type": "code",
      "execution_count": null,
      "id": "06fbf3c8-22c2-4be7-8412-c076670a4c73",
      "metadata": {
        "id": "06fbf3c8-22c2-4be7-8412-c076670a4c73",
        "outputId": "dbae0def-9da1-4412-bd41-3518a89f7519"
      },
      "outputs": [
        {
          "name": "stdout",
          "output_type": "stream",
          "text": [
            "performance =  0.6\n"
          ]
        }
      ],
      "source": [
        "scorecard_array = np.array(scorecard)\n",
        "print(\"performance = \",scorecard_array.sum()/scorecard_array.size)"
      ]
    },
    {
      "cell_type": "code",
      "execution_count": null,
      "id": "30ffc895-1594-481f-b63e-7d256c35aedb",
      "metadata": {
        "id": "30ffc895-1594-481f-b63e-7d256c35aedb"
      },
      "outputs": [],
      "source": []
    }
  ],
  "metadata": {
    "kernelspec": {
      "display_name": "Python 3 (ipykernel)",
      "language": "python",
      "name": "python3"
    },
    "language_info": {
      "codemirror_mode": {
        "name": "ipython",
        "version": 3
      },
      "file_extension": ".py",
      "mimetype": "text/x-python",
      "name": "python",
      "nbconvert_exporter": "python",
      "pygments_lexer": "ipython3",
      "version": "3.12.4"
    },
    "colab": {
      "provenance": []
    }
  },
  "nbformat": 4,
  "nbformat_minor": 5
}