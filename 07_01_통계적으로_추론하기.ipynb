{
  "nbformat": 4,
  "nbformat_minor": 0,
  "metadata": {
    "colab": {
      "provenance": [],
      "authorship_tag": "ABX9TyP82+x5Kxb4cbY2XDQB9XbU",
      "include_colab_link": true
    },
    "kernelspec": {
      "name": "python3",
      "display_name": "Python 3"
    },
    "language_info": {
      "name": "python"
    }
  },
  "cells": [
    {
      "cell_type": "markdown",
      "metadata": {
        "id": "view-in-github",
        "colab_type": "text"
      },
      "source": [
        "<a href=\"https://colab.research.google.com/github/parksanghan/machine_learning_Deep_learning/blob/main/07_01_%ED%86%B5%EA%B3%84%EC%A0%81%EC%9C%BC%EB%A1%9C_%EC%B6%94%EB%A1%A0%ED%95%98%EA%B8%B0.ipynb\" target=\"_parent\"><img src=\"https://colab.research.google.com/assets/colab-badge.svg\" alt=\"Open In Colab\"/></a>"
      ]
    },
    {
      "cell_type": "code",
      "execution_count": null,
      "metadata": {
        "colab": {
          "base_uri": "https://localhost:8080/"
        },
        "id": "Dqe2yAQS2mlH",
        "outputId": "d220bd54-b690-407d-d3c8-09e4deab5502"
      },
      "outputs": [
        {
          "output_type": "stream",
          "name": "stdout",
          "text": [
            "3.40587727318528 5.0 0.5872202195147035\n"
          ]
        }
      ],
      "source": [
        "import numpy as np\n",
        "\n",
        "x = [0, 3, 5, 7, 10]\n",
        "\n",
        "s = np.std(x) # 표준편\n",
        "m = np.mean(x)\n",
        "z = (7 - m) / s\n",
        "print(s,m,z)"
      ]
    },
    {
      "cell_type": "markdown",
      "source": [
        "s 는 표준편차 ,  m 은 평균 z 표준점수인데 표준점수의 공식은 Z = (X - μ) / σ\n",
        "\n",
        "Z: 표준 점수 (Z-score)\n",
        "X: 특정 데이터 값\n",
        "μ: 데이터 집합의 평균 (mean)\n",
        "σ: 데이터 집합의 표준 편차 (standard deviation)\n",
        "\n",
        "즉 -> 7에서 뺏다면  표준 점수는 7에서부터 얼마나 값들이 떨어져 있는지를 말한다."
      ],
      "metadata": {
        "id": "VRNWQyRaI_Qu"
      }
    },
    {
      "cell_type": "markdown",
      "source": [],
      "metadata": {
        "id": "-J86SIvHJ8Rm"
      }
    },
    {
      "cell_type": "code",
      "source": [
        "from scipy import stats\n",
        "stats.zscore(x)"
      ],
      "metadata": {
        "colab": {
          "base_uri": "https://localhost:8080/"
        },
        "id": "biUTNKE26DCW",
        "outputId": "15ec904f-1045-42a7-b92a-d7d15f96a15d"
      },
      "execution_count": null,
      "outputs": [
        {
          "output_type": "execute_result",
          "data": {
            "text/plain": [
              "array([-1.46805055, -0.58722022,  0.        ,  0.58722022,  1.46805055])"
            ]
          },
          "metadata": {},
          "execution_count": 3
        }
      ]
    },
    {
      "cell_type": "markdown",
      "source": [
        "scipy stats 의 zscore 함수는 각 배열에 대한 평균을 계산하고  각 배열의 요소에 평균을빼는것이다"
      ],
      "metadata": {
        "id": "a9yQAsNTMZG-"
      }
    },
    {
      "cell_type": "code",
      "source": [
        "stats.norm() #대충 정규 분포도 객체 생성"
      ],
      "metadata": {
        "colab": {
          "base_uri": "https://localhost:8080/"
        },
        "id": "lTs1-VCsw1UN",
        "outputId": "baaf1192-c845-4f0f-c76d-d5a4b6e38be5"
      },
      "execution_count": null,
      "outputs": [
        {
          "output_type": "execute_result",
          "data": {
            "text/plain": [
              "<scipy.stats._distn_infrastructure.rv_continuous_frozen at 0x7e895fdba380>"
            ]
          },
          "metadata": {},
          "execution_count": 4
        }
      ]
    },
    {
      "cell_type": "markdown",
      "source": [
        "stats.norm()의 반환 객체:\n",
        "확률 밀도 함수(PDF) 계산: dist.pdf(x)\n",
        "누적 분포 함수(CDF) 계산: dist.cdf(x)\n",
        "퍼센트 포인트 함수(PPF) 계산: dist.ppf(q)\n",
        "랜덤 값 생성: dist.rvs(size=n)"
      ],
      "metadata": {
        "id": "eUAjO8n4xeZi"
      }
    },
    {
      "cell_type": "code",
      "source": [
        "stats.norm.cdf(0) #  0이하의 값이 나올확률인듯"
      ],
      "metadata": {
        "colab": {
          "base_uri": "https://localhost:8080/"
        },
        "id": "f_ZV92wk5ppb",
        "outputId": "e05b070c-c56c-4867-c157-188149b4dc15"
      },
      "execution_count": null,
      "outputs": [
        {
          "output_type": "execute_result",
          "data": {
            "text/plain": [
              "0.5"
            ]
          },
          "metadata": {},
          "execution_count": 5
        }
      ]
    },
    {
      "cell_type": "code",
      "source": [
        "stats.norm.ppf(0.9)  #90퍼에 해당하는 값임 ㅇㅇ"
      ],
      "metadata": {
        "colab": {
          "base_uri": "https://localhost:8080/"
        },
        "id": "n516IZiM5kWQ",
        "outputId": "76e4c9d5-bbdc-4130-e7e9-f1712fdbce94"
      },
      "execution_count": null,
      "outputs": [
        {
          "output_type": "execute_result",
          "data": {
            "text/plain": [
              "1.2815515655446004"
            ]
          },
          "metadata": {},
          "execution_count": 6
        }
      ]
    },
    {
      "cell_type": "code",
      "source": [
        "stats.norm.pdf(0) # pdf는 그럼 즉 전체 배열에서 0에 가까운 밀도를 말하는거같음"
      ],
      "metadata": {
        "colab": {
          "base_uri": "https://localhost:8080/"
        },
        "id": "gsyyawT7y7JD",
        "outputId": "5f672ec6-6623-4254-b898-54733ff8a9cc"
      },
      "execution_count": null,
      "outputs": [
        {
          "output_type": "execute_result",
          "data": {
            "text/plain": [
              "0.3989422804014327"
            ]
          },
          "metadata": {},
          "execution_count": 7
        }
      ]
    },
    {
      "cell_type": "code",
      "source": [
        "import gdown\n",
        "\n",
        "gdown.download('https://bit.ly/3pK7iuu', 'ns_book7.csv', quiet=False)"
      ],
      "metadata": {
        "colab": {
          "base_uri": "https://localhost:8080/",
          "height": 109
        },
        "id": "miLJUk9z1nLx",
        "outputId": "631f47ea-4458-4c51-aa71-234799de6300"
      },
      "execution_count": null,
      "outputs": [
        {
          "output_type": "stream",
          "name": "stderr",
          "text": [
            "Downloading...\n",
            "From: https://bit.ly/3pK7iuu\n",
            "To: /content/ns_book7.csv\n",
            "100%|██████████| 53.8M/53.8M [00:01<00:00, 34.5MB/s]\n"
          ]
        },
        {
          "output_type": "execute_result",
          "data": {
            "text/plain": [
              "'ns_book7.csv'"
            ],
            "application/vnd.google.colaboratory.intrinsic+json": {
              "type": "string"
            }
          },
          "metadata": {},
          "execution_count": 8
        }
      ]
    },
    {
      "cell_type": "code",
      "source": [
        "import pandas as pd\n",
        "ns_book7 = pd.read_csv(\"ns_book7.csv\", low_memory = False)\n",
        "ns_book7.head()"
      ],
      "metadata": {
        "colab": {
          "base_uri": "https://localhost:8080/",
          "height": 206
        },
        "id": "QIwz9gYA5hey",
        "outputId": "ba3c6c41-d137-4b8c-c446-008bb5c49a63"
      },
      "execution_count": null,
      "outputs": [
        {
          "output_type": "execute_result",
          "data": {
            "text/plain": [
              "   번호                    도서명                저자    출판사  발행년도           ISBN  \\\n",
              "0   1                인공지능과 흙            김동훈 지음    민음사  2021  9788937444319   \n",
              "1   2           가짜 행복 권하는 사회            김태형 지음   갈매나무  2021  9791190123969   \n",
              "2   3  나도 한 문장 잘 쓰면 바랄 게 없겠네            김선영 지음   블랙피쉬  2021  9788968332982   \n",
              "3   4                예루살렘 해변  이도 게펜 지음, 임재희 옮김  문학세계사  2021  9788970759906   \n",
              "4   5  김성곤의 중국한시기행 : 장강·황하 편            김성곤 지음    김영사  2021  9788934990833   \n",
              "\n",
              "  세트 ISBN 부가기호    권 주제분류번호  도서권수  대출건수        등록일자  \n",
              "0     NaN  NaN  NaN    NaN     1     0  2021-03-19  \n",
              "1     NaN  NaN  NaN    NaN     1     0  2021-03-19  \n",
              "2     NaN  NaN  NaN    NaN     1     0  2021-03-19  \n",
              "3     NaN  NaN  NaN    NaN     1     0  2021-03-19  \n",
              "4     NaN  NaN  NaN    NaN     1     0  2021-03-19  "
            ],
            "text/html": [
              "\n",
              "  <div id=\"df-7bf51802-c523-4a12-870b-e7710940563c\" class=\"colab-df-container\">\n",
              "    <div>\n",
              "<style scoped>\n",
              "    .dataframe tbody tr th:only-of-type {\n",
              "        vertical-align: middle;\n",
              "    }\n",
              "\n",
              "    .dataframe tbody tr th {\n",
              "        vertical-align: top;\n",
              "    }\n",
              "\n",
              "    .dataframe thead th {\n",
              "        text-align: right;\n",
              "    }\n",
              "</style>\n",
              "<table border=\"1\" class=\"dataframe\">\n",
              "  <thead>\n",
              "    <tr style=\"text-align: right;\">\n",
              "      <th></th>\n",
              "      <th>번호</th>\n",
              "      <th>도서명</th>\n",
              "      <th>저자</th>\n",
              "      <th>출판사</th>\n",
              "      <th>발행년도</th>\n",
              "      <th>ISBN</th>\n",
              "      <th>세트 ISBN</th>\n",
              "      <th>부가기호</th>\n",
              "      <th>권</th>\n",
              "      <th>주제분류번호</th>\n",
              "      <th>도서권수</th>\n",
              "      <th>대출건수</th>\n",
              "      <th>등록일자</th>\n",
              "    </tr>\n",
              "  </thead>\n",
              "  <tbody>\n",
              "    <tr>\n",
              "      <th>0</th>\n",
              "      <td>1</td>\n",
              "      <td>인공지능과 흙</td>\n",
              "      <td>김동훈 지음</td>\n",
              "      <td>민음사</td>\n",
              "      <td>2021</td>\n",
              "      <td>9788937444319</td>\n",
              "      <td>NaN</td>\n",
              "      <td>NaN</td>\n",
              "      <td>NaN</td>\n",
              "      <td>NaN</td>\n",
              "      <td>1</td>\n",
              "      <td>0</td>\n",
              "      <td>2021-03-19</td>\n",
              "    </tr>\n",
              "    <tr>\n",
              "      <th>1</th>\n",
              "      <td>2</td>\n",
              "      <td>가짜 행복 권하는 사회</td>\n",
              "      <td>김태형 지음</td>\n",
              "      <td>갈매나무</td>\n",
              "      <td>2021</td>\n",
              "      <td>9791190123969</td>\n",
              "      <td>NaN</td>\n",
              "      <td>NaN</td>\n",
              "      <td>NaN</td>\n",
              "      <td>NaN</td>\n",
              "      <td>1</td>\n",
              "      <td>0</td>\n",
              "      <td>2021-03-19</td>\n",
              "    </tr>\n",
              "    <tr>\n",
              "      <th>2</th>\n",
              "      <td>3</td>\n",
              "      <td>나도 한 문장 잘 쓰면 바랄 게 없겠네</td>\n",
              "      <td>김선영 지음</td>\n",
              "      <td>블랙피쉬</td>\n",
              "      <td>2021</td>\n",
              "      <td>9788968332982</td>\n",
              "      <td>NaN</td>\n",
              "      <td>NaN</td>\n",
              "      <td>NaN</td>\n",
              "      <td>NaN</td>\n",
              "      <td>1</td>\n",
              "      <td>0</td>\n",
              "      <td>2021-03-19</td>\n",
              "    </tr>\n",
              "    <tr>\n",
              "      <th>3</th>\n",
              "      <td>4</td>\n",
              "      <td>예루살렘 해변</td>\n",
              "      <td>이도 게펜 지음, 임재희 옮김</td>\n",
              "      <td>문학세계사</td>\n",
              "      <td>2021</td>\n",
              "      <td>9788970759906</td>\n",
              "      <td>NaN</td>\n",
              "      <td>NaN</td>\n",
              "      <td>NaN</td>\n",
              "      <td>NaN</td>\n",
              "      <td>1</td>\n",
              "      <td>0</td>\n",
              "      <td>2021-03-19</td>\n",
              "    </tr>\n",
              "    <tr>\n",
              "      <th>4</th>\n",
              "      <td>5</td>\n",
              "      <td>김성곤의 중국한시기행 : 장강·황하 편</td>\n",
              "      <td>김성곤 지음</td>\n",
              "      <td>김영사</td>\n",
              "      <td>2021</td>\n",
              "      <td>9788934990833</td>\n",
              "      <td>NaN</td>\n",
              "      <td>NaN</td>\n",
              "      <td>NaN</td>\n",
              "      <td>NaN</td>\n",
              "      <td>1</td>\n",
              "      <td>0</td>\n",
              "      <td>2021-03-19</td>\n",
              "    </tr>\n",
              "  </tbody>\n",
              "</table>\n",
              "</div>\n",
              "    <div class=\"colab-df-buttons\">\n",
              "\n",
              "  <div class=\"colab-df-container\">\n",
              "    <button class=\"colab-df-convert\" onclick=\"convertToInteractive('df-7bf51802-c523-4a12-870b-e7710940563c')\"\n",
              "            title=\"Convert this dataframe to an interactive table.\"\n",
              "            style=\"display:none;\">\n",
              "\n",
              "  <svg xmlns=\"http://www.w3.org/2000/svg\" height=\"24px\" viewBox=\"0 -960 960 960\">\n",
              "    <path d=\"M120-120v-720h720v720H120Zm60-500h600v-160H180v160Zm220 220h160v-160H400v160Zm0 220h160v-160H400v160ZM180-400h160v-160H180v160Zm440 0h160v-160H620v160ZM180-180h160v-160H180v160Zm440 0h160v-160H620v160Z\"/>\n",
              "  </svg>\n",
              "    </button>\n",
              "\n",
              "  <style>\n",
              "    .colab-df-container {\n",
              "      display:flex;\n",
              "      gap: 12px;\n",
              "    }\n",
              "\n",
              "    .colab-df-convert {\n",
              "      background-color: #E8F0FE;\n",
              "      border: none;\n",
              "      border-radius: 50%;\n",
              "      cursor: pointer;\n",
              "      display: none;\n",
              "      fill: #1967D2;\n",
              "      height: 32px;\n",
              "      padding: 0 0 0 0;\n",
              "      width: 32px;\n",
              "    }\n",
              "\n",
              "    .colab-df-convert:hover {\n",
              "      background-color: #E2EBFA;\n",
              "      box-shadow: 0px 1px 2px rgba(60, 64, 67, 0.3), 0px 1px 3px 1px rgba(60, 64, 67, 0.15);\n",
              "      fill: #174EA6;\n",
              "    }\n",
              "\n",
              "    .colab-df-buttons div {\n",
              "      margin-bottom: 4px;\n",
              "    }\n",
              "\n",
              "    [theme=dark] .colab-df-convert {\n",
              "      background-color: #3B4455;\n",
              "      fill: #D2E3FC;\n",
              "    }\n",
              "\n",
              "    [theme=dark] .colab-df-convert:hover {\n",
              "      background-color: #434B5C;\n",
              "      box-shadow: 0px 1px 3px 1px rgba(0, 0, 0, 0.15);\n",
              "      filter: drop-shadow(0px 1px 2px rgba(0, 0, 0, 0.3));\n",
              "      fill: #FFFFFF;\n",
              "    }\n",
              "  </style>\n",
              "\n",
              "    <script>\n",
              "      const buttonEl =\n",
              "        document.querySelector('#df-7bf51802-c523-4a12-870b-e7710940563c button.colab-df-convert');\n",
              "      buttonEl.style.display =\n",
              "        google.colab.kernel.accessAllowed ? 'block' : 'none';\n",
              "\n",
              "      async function convertToInteractive(key) {\n",
              "        const element = document.querySelector('#df-7bf51802-c523-4a12-870b-e7710940563c');\n",
              "        const dataTable =\n",
              "          await google.colab.kernel.invokeFunction('convertToInteractive',\n",
              "                                                    [key], {});\n",
              "        if (!dataTable) return;\n",
              "\n",
              "        const docLinkHtml = 'Like what you see? Visit the ' +\n",
              "          '<a target=\"_blank\" href=https://colab.research.google.com/notebooks/data_table.ipynb>data table notebook</a>'\n",
              "          + ' to learn more about interactive tables.';\n",
              "        element.innerHTML = '';\n",
              "        dataTable['output_type'] = 'display_data';\n",
              "        await google.colab.output.renderOutput(dataTable, element);\n",
              "        const docLink = document.createElement('div');\n",
              "        docLink.innerHTML = docLinkHtml;\n",
              "        element.appendChild(docLink);\n",
              "      }\n",
              "    </script>\n",
              "  </div>\n",
              "\n",
              "\n",
              "<div id=\"df-1f8d752d-5272-4f2c-b352-07c16b9f4040\">\n",
              "  <button class=\"colab-df-quickchart\" onclick=\"quickchart('df-1f8d752d-5272-4f2c-b352-07c16b9f4040')\"\n",
              "            title=\"Suggest charts\"\n",
              "            style=\"display:none;\">\n",
              "\n",
              "<svg xmlns=\"http://www.w3.org/2000/svg\" height=\"24px\"viewBox=\"0 0 24 24\"\n",
              "     width=\"24px\">\n",
              "    <g>\n",
              "        <path d=\"M19 3H5c-1.1 0-2 .9-2 2v14c0 1.1.9 2 2 2h14c1.1 0 2-.9 2-2V5c0-1.1-.9-2-2-2zM9 17H7v-7h2v7zm4 0h-2V7h2v10zm4 0h-2v-4h2v4z\"/>\n",
              "    </g>\n",
              "</svg>\n",
              "  </button>\n",
              "\n",
              "<style>\n",
              "  .colab-df-quickchart {\n",
              "      --bg-color: #E8F0FE;\n",
              "      --fill-color: #1967D2;\n",
              "      --hover-bg-color: #E2EBFA;\n",
              "      --hover-fill-color: #174EA6;\n",
              "      --disabled-fill-color: #AAA;\n",
              "      --disabled-bg-color: #DDD;\n",
              "  }\n",
              "\n",
              "  [theme=dark] .colab-df-quickchart {\n",
              "      --bg-color: #3B4455;\n",
              "      --fill-color: #D2E3FC;\n",
              "      --hover-bg-color: #434B5C;\n",
              "      --hover-fill-color: #FFFFFF;\n",
              "      --disabled-bg-color: #3B4455;\n",
              "      --disabled-fill-color: #666;\n",
              "  }\n",
              "\n",
              "  .colab-df-quickchart {\n",
              "    background-color: var(--bg-color);\n",
              "    border: none;\n",
              "    border-radius: 50%;\n",
              "    cursor: pointer;\n",
              "    display: none;\n",
              "    fill: var(--fill-color);\n",
              "    height: 32px;\n",
              "    padding: 0;\n",
              "    width: 32px;\n",
              "  }\n",
              "\n",
              "  .colab-df-quickchart:hover {\n",
              "    background-color: var(--hover-bg-color);\n",
              "    box-shadow: 0 1px 2px rgba(60, 64, 67, 0.3), 0 1px 3px 1px rgba(60, 64, 67, 0.15);\n",
              "    fill: var(--button-hover-fill-color);\n",
              "  }\n",
              "\n",
              "  .colab-df-quickchart-complete:disabled,\n",
              "  .colab-df-quickchart-complete:disabled:hover {\n",
              "    background-color: var(--disabled-bg-color);\n",
              "    fill: var(--disabled-fill-color);\n",
              "    box-shadow: none;\n",
              "  }\n",
              "\n",
              "  .colab-df-spinner {\n",
              "    border: 2px solid var(--fill-color);\n",
              "    border-color: transparent;\n",
              "    border-bottom-color: var(--fill-color);\n",
              "    animation:\n",
              "      spin 1s steps(1) infinite;\n",
              "  }\n",
              "\n",
              "  @keyframes spin {\n",
              "    0% {\n",
              "      border-color: transparent;\n",
              "      border-bottom-color: var(--fill-color);\n",
              "      border-left-color: var(--fill-color);\n",
              "    }\n",
              "    20% {\n",
              "      border-color: transparent;\n",
              "      border-left-color: var(--fill-color);\n",
              "      border-top-color: var(--fill-color);\n",
              "    }\n",
              "    30% {\n",
              "      border-color: transparent;\n",
              "      border-left-color: var(--fill-color);\n",
              "      border-top-color: var(--fill-color);\n",
              "      border-right-color: var(--fill-color);\n",
              "    }\n",
              "    40% {\n",
              "      border-color: transparent;\n",
              "      border-right-color: var(--fill-color);\n",
              "      border-top-color: var(--fill-color);\n",
              "    }\n",
              "    60% {\n",
              "      border-color: transparent;\n",
              "      border-right-color: var(--fill-color);\n",
              "    }\n",
              "    80% {\n",
              "      border-color: transparent;\n",
              "      border-right-color: var(--fill-color);\n",
              "      border-bottom-color: var(--fill-color);\n",
              "    }\n",
              "    90% {\n",
              "      border-color: transparent;\n",
              "      border-bottom-color: var(--fill-color);\n",
              "    }\n",
              "  }\n",
              "</style>\n",
              "\n",
              "  <script>\n",
              "    async function quickchart(key) {\n",
              "      const quickchartButtonEl =\n",
              "        document.querySelector('#' + key + ' button');\n",
              "      quickchartButtonEl.disabled = true;  // To prevent multiple clicks.\n",
              "      quickchartButtonEl.classList.add('colab-df-spinner');\n",
              "      try {\n",
              "        const charts = await google.colab.kernel.invokeFunction(\n",
              "            'suggestCharts', [key], {});\n",
              "      } catch (error) {\n",
              "        console.error('Error during call to suggestCharts:', error);\n",
              "      }\n",
              "      quickchartButtonEl.classList.remove('colab-df-spinner');\n",
              "      quickchartButtonEl.classList.add('colab-df-quickchart-complete');\n",
              "    }\n",
              "    (() => {\n",
              "      let quickchartButtonEl =\n",
              "        document.querySelector('#df-1f8d752d-5272-4f2c-b352-07c16b9f4040 button');\n",
              "      quickchartButtonEl.style.display =\n",
              "        google.colab.kernel.accessAllowed ? 'block' : 'none';\n",
              "    })();\n",
              "  </script>\n",
              "</div>\n",
              "\n",
              "    </div>\n",
              "  </div>\n"
            ],
            "application/vnd.google.colaboratory.intrinsic+json": {
              "type": "dataframe",
              "variable_name": "ns_book7"
            }
          },
          "metadata": {},
          "execution_count": 9
        }
      ]
    },
    {
      "cell_type": "code",
      "source": [
        "import matplotlib.pyplot as plt\n",
        "\n",
        "plt.hist(ns_book7['대출건수'], bins=50)\n",
        "plt.yscale('log')\n",
        "plt.show()\n"
      ],
      "metadata": {
        "colab": {
          "base_uri": "https://localhost:8080/",
          "height": 430
        },
        "id": "l5zw9itx_uGh",
        "outputId": "0a4d7c16-7466-4289-ed97-93eb861725b9"
      },
      "execution_count": null,
      "outputs": [
        {
          "output_type": "display_data",
          "data": {
            "text/plain": [
              "<Figure size 640x480 with 1 Axes>"
            ],
            "image/png": "[encoded data removed]"
          },
          "metadata": {}
        }
      ]
    },
    {
      "cell_type": "code",
      "source": [
        "np.random.seed(42)\n",
        "sample_means =  []\n",
        "for _ in range(1000):\n",
        "  m  = ns_book7[\"대출건수\"].sample(30).mean()\n",
        "  print(m)\n",
        "  sample_means.append(m)"
      ],
      "metadata": {
        "colab": {
          "base_uri": "https://localhost:8080/"
        },
        "id": "t8yA9lcd_w6k",
        "outputId": "4477c38e-b526-488a-cf6c-e986177bb857"
      },
      "execution_count": null,
      "outputs": [
        {
          "output_type": "stream",
          "name": "stdout",
          "text": [
            "7.866666666666666\n",
            "21.3\n",
            "8.633333333333333\n",
            "10.466666666666667\n",
            "10.0\n",
            "9.533333333333333\n",
            "22.266666666666666\n",
            "10.433333333333334\n",
            "9.8\n",
            "11.533333333333333\n",
            "7.2\n",
            "11.033333333333333\n",
            "7.8\n",
            "12.866666666666667\n",
            "9.6\n",
            "10.466666666666667\n",
            "5.033333333333333\n",
            "11.833333333333334\n",
            "11.733333333333333\n",
            "13.466666666666667\n",
            "13.466666666666667\n",
            "10.2\n",
            "15.3\n",
            "9.566666666666666\n",
            "12.933333333333334\n",
            "10.433333333333334\n",
            "8.466666666666667\n",
            "6.9\n",
            "10.266666666666667\n",
            "5.733333333333333\n",
            "11.266666666666667\n",
            "12.633333333333333\n",
            "8.833333333333334\n",
            "10.966666666666667\n",
            "9.766666666666667\n",
            "9.733333333333333\n",
            "11.8\n",
            "7.8\n",
            "10.266666666666667\n",
            "17.7\n",
            "9.1\n",
            "8.333333333333334\n",
            "12.666666666666666\n",
            "13.0\n",
            "6.6\n",
            "26.566666666666666\n",
            "13.0\n",
            "8.5\n",
            "12.833333333333334\n",
            "8.166666666666666\n",
            "9.466666666666667\n",
            "9.9\n",
            "12.466666666666667\n",
            "7.766666666666667\n",
            "9.466666666666667\n",
            "12.933333333333334\n",
            "9.666666666666666\n",
            "11.433333333333334\n",
            "13.7\n",
            "8.966666666666667\n",
            "7.4\n",
            "15.8\n",
            "15.9\n",
            "12.6\n",
            "10.633333333333333\n",
            "15.566666666666666\n",
            "9.2\n",
            "9.433333333333334\n",
            "6.566666666666666\n",
            "11.666666666666666\n",
            "10.966666666666667\n",
            "15.466666666666667\n",
            "10.8\n",
            "6.6\n",
            "11.933333333333334\n",
            "11.8\n",
            "7.366666666666666\n",
            "13.166666666666666\n",
            "10.633333333333333\n",
            "17.7\n",
            "9.733333333333333\n",
            "10.1\n",
            "9.9\n",
            "16.133333333333333\n",
            "15.533333333333333\n",
            "13.166666666666666\n",
            "11.866666666666667\n",
            "12.366666666666667\n",
            "11.3\n",
            "13.9\n",
            "15.366666666666667\n",
            "8.533333333333333\n",
            "12.833333333333334\n",
            "14.666666666666666\n",
            "12.4\n",
            "8.566666666666666\n",
            "8.666666666666666\n",
            "7.6\n",
            "14.933333333333334\n",
            "14.1\n",
            "9.133333333333333\n",
            "8.833333333333334\n",
            "17.466666666666665\n",
            "10.733333333333333\n",
            "11.533333333333333\n",
            "11.233333333333333\n",
            "12.166666666666666\n",
            "14.033333333333333\n",
            "11.466666666666667\n",
            "12.8\n",
            "13.433333333333334\n",
            "9.233333333333333\n",
            "8.933333333333334\n",
            "7.166666666666667\n",
            "9.6\n",
            "10.0\n",
            "9.266666666666667\n",
            "7.633333333333334\n",
            "10.5\n",
            "13.066666666666666\n",
            "12.366666666666667\n",
            "11.666666666666666\n",
            "9.033333333333333\n",
            "8.766666666666667\n",
            "9.833333333333334\n",
            "14.066666666666666\n",
            "7.966666666666667\n",
            "10.266666666666667\n",
            "9.233333333333333\n",
            "11.1\n",
            "14.166666666666666\n",
            "14.5\n",
            "15.666666666666666\n",
            "8.1\n",
            "15.7\n",
            "11.8\n",
            "17.366666666666667\n",
            "9.266666666666667\n",
            "11.033333333333333\n",
            "9.833333333333334\n",
            "9.833333333333334\n",
            "6.833333333333333\n",
            "15.7\n",
            "12.9\n",
            "8.666666666666666\n",
            "7.766666666666667\n",
            "15.433333333333334\n",
            "7.566666666666666\n",
            "14.166666666666666\n",
            "11.133333333333333\n",
            "9.833333333333334\n",
            "11.966666666666667\n",
            "13.666666666666666\n",
            "19.333333333333332\n",
            "8.333333333333334\n",
            "19.2\n",
            "21.266666666666666\n",
            "7.866666666666666\n",
            "9.766666666666667\n",
            "11.366666666666667\n",
            "10.966666666666667\n",
            "7.366666666666666\n",
            "10.1\n",
            "9.3\n",
            "9.666666666666666\n",
            "12.766666666666667\n",
            "9.166666666666666\n",
            "10.566666666666666\n",
            "12.733333333333333\n",
            "17.866666666666667\n",
            "10.866666666666667\n",
            "9.5\n",
            "8.3\n",
            "8.866666666666667\n",
            "11.7\n",
            "14.233333333333333\n",
            "5.633333333333334\n",
            "7.633333333333334\n",
            "10.966666666666667\n",
            "8.233333333333333\n",
            "11.933333333333334\n",
            "10.2\n",
            "7.166666666666667\n",
            "14.5\n",
            "8.366666666666667\n",
            "10.133333333333333\n",
            "18.133333333333333\n",
            "7.533333333333333\n",
            "20.6\n",
            "10.933333333333334\n",
            "9.566666666666666\n",
            "10.866666666666667\n",
            "10.733333333333333\n",
            "7.0\n",
            "9.566666666666666\n",
            "12.3\n",
            "7.533333333333333\n",
            "9.266666666666667\n",
            "13.666666666666666\n",
            "12.533333333333333\n",
            "15.166666666666666\n",
            "8.733333333333333\n",
            "6.733333333333333\n",
            "14.6\n",
            "11.0\n",
            "15.933333333333334\n",
            "9.433333333333334\n",
            "12.9\n",
            "15.066666666666666\n",
            "12.5\n",
            "30.3\n",
            "14.033333333333333\n",
            "12.233333333333333\n",
            "6.666666666666667\n",
            "12.966666666666667\n",
            "11.5\n",
            "10.333333333333334\n",
            "21.066666666666666\n",
            "15.733333333333333\n",
            "9.833333333333334\n",
            "9.266666666666667\n",
            "17.333333333333332\n",
            "9.333333333333334\n",
            "10.233333333333333\n",
            "13.166666666666666\n",
            "18.866666666666667\n",
            "10.6\n",
            "9.533333333333333\n",
            "14.0\n",
            "8.433333333333334\n",
            "11.366666666666667\n",
            "7.5\n",
            "10.266666666666667\n",
            "9.266666666666667\n",
            "14.3\n",
            "14.766666666666667\n",
            "6.766666666666667\n",
            "8.533333333333333\n",
            "11.4\n",
            "10.633333333333333\n",
            "17.8\n",
            "12.066666666666666\n",
            "6.9\n",
            "23.833333333333332\n",
            "11.433333333333334\n",
            "10.533333333333333\n",
            "13.2\n",
            "7.5\n",
            "7.0\n",
            "9.066666666666666\n",
            "10.966666666666667\n",
            "11.133333333333333\n",
            "13.133333333333333\n",
            "7.533333333333333\n",
            "8.733333333333333\n",
            "11.5\n",
            "16.233333333333334\n",
            "10.7\n",
            "11.066666666666666\n",
            "10.466666666666667\n",
            "12.0\n",
            "9.466666666666667\n",
            "10.9\n",
            "10.433333333333334\n",
            "6.0\n",
            "6.166666666666667\n",
            "14.466666666666667\n",
            "12.066666666666666\n",
            "11.833333333333334\n",
            "14.366666666666667\n",
            "7.5\n",
            "21.466666666666665\n",
            "6.8\n",
            "9.333333333333334\n",
            "13.433333333333334\n",
            "10.733333333333333\n",
            "7.933333333333334\n",
            "6.0\n",
            "8.533333333333333\n",
            "13.1\n",
            "8.966666666666667\n",
            "9.4\n",
            "10.2\n",
            "14.833333333333334\n",
            "9.833333333333334\n",
            "11.866666666666667\n",
            "10.266666666666667\n",
            "9.166666666666666\n",
            "12.4\n",
            "12.2\n",
            "14.566666666666666\n",
            "9.666666666666666\n",
            "8.633333333333333\n",
            "8.2\n",
            "9.0\n",
            "11.366666666666667\n",
            "14.133333333333333\n",
            "10.133333333333333\n",
            "11.166666666666666\n",
            "12.833333333333334\n",
            "13.5\n",
            "10.366666666666667\n",
            "8.166666666666666\n",
            "9.1\n",
            "7.666666666666667\n",
            "14.9\n",
            "11.533333333333333\n",
            "9.766666666666667\n",
            "8.766666666666667\n",
            "10.033333333333333\n",
            "10.666666666666666\n",
            "18.433333333333334\n",
            "8.866666666666667\n",
            "9.7\n",
            "11.833333333333334\n",
            "8.333333333333334\n",
            "13.3\n",
            "12.8\n",
            "6.3\n",
            "13.733333333333333\n",
            "10.366666666666667\n",
            "14.133333333333333\n",
            "10.9\n",
            "11.9\n",
            "9.866666666666667\n",
            "11.3\n",
            "10.166666666666666\n",
            "18.133333333333333\n",
            "11.5\n",
            "7.166666666666667\n",
            "11.733333333333333\n",
            "19.033333333333335\n",
            "12.766666666666667\n",
            "14.5\n",
            "10.533333333333333\n",
            "10.1\n",
            "7.066666666666666\n",
            "19.266666666666666\n",
            "10.066666666666666\n",
            "13.466666666666667\n",
            "5.366666666666666\n",
            "8.633333333333333\n",
            "13.966666666666667\n",
            "8.1\n",
            "13.366666666666667\n",
            "7.1\n",
            "9.0\n",
            "8.066666666666666\n",
            "9.766666666666667\n",
            "14.966666666666667\n",
            "11.966666666666667\n",
            "10.766666666666667\n",
            "8.3\n",
            "9.133333333333333\n",
            "16.0\n",
            "8.366666666666667\n",
            "11.433333333333334\n",
            "9.2\n",
            "8.033333333333333\n",
            "12.133333333333333\n",
            "11.9\n",
            "10.3\n",
            "10.6\n",
            "7.7\n",
            "11.966666666666667\n",
            "13.0\n",
            "21.333333333333332\n",
            "12.1\n",
            "6.233333333333333\n",
            "10.566666666666666\n",
            "15.7\n",
            "6.033333333333333\n",
            "13.0\n",
            "10.766666666666667\n",
            "8.6\n",
            "11.4\n",
            "8.066666666666666\n",
            "9.033333333333333\n",
            "12.866666666666667\n",
            "9.4\n",
            "10.566666666666666\n",
            "9.8\n",
            "13.766666666666667\n",
            "14.966666666666667\n",
            "9.766666666666667\n",
            "6.766666666666667\n",
            "11.633333333333333\n",
            "9.833333333333334\n",
            "13.433333333333334\n",
            "12.633333333333333\n",
            "14.2\n",
            "12.0\n",
            "11.433333333333334\n",
            "9.5\n",
            "8.533333333333333\n",
            "8.733333333333333\n",
            "12.766666666666667\n",
            "8.966666666666667\n",
            "9.133333333333333\n",
            "9.033333333333333\n",
            "13.066666666666666\n",
            "7.9\n",
            "12.733333333333333\n",
            "13.533333333333333\n",
            "11.966666666666667\n",
            "8.633333333333333\n",
            "6.266666666666667\n",
            "10.4\n",
            "12.066666666666666\n",
            "10.2\n",
            "12.333333333333334\n",
            "8.3\n",
            "9.9\n",
            "18.166666666666668\n",
            "12.233333333333333\n",
            "12.233333333333333\n",
            "14.333333333333334\n",
            "15.933333333333334\n",
            "10.933333333333334\n",
            "12.433333333333334\n",
            "9.7\n",
            "9.033333333333333\n",
            "14.333333333333334\n",
            "5.9\n",
            "16.133333333333333\n",
            "13.033333333333333\n",
            "8.866666666666667\n",
            "14.466666666666667\n",
            "14.466666666666667\n",
            "7.233333333333333\n",
            "11.866666666666667\n",
            "9.933333333333334\n",
            "12.666666666666666\n",
            "10.366666666666667\n",
            "10.1\n",
            "12.766666666666667\n",
            "9.366666666666667\n",
            "17.5\n",
            "10.266666666666667\n",
            "14.733333333333333\n",
            "24.466666666666665\n",
            "10.8\n",
            "8.6\n",
            "12.0\n",
            "10.233333333333333\n",
            "10.333333333333334\n",
            "12.5\n",
            "19.0\n",
            "20.6\n",
            "12.866666666666667\n",
            "18.066666666666666\n",
            "9.6\n",
            "12.4\n",
            "11.5\n",
            "8.8\n",
            "15.666666666666666\n",
            "11.1\n",
            "10.166666666666666\n",
            "10.1\n",
            "8.8\n",
            "17.033333333333335\n",
            "15.4\n",
            "10.766666666666667\n",
            "13.7\n",
            "11.0\n",
            "8.233333333333333\n",
            "7.966666666666667\n",
            "11.233333333333333\n",
            "8.733333333333333\n",
            "5.266666666666667\n",
            "13.933333333333334\n",
            "16.6\n",
            "10.566666666666666\n",
            "11.5\n",
            "7.2\n",
            "10.033333333333333\n",
            "14.7\n",
            "9.433333333333334\n",
            "5.6\n",
            "6.7\n",
            "13.2\n",
            "8.433333333333334\n",
            "9.733333333333333\n",
            "11.333333333333334\n",
            "13.633333333333333\n",
            "9.8\n",
            "9.766666666666667\n",
            "8.1\n",
            "12.8\n",
            "8.166666666666666\n",
            "14.7\n",
            "15.166666666666666\n",
            "10.266666666666667\n",
            "9.7\n",
            "13.433333333333334\n",
            "11.133333333333333\n",
            "18.533333333333335\n",
            "15.966666666666667\n",
            "15.9\n",
            "10.833333333333334\n",
            "14.033333333333333\n",
            "12.066666666666666\n",
            "7.5\n",
            "11.466666666666667\n",
            "12.0\n",
            "11.166666666666666\n",
            "14.933333333333334\n",
            "10.366666666666667\n",
            "6.966666666666667\n",
            "6.266666666666667\n",
            "10.4\n",
            "7.6\n",
            "14.466666666666667\n",
            "13.4\n",
            "12.366666666666667\n",
            "9.0\n",
            "8.233333333333333\n",
            "8.4\n",
            "11.933333333333334\n",
            "15.6\n",
            "14.1\n",
            "15.966666666666667\n",
            "17.633333333333333\n",
            "10.266666666666667\n",
            "12.566666666666666\n",
            "7.466666666666667\n",
            "12.133333333333333\n",
            "14.966666666666667\n",
            "19.266666666666666\n",
            "12.633333333333333\n",
            "11.1\n",
            "13.133333333333333\n",
            "13.733333333333333\n",
            "9.6\n",
            "10.233333333333333\n",
            "9.8\n",
            "11.466666666666667\n",
            "12.9\n",
            "11.133333333333333\n",
            "8.233333333333333\n",
            "10.933333333333334\n",
            "20.666666666666668\n",
            "8.933333333333334\n",
            "5.166666666666667\n",
            "7.933333333333334\n",
            "9.733333333333333\n",
            "11.033333333333333\n",
            "13.4\n",
            "8.266666666666667\n",
            "14.2\n",
            "12.3\n",
            "9.466666666666667\n",
            "16.133333333333333\n",
            "15.166666666666666\n",
            "11.133333333333333\n",
            "15.933333333333334\n",
            "6.966666666666667\n",
            "9.366666666666667\n",
            "10.166666666666666\n",
            "16.066666666666666\n",
            "13.9\n",
            "8.633333333333333\n",
            "7.5\n",
            "12.433333333333334\n",
            "7.533333333333333\n",
            "12.7\n",
            "10.5\n",
            "13.333333333333334\n",
            "10.766666666666667\n",
            "7.633333333333334\n",
            "8.3\n",
            "11.366666666666667\n",
            "9.533333333333333\n",
            "10.0\n",
            "14.633333333333333\n",
            "9.433333333333334\n",
            "13.266666666666667\n",
            "8.2\n",
            "10.6\n",
            "7.333333333333333\n",
            "9.033333333333333\n",
            "11.433333333333334\n",
            "16.133333333333333\n",
            "12.4\n",
            "10.433333333333334\n",
            "17.0\n",
            "7.7\n",
            "10.5\n",
            "21.666666666666668\n",
            "20.0\n",
            "16.233333333333334\n",
            "8.766666666666667\n",
            "11.1\n",
            "11.066666666666666\n",
            "5.2\n",
            "9.9\n",
            "11.8\n",
            "6.366666666666666\n",
            "13.433333333333334\n",
            "23.866666666666667\n",
            "13.666666666666666\n",
            "17.8\n",
            "8.033333333333333\n",
            "10.1\n",
            "13.533333333333333\n",
            "13.766666666666667\n",
            "8.1\n",
            "8.166666666666666\n",
            "11.1\n",
            "17.533333333333335\n",
            "10.3\n",
            "9.066666666666666\n",
            "12.766666666666667\n",
            "8.966666666666667\n",
            "9.266666666666667\n",
            "9.0\n",
            "8.833333333333334\n",
            "9.333333333333334\n",
            "15.733333333333333\n",
            "6.366666666666666\n",
            "20.333333333333332\n",
            "15.766666666666667\n",
            "8.8\n",
            "8.066666666666666\n",
            "13.533333333333333\n",
            "11.533333333333333\n",
            "12.7\n",
            "9.833333333333334\n",
            "14.866666666666667\n",
            "11.766666666666667\n",
            "8.733333333333333\n",
            "11.1\n",
            "18.7\n",
            "12.1\n",
            "16.8\n",
            "9.433333333333334\n",
            "13.233333333333333\n",
            "8.2\n",
            "17.266666666666666\n",
            "9.666666666666666\n",
            "11.666666666666666\n",
            "13.9\n",
            "12.133333333333333\n",
            "12.533333333333333\n",
            "13.666666666666666\n",
            "16.566666666666666\n",
            "15.533333333333333\n",
            "11.033333333333333\n",
            "17.033333333333335\n",
            "11.7\n",
            "16.2\n",
            "17.466666666666665\n",
            "10.833333333333334\n",
            "8.166666666666666\n",
            "7.133333333333334\n",
            "25.9\n",
            "9.466666666666667\n",
            "13.4\n",
            "6.966666666666667\n",
            "8.3\n",
            "12.066666666666666\n",
            "12.133333333333333\n",
            "8.833333333333334\n",
            "13.866666666666667\n",
            "9.6\n",
            "9.933333333333334\n",
            "8.1\n",
            "12.5\n",
            "19.933333333333334\n",
            "11.2\n",
            "10.5\n",
            "9.466666666666667\n",
            "9.566666666666666\n",
            "13.466666666666667\n",
            "10.0\n",
            "29.066666666666666\n",
            "9.4\n",
            "13.066666666666666\n",
            "18.066666666666666\n",
            "9.466666666666667\n",
            "15.866666666666667\n",
            "11.7\n",
            "8.433333333333334\n",
            "8.533333333333333\n",
            "6.633333333333334\n",
            "12.533333333333333\n",
            "12.2\n",
            "12.2\n",
            "11.4\n",
            "13.666666666666666\n",
            "14.033333333333333\n",
            "8.733333333333333\n",
            "7.666666666666667\n",
            "7.566666666666666\n",
            "9.433333333333334\n",
            "11.233333333333333\n",
            "11.466666666666667\n",
            "12.466666666666667\n",
            "10.8\n",
            "8.0\n",
            "9.433333333333334\n",
            "10.533333333333333\n",
            "11.933333333333334\n",
            "7.033333333333333\n",
            "9.8\n",
            "10.8\n",
            "14.3\n",
            "9.566666666666666\n",
            "10.033333333333333\n",
            "7.5\n",
            "14.166666666666666\n",
            "7.566666666666666\n",
            "10.933333333333334\n",
            "14.966666666666667\n",
            "8.733333333333333\n",
            "9.3\n",
            "7.733333333333333\n",
            "12.566666666666666\n",
            "10.233333333333333\n",
            "16.266666666666666\n",
            "11.9\n",
            "6.4\n",
            "11.1\n",
            "9.633333333333333\n",
            "11.333333333333334\n",
            "14.6\n",
            "10.333333333333334\n",
            "14.0\n",
            "13.466666666666667\n",
            "10.5\n",
            "8.433333333333334\n",
            "15.066666666666666\n",
            "10.4\n",
            "11.533333333333333\n",
            "12.833333333333334\n",
            "13.666666666666666\n",
            "11.566666666666666\n",
            "10.3\n",
            "17.333333333333332\n",
            "9.3\n",
            "11.633333333333333\n",
            "11.133333333333333\n",
            "12.866666666666667\n",
            "9.9\n",
            "10.166666666666666\n",
            "13.266666666666667\n",
            "11.633333333333333\n",
            "11.433333333333334\n",
            "16.966666666666665\n",
            "10.0\n",
            "20.133333333333333\n",
            "11.7\n",
            "8.4\n",
            "13.1\n",
            "11.733333333333333\n",
            "7.433333333333334\n",
            "15.366666666666667\n",
            "12.533333333333333\n",
            "8.166666666666666\n",
            "7.366666666666666\n",
            "12.166666666666666\n",
            "6.633333333333334\n",
            "12.333333333333334\n",
            "11.633333333333333\n",
            "7.566666666666666\n",
            "16.466666666666665\n",
            "10.666666666666666\n",
            "7.433333333333334\n",
            "11.766666666666667\n",
            "16.2\n",
            "12.866666666666667\n",
            "13.7\n",
            "9.0\n",
            "8.233333333333333\n",
            "16.433333333333334\n",
            "6.5\n",
            "7.666666666666667\n",
            "13.466666666666667\n",
            "16.7\n",
            "7.7\n",
            "13.4\n",
            "11.366666666666667\n",
            "9.166666666666666\n",
            "11.4\n",
            "13.5\n",
            "8.566666666666666\n",
            "11.333333333333334\n",
            "13.4\n",
            "9.933333333333334\n",
            "22.666666666666668\n",
            "13.9\n",
            "9.8\n",
            "13.533333333333333\n",
            "9.333333333333334\n",
            "7.9\n",
            "7.266666666666667\n",
            "7.6\n",
            "7.966666666666667\n",
            "12.7\n",
            "10.266666666666667\n",
            "9.4\n",
            "10.133333333333333\n",
            "14.6\n",
            "16.366666666666667\n",
            "9.466666666666667\n",
            "16.8\n",
            "10.633333333333333\n",
            "8.1\n",
            "10.833333333333334\n",
            "15.866666666666667\n",
            "12.833333333333334\n",
            "9.5\n",
            "12.666666666666666\n",
            "19.766666666666666\n",
            "15.333333333333334\n",
            "6.7\n",
            "13.7\n",
            "12.7\n",
            "12.0\n",
            "9.266666666666667\n",
            "14.1\n",
            "8.9\n",
            "6.866666666666666\n",
            "16.233333333333334\n",
            "12.333333333333334\n",
            "10.566666666666666\n",
            "8.366666666666667\n",
            "8.933333333333334\n",
            "15.866666666666667\n",
            "8.8\n",
            "7.6\n",
            "15.2\n",
            "11.466666666666667\n",
            "12.466666666666667\n",
            "13.066666666666666\n",
            "14.0\n",
            "13.066666666666666\n",
            "9.366666666666667\n",
            "10.866666666666667\n",
            "9.266666666666667\n",
            "10.733333333333333\n",
            "10.9\n",
            "17.733333333333334\n",
            "9.133333333333333\n",
            "10.133333333333333\n",
            "14.933333333333334\n",
            "12.266666666666667\n",
            "13.1\n",
            "6.4\n",
            "13.033333333333333\n",
            "17.166666666666668\n",
            "13.133333333333333\n",
            "10.166666666666666\n",
            "12.433333333333334\n",
            "8.633333333333333\n",
            "7.1\n",
            "7.233333333333333\n",
            "12.933333333333334\n",
            "8.333333333333334\n",
            "6.133333333333334\n",
            "5.433333333333334\n",
            "15.033333333333333\n",
            "18.5\n",
            "11.733333333333333\n",
            "10.333333333333334\n",
            "6.666666666666667\n",
            "7.566666666666666\n",
            "5.566666666666666\n",
            "14.9\n",
            "13.166666666666666\n",
            "9.333333333333334\n",
            "11.466666666666667\n",
            "12.266666666666667\n",
            "16.6\n",
            "12.566666666666666\n",
            "9.133333333333333\n",
            "8.666666666666666\n",
            "19.166666666666668\n",
            "11.233333333333333\n",
            "10.966666666666667\n",
            "8.5\n",
            "11.2\n",
            "13.033333333333333\n",
            "13.833333333333334\n",
            "11.133333333333333\n",
            "9.833333333333334\n",
            "7.766666666666667\n",
            "15.2\n",
            "9.5\n",
            "8.633333333333333\n",
            "12.666666666666666\n",
            "13.4\n",
            "12.1\n",
            "11.3\n",
            "13.533333333333333\n",
            "8.766666666666667\n",
            "4.3\n",
            "9.966666666666667\n",
            "25.633333333333333\n",
            "11.8\n",
            "8.966666666666667\n",
            "8.566666666666666\n",
            "19.966666666666665\n",
            "9.266666666666667\n",
            "8.7\n",
            "10.966666666666667\n",
            "13.6\n",
            "10.6\n",
            "11.866666666666667\n",
            "15.933333333333334\n",
            "12.566666666666666\n",
            "10.633333333333333\n",
            "10.733333333333333\n",
            "11.266666666666667\n",
            "14.833333333333334\n",
            "10.333333333333334\n",
            "12.1\n",
            "10.4\n",
            "6.766666666666667\n",
            "14.233333333333333\n",
            "15.366666666666667\n",
            "25.733333333333334\n",
            "10.266666666666667\n",
            "9.833333333333334\n",
            "15.933333333333334\n",
            "10.7\n",
            "11.5\n",
            "10.3\n",
            "8.1\n",
            "10.533333333333333\n",
            "14.366666666666667\n",
            "12.2\n",
            "10.833333333333334\n",
            "10.2\n",
            "10.733333333333333\n",
            "7.733333333333333\n",
            "14.1\n",
            "17.266666666666666\n",
            "10.633333333333333\n",
            "12.233333333333333\n",
            "11.833333333333334\n",
            "9.933333333333334\n",
            "10.433333333333334\n",
            "16.866666666666667\n",
            "12.8\n",
            "13.333333333333334\n",
            "14.8\n",
            "17.766666666666666\n",
            "9.433333333333334\n",
            "8.5\n",
            "10.7\n",
            "9.733333333333333\n",
            "7.566666666666666\n",
            "10.5\n",
            "12.533333333333333\n",
            "12.566666666666666\n",
            "16.433333333333334\n",
            "12.266666666666667\n",
            "10.333333333333334\n",
            "10.5\n",
            "5.5\n",
            "11.966666666666667\n",
            "7.4\n",
            "12.933333333333334\n",
            "11.5\n",
            "8.0\n",
            "10.866666666666667\n",
            "10.833333333333334\n",
            "14.9\n",
            "12.266666666666667\n",
            "9.133333333333333\n",
            "12.433333333333334\n",
            "13.133333333333333\n",
            "6.0\n",
            "10.1\n",
            "9.166666666666666\n",
            "26.466666666666665\n",
            "12.766666666666667\n",
            "13.233333333333333\n",
            "10.533333333333333\n",
            "9.833333333333334\n",
            "11.5\n",
            "9.3\n",
            "8.966666666666667\n",
            "11.2\n",
            "12.133333333333333\n",
            "10.033333333333333\n",
            "11.866666666666667\n",
            "12.466666666666667\n",
            "13.5\n",
            "12.4\n",
            "19.2\n",
            "12.2\n",
            "13.933333333333334\n",
            "14.5\n",
            "15.266666666666667\n",
            "13.0\n",
            "20.133333333333333\n",
            "6.833333333333333\n",
            "9.4\n"
          ]
        }
      ]
    },
    {
      "cell_type": "code",
      "source": [
        "plt.hist(sample_means, bins=30)\n",
        "plt.show()"
      ],
      "metadata": {
        "colab": {
          "base_uri": "https://localhost:8080/",
          "height": 430
        },
        "id": "znwVXfhaEUP8",
        "outputId": "9db4f526-17c2-4b8d-89d0-f80e8b6ad0f9"
      },
      "execution_count": null,
      "outputs": [
        {
          "output_type": "display_data",
          "data": {
            "text/plain": [
              "<Figure size 640x480 with 1 Axes>"
            ],
            "image/png": "[encoded data removed]"
          },
          "metadata": {}
        }
      ]
    },
    {
      "cell_type": "code",
      "source": [
        "np.mean(sample_means)"
      ],
      "metadata": {
        "colab": {
          "base_uri": "https://localhost:8080/"
        },
        "id": "CFPv5BzGEcmD",
        "outputId": "e2fcf0b0-b07e-4dbf-d90e-587b9e4daa03"
      },
      "execution_count": null,
      "outputs": [
        {
          "output_type": "execute_result",
          "data": {
            "text/plain": [
              "11.539900000000001"
            ]
          },
          "metadata": {},
          "execution_count": 13
        }
      ]
    },
    {
      "cell_type": "code",
      "source": [
        "ns_book7['대출건수'].mean()"
      ],
      "metadata": {
        "colab": {
          "base_uri": "https://localhost:8080/"
        },
        "id": "Uhwb6hypAIGb",
        "outputId": "4d9a00a3-385f-42f4-f8c6-dd023209cf3d"
      },
      "execution_count": null,
      "outputs": [
        {
          "output_type": "execute_result",
          "data": {
            "text/plain": [
              "11.593438968070707"
            ]
          },
          "metadata": {},
          "execution_count": 14
        }
      ]
    },
    {
      "cell_type": "code",
      "source": [
        "np.random.seed(42)\n",
        "sample_means = []\n",
        "for _ in range(1000):\n",
        "    m = ns_book7['대출건수'].sample(20).mean()\n",
        "    sample_means.append(m)\n",
        "np.mean(sample_means)"
      ],
      "metadata": {
        "colab": {
          "base_uri": "https://localhost:8080/"
        },
        "id": "81wyqAFKAGHL",
        "outputId": "9ab1e16e-7034-4786-8c7d-73bf496c05b2"
      },
      "execution_count": null,
      "outputs": [
        {
          "output_type": "execute_result",
          "data": {
            "text/plain": [
              "11.39945"
            ]
          },
          "metadata": {},
          "execution_count": 15
        }
      ]
    },
    {
      "cell_type": "code",
      "source": [
        "np.random.seed(42)\n",
        "sample_means = []\n",
        "for _ in range(1000):\n",
        "    m = ns_book7['대출건수'].sample(40).mean()\n",
        "    sample_means.append(m)\n",
        "np.mean(sample_means)"
      ],
      "metadata": {
        "colab": {
          "base_uri": "https://localhost:8080/"
        },
        "id": "pehKtcP2Kag5",
        "outputId": "da74d9a0-dacb-41db-e5bf-893a442a897c"
      },
      "execution_count": null,
      "outputs": [
        {
          "output_type": "execute_result",
          "data": {
            "text/plain": [
              "11.5613"
            ]
          },
          "metadata": {},
          "execution_count": 16
        }
      ]
    },
    {
      "cell_type": "markdown",
      "source": [
        "표준점수는 z = X - 평균 / 표준편차 입니다.\n",
        "그리고 표본에 대한 표준편차는 ?\n",
        "표본의 표준편차는 s = 모집단의 표준편차 / 루트(표본에 포함된 샘플개수)"
      ],
      "metadata": {
        "id": "QzuKW-7VyJc1"
      }
    },
    {
      "cell_type": "code",
      "source": [
        "np.std(sample_means) # 표본으로 표준편차를 구한경우"
      ],
      "metadata": {
        "colab": {
          "base_uri": "https://localhost:8080/"
        },
        "id": "1X5HtYZEKdGn",
        "outputId": "bd40c5e3-6c4b-4c2c-8003-92d83bbac435"
      },
      "execution_count": null,
      "outputs": [
        {
          "output_type": "execute_result",
          "data": {
            "text/plain": [
              "3.0355987564235165"
            ]
          },
          "metadata": {},
          "execution_count": 17
        }
      ]
    },
    {
      "cell_type": "code",
      "source": [
        "np.std(ns_book7['대출건수']) / np.sqrt(40) # 표본에 대한 표준 편차는 = 전체 데이터의 표준편차 / 표본에 샘플 개수의 제곱근"
      ],
      "metadata": {
        "colab": {
          "base_uri": "https://localhost:8080/"
        },
        "id": "jYMjCL3VKgep",
        "outputId": "6dd4fbf0-507a-4dbe-b241-373e64f8d632"
      },
      "execution_count": null,
      "outputs": [
        {
          "output_type": "execute_result",
          "data": {
            "text/plain": [
              "3.048338251806833"
            ]
          },
          "metadata": {},
          "execution_count": 18
        }
      ]
    },
    {
      "cell_type": "markdown",
      "source": [
        "신뢰구간이란  만약 단 하나의 표본만이 존재한다면 평균을 추정할 수 있는가?\n",
        "신뢰구간은 표본의 파라ㅡ미터가 속할 것이라 믿는 모집단의 파라미터 범위입니다."
      ],
      "metadata": {
        "id": "erIEsNzqMIz5"
      }
    },
    {
      "cell_type": "markdown",
      "source": [
        "두 값이 매우 비슷한걸 확인할 수 있다."
      ],
      "metadata": {
        "id": "Cn8BjACiQ_-Q"
      }
    },
    {
      "cell_type": "markdown",
      "source": [
        "모집단의 평균 범위 추정하기  : 신뢰구간\n",
        "\n"
      ],
      "metadata": {
        "id": "OpljjL1aeWUJ"
      }
    },
    {
      "cell_type": "markdown",
      "source": [
        "신뢰구간이란\n",
        "*신뢰 구간(Confidence Interval)**은 통계학에서 모집단의 특정 모수(예: 평균, 비율)가 포함될 것으로 예상되는 범위를 말합니다. 즉, 표본 데이터를 분석하여 얻은 통계량을 기반으로, 실제 모집단의 모수가 어느 범위 안에 있을지 추정하는 것입니다."
      ],
      "metadata": {
        "id": "5_UtxplggID6"
      }
    },
    {
      "cell_type": "markdown",
      "source": [
        "이게 뭔 개소리냐 ?\n",
        "신뢰 구간은 **모집단의 모수(parameter)**가 특정 범위 안에 있을 것이라고 신뢰할 수 있는 정도를 나타냅니다. 여기서 모수는 모집단 전체의 특성을 나타내는 값으로, 예를 들어 모집단의 평균, 분산, 비율 등이 있습니다.\n",
        "즉 모수검정이 표본을 통해 모집단-전체의 수치를 측정한다면 신뢰구간은 구간을 설정한것이다."
      ],
      "metadata": {
        "id": "GfaFnI9UgMD6"
      }
    },
    {
      "cell_type": "code",
      "source": [
        "python_books_index= ns_book7[\"주제분류번호\"].str.startswith(\"00\")& \\\n",
        "                    ns_book7[\"도서명\"].str.contains(\"파이썬\")\n",
        "python_books = ns_book7[python_books_index]\n",
        "python_books.head()"
      ],
      "metadata": {
        "colab": {
          "base_uri": "https://localhost:8080/",
          "height": 206
        },
        "id": "Pd7vOZ3QeVfM",
        "outputId": "9bb108b0-9702-4775-fb0c-a95b1135ac5a"
      },
      "execution_count": null,
      "outputs": [
        {
          "output_type": "execute_result",
          "data": {
            "text/plain": [
              "        번호                                                도서명  \\\n",
              "1040  1060  실전 알고리즘 트레이딩 배우기 (파이썬으로 시작하는 알고리즘 트레이딩의 기초와 실전...   \n",
              "1162  1185                          파이썬으로 경험하는 빅데이터 분석과 머신러닝    \n",
              "1447  1504            금융 파이썬 쿡북 (금융 데이터 처리와 기술 분석부터 딥러닝 적용까지)   \n",
              "1563  1630      프로그래머를 위한 파이썬 (실전 프로젝트로 배우는 소프트웨어 개발의 원리와 정석)   \n",
              "1571  1640                엑셀 × 파이썬 업무 자동화 - 매크로, VBA는 이제 낡았다!   \n",
              "\n",
              "                             저자    출판사  발행년도           ISBN 세트 ISBN 부가기호    권  \\\n",
              "1040   세바스티앙 도나디오.수라브 고쉬 지음|이기홍  에이콘출판  2021  9791161754901     NaN  NaN  NaN   \n",
              "1162                 이영호,이수현 지음  생능출판사  2021  9788970504803     NaN    9  NaN   \n",
              "1447                     에릭 르윈슨  에이콘출판  2021  9791161750507     NaN  NaN  NaN   \n",
              "1563              데인 힐라드 지음|황반석    제이펍  2020  9791190665636     NaN  NaN  NaN   \n",
              "1571  카네히로 카즈미 (지은이), 서수환 (옮긴이)   인사이트  2020  9788966262847     NaN  NaN  NaN   \n",
              "\n",
              "       주제분류번호  도서권수  대출건수        등록일자  \n",
              "1040   004.73     1     1  2021-03-09  \n",
              "1162  005.135     1     1  2021-03-02  \n",
              "1447  005.133     1     2  2021-02-22  \n",
              "1563  005.133     1     2  2021-02-16  \n",
              "1571   005.53     1     2  2021-02-16  "
            ],
            "text/html": [
              "\n",
              "  <div id=\"df-798a7324-2d2a-4c62-af7a-7ad2000b7909\" class=\"colab-df-container\">\n",
              "    <div>\n",
              "<style scoped>\n",
              "    .dataframe tbody tr th:only-of-type {\n",
              "        vertical-align: middle;\n",
              "    }\n",
              "\n",
              "    .dataframe tbody tr th {\n",
              "        vertical-align: top;\n",
              "    }\n",
              "\n",
              "    .dataframe thead th {\n",
              "        text-align: right;\n",
              "    }\n",
              "</style>\n",
              "<table border=\"1\" class=\"dataframe\">\n",
              "  <thead>\n",
              "    <tr style=\"text-align: right;\">\n",
              "      <th></th>\n",
              "      <th>번호</th>\n",
              "      <th>도서명</th>\n",
              "      <th>저자</th>\n",
              "      <th>출판사</th>\n",
              "      <th>발행년도</th>\n",
              "      <th>ISBN</th>\n",
              "      <th>세트 ISBN</th>\n",
              "      <th>부가기호</th>\n",
              "      <th>권</th>\n",
              "      <th>주제분류번호</th>\n",
              "      <th>도서권수</th>\n",
              "      <th>대출건수</th>\n",
              "      <th>등록일자</th>\n",
              "    </tr>\n",
              "  </thead>\n",
              "  <tbody>\n",
              "    <tr>\n",
              "      <th>1040</th>\n",
              "      <td>1060</td>\n",
              "      <td>실전 알고리즘 트레이딩 배우기 (파이썬으로 시작하는 알고리즘 트레이딩의 기초와 실전...</td>\n",
              "      <td>세바스티앙 도나디오.수라브 고쉬 지음|이기홍</td>\n",
              "      <td>에이콘출판</td>\n",
              "      <td>2021</td>\n",
              "      <td>9791161754901</td>\n",
              "      <td>NaN</td>\n",
              "      <td>NaN</td>\n",
              "      <td>NaN</td>\n",
              "      <td>004.73</td>\n",
              "      <td>1</td>\n",
              "      <td>1</td>\n",
              "      <td>2021-03-09</td>\n",
              "    </tr>\n",
              "    <tr>\n",
              "      <th>1162</th>\n",
              "      <td>1185</td>\n",
              "      <td>파이썬으로 경험하는 빅데이터 분석과 머신러닝</td>\n",
              "      <td>이영호,이수현 지음</td>\n",
              "      <td>생능출판사</td>\n",
              "      <td>2021</td>\n",
              "      <td>9788970504803</td>\n",
              "      <td>NaN</td>\n",
              "      <td>9</td>\n",
              "      <td>NaN</td>\n",
              "      <td>005.135</td>\n",
              "      <td>1</td>\n",
              "      <td>1</td>\n",
              "      <td>2021-03-02</td>\n",
              "    </tr>\n",
              "    <tr>\n",
              "      <th>1447</th>\n",
              "      <td>1504</td>\n",
              "      <td>금융 파이썬 쿡북 (금융 데이터 처리와 기술 분석부터 딥러닝 적용까지)</td>\n",
              "      <td>에릭 르윈슨</td>\n",
              "      <td>에이콘출판</td>\n",
              "      <td>2021</td>\n",
              "      <td>9791161750507</td>\n",
              "      <td>NaN</td>\n",
              "      <td>NaN</td>\n",
              "      <td>NaN</td>\n",
              "      <td>005.133</td>\n",
              "      <td>1</td>\n",
              "      <td>2</td>\n",
              "      <td>2021-02-22</td>\n",
              "    </tr>\n",
              "    <tr>\n",
              "      <th>1563</th>\n",
              "      <td>1630</td>\n",
              "      <td>프로그래머를 위한 파이썬 (실전 프로젝트로 배우는 소프트웨어 개발의 원리와 정석)</td>\n",
              "      <td>데인 힐라드 지음|황반석</td>\n",
              "      <td>제이펍</td>\n",
              "      <td>2020</td>\n",
              "      <td>9791190665636</td>\n",
              "      <td>NaN</td>\n",
              "      <td>NaN</td>\n",
              "      <td>NaN</td>\n",
              "      <td>005.133</td>\n",
              "      <td>1</td>\n",
              "      <td>2</td>\n",
              "      <td>2021-02-16</td>\n",
              "    </tr>\n",
              "    <tr>\n",
              "      <th>1571</th>\n",
              "      <td>1640</td>\n",
              "      <td>엑셀 × 파이썬 업무 자동화 - 매크로, VBA는 이제 낡았다!</td>\n",
              "      <td>카네히로 카즈미 (지은이), 서수환 (옮긴이)</td>\n",
              "      <td>인사이트</td>\n",
              "      <td>2020</td>\n",
              "      <td>9788966262847</td>\n",
              "      <td>NaN</td>\n",
              "      <td>NaN</td>\n",
              "      <td>NaN</td>\n",
              "      <td>005.53</td>\n",
              "      <td>1</td>\n",
              "      <td>2</td>\n",
              "      <td>2021-02-16</td>\n",
              "    </tr>\n",
              "  </tbody>\n",
              "</table>\n",
              "</div>\n",
              "    <div class=\"colab-df-buttons\">\n",
              "\n",
              "  <div class=\"colab-df-container\">\n",
              "    <button class=\"colab-df-convert\" onclick=\"convertToInteractive('df-798a7324-2d2a-4c62-af7a-7ad2000b7909')\"\n",
              "            title=\"Convert this dataframe to an interactive table.\"\n",
              "            style=\"display:none;\">\n",
              "\n",
              "  <svg xmlns=\"http://www.w3.org/2000/svg\" height=\"24px\" viewBox=\"0 -960 960 960\">\n",
              "    <path d=\"M120-120v-720h720v720H120Zm60-500h600v-160H180v160Zm220 220h160v-160H400v160Zm0 220h160v-160H400v160ZM180-400h160v-160H180v160Zm440 0h160v-160H620v160ZM180-180h160v-160H180v160Zm440 0h160v-160H620v160Z\"/>\n",
              "  </svg>\n",
              "    </button>\n",
              "\n",
              "  <style>\n",
              "    .colab-df-container {\n",
              "      display:flex;\n",
              "      gap: 12px;\n",
              "    }\n",
              "\n",
              "    .colab-df-convert {\n",
              "      background-color: #E8F0FE;\n",
              "      border: none;\n",
              "      border-radius: 50%;\n",
              "      cursor: pointer;\n",
              "      display: none;\n",
              "      fill: #1967D2;\n",
              "      height: 32px;\n",
              "      padding: 0 0 0 0;\n",
              "      width: 32px;\n",
              "    }\n",
              "\n",
              "    .colab-df-convert:hover {\n",
              "      background-color: #E2EBFA;\n",
              "      box-shadow: 0px 1px 2px rgba(60, 64, 67, 0.3), 0px 1px 3px 1px rgba(60, 64, 67, 0.15);\n",
              "      fill: #174EA6;\n",
              "    }\n",
              "\n",
              "    .colab-df-buttons div {\n",
              "      margin-bottom: 4px;\n",
              "    }\n",
              "\n",
              "    [theme=dark] .colab-df-convert {\n",
              "      background-color: #3B4455;\n",
              "      fill: #D2E3FC;\n",
              "    }\n",
              "\n",
              "    [theme=dark] .colab-df-convert:hover {\n",
              "      background-color: #434B5C;\n",
              "      box-shadow: 0px 1px 3px 1px rgba(0, 0, 0, 0.15);\n",
              "      filter: drop-shadow(0px 1px 2px rgba(0, 0, 0, 0.3));\n",
              "      fill: #FFFFFF;\n",
              "    }\n",
              "  </style>\n",
              "\n",
              "    <script>\n",
              "      const buttonEl =\n",
              "        document.querySelector('#df-798a7324-2d2a-4c62-af7a-7ad2000b7909 button.colab-df-convert');\n",
              "      buttonEl.style.display =\n",
              "        google.colab.kernel.accessAllowed ? 'block' : 'none';\n",
              "\n",
              "      async function convertToInteractive(key) {\n",
              "        const element = document.querySelector('#df-798a7324-2d2a-4c62-af7a-7ad2000b7909');\n",
              "        const dataTable =\n",
              "          await google.colab.kernel.invokeFunction('convertToInteractive',\n",
              "                                                    [key], {});\n",
              "        if (!dataTable) return;\n",
              "\n",
              "        const docLinkHtml = 'Like what you see? Visit the ' +\n",
              "          '<a target=\"_blank\" href=https://colab.research.google.com/notebooks/data_table.ipynb>data table notebook</a>'\n",
              "          + ' to learn more about interactive tables.';\n",
              "        element.innerHTML = '';\n",
              "        dataTable['output_type'] = 'display_data';\n",
              "        await google.colab.output.renderOutput(dataTable, element);\n",
              "        const docLink = document.createElement('div');\n",
              "        docLink.innerHTML = docLinkHtml;\n",
              "        element.appendChild(docLink);\n",
              "      }\n",
              "    </script>\n",
              "  </div>\n",
              "\n",
              "\n",
              "<div id=\"df-fad26927-9e8e-4cf5-bf0a-38c14b5f67df\">\n",
              "  <button class=\"colab-df-quickchart\" onclick=\"quickchart('df-fad26927-9e8e-4cf5-bf0a-38c14b5f67df')\"\n",
              "            title=\"Suggest charts\"\n",
              "            style=\"display:none;\">\n",
              "\n",
              "<svg xmlns=\"http://www.w3.org/2000/svg\" height=\"24px\"viewBox=\"0 0 24 24\"\n",
              "     width=\"24px\">\n",
              "    <g>\n",
              "        <path d=\"M19 3H5c-1.1 0-2 .9-2 2v14c0 1.1.9 2 2 2h14c1.1 0 2-.9 2-2V5c0-1.1-.9-2-2-2zM9 17H7v-7h2v7zm4 0h-2V7h2v10zm4 0h-2v-4h2v4z\"/>\n",
              "    </g>\n",
              "</svg>\n",
              "  </button>\n",
              "\n",
              "<style>\n",
              "  .colab-df-quickchart {\n",
              "      --bg-color: #E8F0FE;\n",
              "      --fill-color: #1967D2;\n",
              "      --hover-bg-color: #E2EBFA;\n",
              "      --hover-fill-color: #174EA6;\n",
              "      --disabled-fill-color: #AAA;\n",
              "      --disabled-bg-color: #DDD;\n",
              "  }\n",
              "\n",
              "  [theme=dark] .colab-df-quickchart {\n",
              "      --bg-color: #3B4455;\n",
              "      --fill-color: #D2E3FC;\n",
              "      --hover-bg-color: #434B5C;\n",
              "      --hover-fill-color: #FFFFFF;\n",
              "      --disabled-bg-color: #3B4455;\n",
              "      --disabled-fill-color: #666;\n",
              "  }\n",
              "\n",
              "  .colab-df-quickchart {\n",
              "    background-color: var(--bg-color);\n",
              "    border: none;\n",
              "    border-radius: 50%;\n",
              "    cursor: pointer;\n",
              "    display: none;\n",
              "    fill: var(--fill-color);\n",
              "    height: 32px;\n",
              "    padding: 0;\n",
              "    width: 32px;\n",
              "  }\n",
              "\n",
              "  .colab-df-quickchart:hover {\n",
              "    background-color: var(--hover-bg-color);\n",
              "    box-shadow: 0 1px 2px rgba(60, 64, 67, 0.3), 0 1px 3px 1px rgba(60, 64, 67, 0.15);\n",
              "    fill: var(--button-hover-fill-color);\n",
              "  }\n",
              "\n",
              "  .colab-df-quickchart-complete:disabled,\n",
              "  .colab-df-quickchart-complete:disabled:hover {\n",
              "    background-color: var(--disabled-bg-color);\n",
              "    fill: var(--disabled-fill-color);\n",
              "    box-shadow: none;\n",
              "  }\n",
              "\n",
              "  .colab-df-spinner {\n",
              "    border: 2px solid var(--fill-color);\n",
              "    border-color: transparent;\n",
              "    border-bottom-color: var(--fill-color);\n",
              "    animation:\n",
              "      spin 1s steps(1) infinite;\n",
              "  }\n",
              "\n",
              "  @keyframes spin {\n",
              "    0% {\n",
              "      border-color: transparent;\n",
              "      border-bottom-color: var(--fill-color);\n",
              "      border-left-color: var(--fill-color);\n",
              "    }\n",
              "    20% {\n",
              "      border-color: transparent;\n",
              "      border-left-color: var(--fill-color);\n",
              "      border-top-color: var(--fill-color);\n",
              "    }\n",
              "    30% {\n",
              "      border-color: transparent;\n",
              "      border-left-color: var(--fill-color);\n",
              "      border-top-color: var(--fill-color);\n",
              "      border-right-color: var(--fill-color);\n",
              "    }\n",
              "    40% {\n",
              "      border-color: transparent;\n",
              "      border-right-color: var(--fill-color);\n",
              "      border-top-color: var(--fill-color);\n",
              "    }\n",
              "    60% {\n",
              "      border-color: transparent;\n",
              "      border-right-color: var(--fill-color);\n",
              "    }\n",
              "    80% {\n",
              "      border-color: transparent;\n",
              "      border-right-color: var(--fill-color);\n",
              "      border-bottom-color: var(--fill-color);\n",
              "    }\n",
              "    90% {\n",
              "      border-color: transparent;\n",
              "      border-bottom-color: var(--fill-color);\n",
              "    }\n",
              "  }\n",
              "</style>\n",
              "\n",
              "  <script>\n",
              "    async function quickchart(key) {\n",
              "      const quickchartButtonEl =\n",
              "        document.querySelector('#' + key + ' button');\n",
              "      quickchartButtonEl.disabled = true;  // To prevent multiple clicks.\n",
              "      quickchartButtonEl.classList.add('colab-df-spinner');\n",
              "      try {\n",
              "        const charts = await google.colab.kernel.invokeFunction(\n",
              "            'suggestCharts', [key], {});\n",
              "      } catch (error) {\n",
              "        console.error('Error during call to suggestCharts:', error);\n",
              "      }\n",
              "      quickchartButtonEl.classList.remove('colab-df-spinner');\n",
              "      quickchartButtonEl.classList.add('colab-df-quickchart-complete');\n",
              "    }\n",
              "    (() => {\n",
              "      let quickchartButtonEl =\n",
              "        document.querySelector('#df-fad26927-9e8e-4cf5-bf0a-38c14b5f67df button');\n",
              "      quickchartButtonEl.style.display =\n",
              "        google.colab.kernel.accessAllowed ? 'block' : 'none';\n",
              "    })();\n",
              "  </script>\n",
              "</div>\n",
              "\n",
              "    </div>\n",
              "  </div>\n"
            ],
            "application/vnd.google.colaboratory.intrinsic+json": {
              "type": "dataframe",
              "variable_name": "python_books",
              "repr_error": "0"
            }
          },
          "metadata": {},
          "execution_count": 19
        }
      ]
    },
    {
      "cell_type": "code",
      "source": [
        "len(python_books)"
      ],
      "metadata": {
        "colab": {
          "base_uri": "https://localhost:8080/"
        },
        "id": "Tb9_GxythJ5p",
        "outputId": "c22c0331-9ed9-407c-e69a-0a94468b3b1d"
      },
      "execution_count": null,
      "outputs": [
        {
          "output_type": "execute_result",
          "data": {
            "text/plain": [
              "251"
            ]
          },
          "metadata": {},
          "execution_count": 20
        }
      ]
    },
    {
      "cell_type": "code",
      "source": [
        "python_mean = np.mean(python_books[\"대출건수\"]) # 파이썬 책의 대출건수 평균은 14.74라네요 즉 표본의 평균\n",
        "python_mean"
      ],
      "metadata": {
        "colab": {
          "base_uri": "https://localhost:8080/"
        },
        "id": "4_vxjfgGhMjG",
        "outputId": "4540c35b-6a22-4bec-fa5b-ecb43273ee74"
      },
      "execution_count": null,
      "outputs": [
        {
          "output_type": "execute_result",
          "data": {
            "text/plain": [
              "14.749003984063744"
            ]
          },
          "metadata": {},
          "execution_count": 21
        }
      ]
    },
    {
      "cell_type": "markdown",
      "source": [
        "모집단의 평균은 모르고 표본의 평균만 알때는\n",
        "z(모집단의 표준편차) =  14.75 - 모집단의 평균 /  "
      ],
      "metadata": {
        "id": "zJdhak1PjlBg"
      }
    },
    {
      "cell_type": "code",
      "source": [
        "python_std = np.std(python_books[\"대출건수\"])\n",
        "python_se = python_std / np.sqrt(len(python_books)) # 평균 / 표본 개수의 제곱근\n",
        "python_se"
      ],
      "metadata": {
        "colab": {
          "base_uri": "https://localhost:8080/"
        },
        "id": "R61qBQInNevu",
        "outputId": "3588ad00-3ab9-49dc-b4d4-98b047b4e5ad"
      },
      "execution_count": null,
      "outputs": [
        {
          "output_type": "execute_result",
          "data": {
            "text/plain": [
              "0.8041612072427442"
            ]
          },
          "metadata": {},
          "execution_count": 26
        }
      ]
    },
    {
      "cell_type": "code",
      "source": [
        "stats.norm.ppf(0.975)"
      ],
      "metadata": {
        "colab": {
          "base_uri": "https://localhost:8080/"
        },
        "id": "ydqPwdb5OdXe",
        "outputId": "34c60b56-909a-4654-98a1-c6dae7e06e65"
      },
      "execution_count": null,
      "outputs": [
        {
          "output_type": "execute_result",
          "data": {
            "text/plain": [
              "1.959963984540054"
            ]
          },
          "metadata": {},
          "execution_count": 27
        }
      ]
    },
    {
      "cell_type": "code",
      "source": [
        "stats.norm.ppf(0.025)"
      ],
      "metadata": {
        "colab": {
          "base_uri": "https://localhost:8080/"
        },
        "id": "1FiU4it2N4oM",
        "outputId": "dbb5b80b-e7c2-4571-8436-8a0d3aeaf2be"
      },
      "execution_count": null,
      "outputs": [
        {
          "output_type": "execute_result",
          "data": {
            "text/plain": [
              "-1.9599639845400545"
            ]
          },
          "metadata": {},
          "execution_count": 29
        }
      ]
    },
    {
      "cell_type": "code",
      "source": [
        "print(python_mean-1.96*python_se, python_mean+1.96*python_se)"
      ],
      "metadata": {
        "id": "HUC4uDx6N5tc",
        "colab": {
          "base_uri": "https://localhost:8080/"
        },
        "outputId": "52b9620c-9d14-4f81-e0d9-58c88b3d6813"
      },
      "execution_count": null,
      "outputs": [
        {
          "output_type": "stream",
          "name": "stdout",
          "text": [
            "13.172848017867965 16.325159950259522\n"
          ]
        }
      ]
    },
    {
      "cell_type": "markdown",
      "source": [
        "### 통계적 의미 확인 : 가설검정"
      ],
      "metadata": {
        "id": "3gSh89Fm0Q2w"
      }
    },
    {
      "cell_type": "markdown",
      "source": [
        "  가설검정이란 표본에 대한 정보를 사용해 모집단의 파라미터에 대한 가정을 검정하는 것이다.\n",
        "  예를들어 파이썬 도서 대출 건수와 c 도서 대출 건수가 같다면 표본을 통해 가정을 검정하는것"
      ],
      "metadata": {
        "id": "wn3zoO9m3a2W"
      }
    },
    {
      "cell_type": "code",
      "source": [
        "cplus_books_index =ns_book7[\"주제분류번호\"].str.startswith(\"00\")& ns_book7[\"도서명\"].str.contains(\"C++\",regex=False)\n",
        "cplus_books = ns_book7[cplus_books_index]\n",
        "cplus_books.head()"
      ],
      "metadata": {
        "colab": {
          "base_uri": "https://localhost:8080/",
          "height": 206
        },
        "id": "e5iZb-ZR0QFs",
        "outputId": "63fc892a-ef31-469f-bd17-96e06e2bf394"
      },
      "execution_count": null,
      "outputs": [
        {
          "output_type": "execute_result",
          "data": {
            "text/plain": [
              "          번호                                                도서명  \\\n",
              "101      103  C++를 사용한 언리얼 엔진 4 개발 2/e (100여 개의 레시피를 통해 배우는 ...   \n",
              "19754  20779                            Game Programming in C++   \n",
              "20198  21289                 C++ API OpenCV 프로그래밍 - 2nd Edition   \n",
              "21630  22950  Visual C++ 영상처리 프로그래밍 =Visual C++ image proces...   \n",
              "22461  23859                      Functional Programming in C++   \n",
              "\n",
              "                                저자    출판사  발행년도           ISBN 세트 ISBN 부가기호  \\\n",
              "101    존 도란.윌리엄 셰리프.스테판 화이틀 지음|조경빈    에이콘  2020  9791161754659     NaN  NaN   \n",
              "19754                     산자이 마드하브  에이콘출판  2019  9791161753560     NaN  NaN   \n",
              "20198                          김동근  가메출판사  2016  9788980782864     NaN  NaN   \n",
              "21630                       황선규 지음     길벗  2015  9791186978153     NaN    9   \n",
              "22461            이반 추키츠 지음, 김점갑 옮김  에이콘출판  2019  9791161753416     NaN  NaN   \n",
              "\n",
              "         권   주제분류번호  도서권수  대출건수        등록일자  \n",
              "101    NaN   005.11     1     1  2021-03-15  \n",
              "19754  NaN  005.133     1    10  2019-11-26  \n",
              "20198  NaN   004.77     1     5  2019-11-05  \n",
              "21630  NaN   004.77     1     3  2019-10-22  \n",
              "22461  NaN  005.133     1     4  2019-09-26  "
            ],
            "text/html": [
              "\n",
              "  <div id=\"df-efb73cb4-e950-4a9c-9277-f7140268e7d4\" class=\"colab-df-container\">\n",
              "    <div>\n",
              "<style scoped>\n",
              "    .dataframe tbody tr th:only-of-type {\n",
              "        vertical-align: middle;\n",
              "    }\n",
              "\n",
              "    .dataframe tbody tr th {\n",
              "        vertical-align: top;\n",
              "    }\n",
              "\n",
              "    .dataframe thead th {\n",
              "        text-align: right;\n",
              "    }\n",
              "</style>\n",
              "<table border=\"1\" class=\"dataframe\">\n",
              "  <thead>\n",
              "    <tr style=\"text-align: right;\">\n",
              "      <th></th>\n",
              "      <th>번호</th>\n",
              "      <th>도서명</th>\n",
              "      <th>저자</th>\n",
              "      <th>출판사</th>\n",
              "      <th>발행년도</th>\n",
              "      <th>ISBN</th>\n",
              "      <th>세트 ISBN</th>\n",
              "      <th>부가기호</th>\n",
              "      <th>권</th>\n",
              "      <th>주제분류번호</th>\n",
              "      <th>도서권수</th>\n",
              "      <th>대출건수</th>\n",
              "      <th>등록일자</th>\n",
              "    </tr>\n",
              "  </thead>\n",
              "  <tbody>\n",
              "    <tr>\n",
              "      <th>101</th>\n",
              "      <td>103</td>\n",
              "      <td>C++를 사용한 언리얼 엔진 4 개발 2/e (100여 개의 레시피를 통해 배우는 ...</td>\n",
              "      <td>존 도란.윌리엄 셰리프.스테판 화이틀 지음|조경빈</td>\n",
              "      <td>에이콘</td>\n",
              "      <td>2020</td>\n",
              "      <td>9791161754659</td>\n",
              "      <td>NaN</td>\n",
              "      <td>NaN</td>\n",
              "      <td>NaN</td>\n",
              "      <td>005.11</td>\n",
              "      <td>1</td>\n",
              "      <td>1</td>\n",
              "      <td>2021-03-15</td>\n",
              "    </tr>\n",
              "    <tr>\n",
              "      <th>19754</th>\n",
              "      <td>20779</td>\n",
              "      <td>Game Programming in C++</td>\n",
              "      <td>산자이 마드하브</td>\n",
              "      <td>에이콘출판</td>\n",
              "      <td>2019</td>\n",
              "      <td>9791161753560</td>\n",
              "      <td>NaN</td>\n",
              "      <td>NaN</td>\n",
              "      <td>NaN</td>\n",
              "      <td>005.133</td>\n",
              "      <td>1</td>\n",
              "      <td>10</td>\n",
              "      <td>2019-11-26</td>\n",
              "    </tr>\n",
              "    <tr>\n",
              "      <th>20198</th>\n",
              "      <td>21289</td>\n",
              "      <td>C++ API OpenCV 프로그래밍 - 2nd Edition</td>\n",
              "      <td>김동근</td>\n",
              "      <td>가메출판사</td>\n",
              "      <td>2016</td>\n",
              "      <td>9788980782864</td>\n",
              "      <td>NaN</td>\n",
              "      <td>NaN</td>\n",
              "      <td>NaN</td>\n",
              "      <td>004.77</td>\n",
              "      <td>1</td>\n",
              "      <td>5</td>\n",
              "      <td>2019-11-05</td>\n",
              "    </tr>\n",
              "    <tr>\n",
              "      <th>21630</th>\n",
              "      <td>22950</td>\n",
              "      <td>Visual C++ 영상처리 프로그래밍 =Visual C++ image proces...</td>\n",
              "      <td>황선규 지음</td>\n",
              "      <td>길벗</td>\n",
              "      <td>2015</td>\n",
              "      <td>9791186978153</td>\n",
              "      <td>NaN</td>\n",
              "      <td>9</td>\n",
              "      <td>NaN</td>\n",
              "      <td>004.77</td>\n",
              "      <td>1</td>\n",
              "      <td>3</td>\n",
              "      <td>2019-10-22</td>\n",
              "    </tr>\n",
              "    <tr>\n",
              "      <th>22461</th>\n",
              "      <td>23859</td>\n",
              "      <td>Functional Programming in C++</td>\n",
              "      <td>이반 추키츠 지음, 김점갑 옮김</td>\n",
              "      <td>에이콘출판</td>\n",
              "      <td>2019</td>\n",
              "      <td>9791161753416</td>\n",
              "      <td>NaN</td>\n",
              "      <td>NaN</td>\n",
              "      <td>NaN</td>\n",
              "      <td>005.133</td>\n",
              "      <td>1</td>\n",
              "      <td>4</td>\n",
              "      <td>2019-09-26</td>\n",
              "    </tr>\n",
              "  </tbody>\n",
              "</table>\n",
              "</div>\n",
              "    <div class=\"colab-df-buttons\">\n",
              "\n",
              "  <div class=\"colab-df-container\">\n",
              "    <button class=\"colab-df-convert\" onclick=\"convertToInteractive('df-efb73cb4-e950-4a9c-9277-f7140268e7d4')\"\n",
              "            title=\"Convert this dataframe to an interactive table.\"\n",
              "            style=\"display:none;\">\n",
              "\n",
              "  <svg xmlns=\"http://www.w3.org/2000/svg\" height=\"24px\" viewBox=\"0 -960 960 960\">\n",
              "    <path d=\"M120-120v-720h720v720H120Zm60-500h600v-160H180v160Zm220 220h160v-160H400v160Zm0 220h160v-160H400v160ZM180-400h160v-160H180v160Zm440 0h160v-160H620v160ZM180-180h160v-160H180v160Zm440 0h160v-160H620v160Z\"/>\n",
              "  </svg>\n",
              "    </button>\n",
              "\n",
              "  <style>\n",
              "    .colab-df-container {\n",
              "      display:flex;\n",
              "      gap: 12px;\n",
              "    }\n",
              "\n",
              "    .colab-df-convert {\n",
              "      background-color: #E8F0FE;\n",
              "      border: none;\n",
              "      border-radius: 50%;\n",
              "      cursor: pointer;\n",
              "      display: none;\n",
              "      fill: #1967D2;\n",
              "      height: 32px;\n",
              "      padding: 0 0 0 0;\n",
              "      width: 32px;\n",
              "    }\n",
              "\n",
              "    .colab-df-convert:hover {\n",
              "      background-color: #E2EBFA;\n",
              "      box-shadow: 0px 1px 2px rgba(60, 64, 67, 0.3), 0px 1px 3px 1px rgba(60, 64, 67, 0.15);\n",
              "      fill: #174EA6;\n",
              "    }\n",
              "\n",
              "    .colab-df-buttons div {\n",
              "      margin-bottom: 4px;\n",
              "    }\n",
              "\n",
              "    [theme=dark] .colab-df-convert {\n",
              "      background-color: #3B4455;\n",
              "      fill: #D2E3FC;\n",
              "    }\n",
              "\n",
              "    [theme=dark] .colab-df-convert:hover {\n",
              "      background-color: #434B5C;\n",
              "      box-shadow: 0px 1px 3px 1px rgba(0, 0, 0, 0.15);\n",
              "      filter: drop-shadow(0px 1px 2px rgba(0, 0, 0, 0.3));\n",
              "      fill: #FFFFFF;\n",
              "    }\n",
              "  </style>\n",
              "\n",
              "    <script>\n",
              "      const buttonEl =\n",
              "        document.querySelector('#df-efb73cb4-e950-4a9c-9277-f7140268e7d4 button.colab-df-convert');\n",
              "      buttonEl.style.display =\n",
              "        google.colab.kernel.accessAllowed ? 'block' : 'none';\n",
              "\n",
              "      async function convertToInteractive(key) {\n",
              "        const element = document.querySelector('#df-efb73cb4-e950-4a9c-9277-f7140268e7d4');\n",
              "        const dataTable =\n",
              "          await google.colab.kernel.invokeFunction('convertToInteractive',\n",
              "                                                    [key], {});\n",
              "        if (!dataTable) return;\n",
              "\n",
              "        const docLinkHtml = 'Like what you see? Visit the ' +\n",
              "          '<a target=\"_blank\" href=https://colab.research.google.com/notebooks/data_table.ipynb>data table notebook</a>'\n",
              "          + ' to learn more about interactive tables.';\n",
              "        element.innerHTML = '';\n",
              "        dataTable['output_type'] = 'display_data';\n",
              "        await google.colab.output.renderOutput(dataTable, element);\n",
              "        const docLink = document.createElement('div');\n",
              "        docLink.innerHTML = docLinkHtml;\n",
              "        element.appendChild(docLink);\n",
              "      }\n",
              "    </script>\n",
              "  </div>\n",
              "\n",
              "\n",
              "<div id=\"df-15b117dd-aba4-419d-ab52-05d9be8874bc\">\n",
              "  <button class=\"colab-df-quickchart\" onclick=\"quickchart('df-15b117dd-aba4-419d-ab52-05d9be8874bc')\"\n",
              "            title=\"Suggest charts\"\n",
              "            style=\"display:none;\">\n",
              "\n",
              "<svg xmlns=\"http://www.w3.org/2000/svg\" height=\"24px\"viewBox=\"0 0 24 24\"\n",
              "     width=\"24px\">\n",
              "    <g>\n",
              "        <path d=\"M19 3H5c-1.1 0-2 .9-2 2v14c0 1.1.9 2 2 2h14c1.1 0 2-.9 2-2V5c0-1.1-.9-2-2-2zM9 17H7v-7h2v7zm4 0h-2V7h2v10zm4 0h-2v-4h2v4z\"/>\n",
              "    </g>\n",
              "</svg>\n",
              "  </button>\n",
              "\n",
              "<style>\n",
              "  .colab-df-quickchart {\n",
              "      --bg-color: #E8F0FE;\n",
              "      --fill-color: #1967D2;\n",
              "      --hover-bg-color: #E2EBFA;\n",
              "      --hover-fill-color: #174EA6;\n",
              "      --disabled-fill-color: #AAA;\n",
              "      --disabled-bg-color: #DDD;\n",
              "  }\n",
              "\n",
              "  [theme=dark] .colab-df-quickchart {\n",
              "      --bg-color: #3B4455;\n",
              "      --fill-color: #D2E3FC;\n",
              "      --hover-bg-color: #434B5C;\n",
              "      --hover-fill-color: #FFFFFF;\n",
              "      --disabled-bg-color: #3B4455;\n",
              "      --disabled-fill-color: #666;\n",
              "  }\n",
              "\n",
              "  .colab-df-quickchart {\n",
              "    background-color: var(--bg-color);\n",
              "    border: none;\n",
              "    border-radius: 50%;\n",
              "    cursor: pointer;\n",
              "    display: none;\n",
              "    fill: var(--fill-color);\n",
              "    height: 32px;\n",
              "    padding: 0;\n",
              "    width: 32px;\n",
              "  }\n",
              "\n",
              "  .colab-df-quickchart:hover {\n",
              "    background-color: var(--hover-bg-color);\n",
              "    box-shadow: 0 1px 2px rgba(60, 64, 67, 0.3), 0 1px 3px 1px rgba(60, 64, 67, 0.15);\n",
              "    fill: var(--button-hover-fill-color);\n",
              "  }\n",
              "\n",
              "  .colab-df-quickchart-complete:disabled,\n",
              "  .colab-df-quickchart-complete:disabled:hover {\n",
              "    background-color: var(--disabled-bg-color);\n",
              "    fill: var(--disabled-fill-color);\n",
              "    box-shadow: none;\n",
              "  }\n",
              "\n",
              "  .colab-df-spinner {\n",
              "    border: 2px solid var(--fill-color);\n",
              "    border-color: transparent;\n",
              "    border-bottom-color: var(--fill-color);\n",
              "    animation:\n",
              "      spin 1s steps(1) infinite;\n",
              "  }\n",
              "\n",
              "  @keyframes spin {\n",
              "    0% {\n",
              "      border-color: transparent;\n",
              "      border-bottom-color: var(--fill-color);\n",
              "      border-left-color: var(--fill-color);\n",
              "    }\n",
              "    20% {\n",
              "      border-color: transparent;\n",
              "      border-left-color: var(--fill-color);\n",
              "      border-top-color: var(--fill-color);\n",
              "    }\n",
              "    30% {\n",
              "      border-color: transparent;\n",
              "      border-left-color: var(--fill-color);\n",
              "      border-top-color: var(--fill-color);\n",
              "      border-right-color: var(--fill-color);\n",
              "    }\n",
              "    40% {\n",
              "      border-color: transparent;\n",
              "      border-right-color: var(--fill-color);\n",
              "      border-top-color: var(--fill-color);\n",
              "    }\n",
              "    60% {\n",
              "      border-color: transparent;\n",
              "      border-right-color: var(--fill-color);\n",
              "    }\n",
              "    80% {\n",
              "      border-color: transparent;\n",
              "      border-right-color: var(--fill-color);\n",
              "      border-bottom-color: var(--fill-color);\n",
              "    }\n",
              "    90% {\n",
              "      border-color: transparent;\n",
              "      border-bottom-color: var(--fill-color);\n",
              "    }\n",
              "  }\n",
              "</style>\n",
              "\n",
              "  <script>\n",
              "    async function quickchart(key) {\n",
              "      const quickchartButtonEl =\n",
              "        document.querySelector('#' + key + ' button');\n",
              "      quickchartButtonEl.disabled = true;  // To prevent multiple clicks.\n",
              "      quickchartButtonEl.classList.add('colab-df-spinner');\n",
              "      try {\n",
              "        const charts = await google.colab.kernel.invokeFunction(\n",
              "            'suggestCharts', [key], {});\n",
              "      } catch (error) {\n",
              "        console.error('Error during call to suggestCharts:', error);\n",
              "      }\n",
              "      quickchartButtonEl.classList.remove('colab-df-spinner');\n",
              "      quickchartButtonEl.classList.add('colab-df-quickchart-complete');\n",
              "    }\n",
              "    (() => {\n",
              "      let quickchartButtonEl =\n",
              "        document.querySelector('#df-15b117dd-aba4-419d-ab52-05d9be8874bc button');\n",
              "      quickchartButtonEl.style.display =\n",
              "        google.colab.kernel.accessAllowed ? 'block' : 'none';\n",
              "    })();\n",
              "  </script>\n",
              "</div>\n",
              "\n",
              "    </div>\n",
              "  </div>\n"
            ],
            "application/vnd.google.colaboratory.intrinsic+json": {
              "type": "dataframe",
              "variable_name": "cplus_books",
              "repr_error": "0"
            }
          },
          "metadata": {},
          "execution_count": 39
        }
      ]
    },
    {
      "cell_type": "code",
      "source": [
        "len(cplus_books)"
      ],
      "metadata": {
        "colab": {
          "base_uri": "https://localhost:8080/"
        },
        "id": "xtlU3MbD_CM2",
        "outputId": "be8ac834-1bc1-4a47-8f7e-835aa09da188"
      },
      "execution_count": null,
      "outputs": [
        {
          "output_type": "execute_result",
          "data": {
            "text/plain": [
              "89"
            ]
          },
          "metadata": {},
          "execution_count": 40
        }
      ]
    },
    {
      "cell_type": "code",
      "source": [
        "cplus_mean = np.mean(cplus_books['대출건수'])\n",
        "cplus_mean"
      ],
      "metadata": {
        "colab": {
          "base_uri": "https://localhost:8080/"
        },
        "id": "_4q6WGu6-yk5",
        "outputId": "42684986-f96d-4ca9-bbbe-bea798548267"
      },
      "execution_count": null,
      "outputs": [
        {
          "output_type": "execute_result",
          "data": {
            "text/plain": [
              "11.595505617977528"
            ]
          },
          "metadata": {},
          "execution_count": 44
        }
      ]
    },
    {
      "cell_type": "code",
      "source": [
        "cplus_se = np.std(cplus_books['대출건수'])/ np.sqrt(len(cplus_books))\n",
        "cplus_se"
      ],
      "metadata": {
        "colab": {
          "base_uri": "https://localhost:8080/"
        },
        "id": "HBzf7if7AWvK",
        "outputId": "f17db0ec-5a33-4e8f-f251-7d06e41bcb8b"
      },
      "execution_count": null,
      "outputs": [
        {
          "output_type": "execute_result",
          "data": {
            "text/plain": [
              "0.9748405650607009"
            ]
          },
          "metadata": {},
          "execution_count": 42
        }
      ]
    },
    {
      "cell_type": "markdown",
      "source": [
        "파이썬은 0.8이고 c++은 위와같이 0.97이 나온다 아까의 가설에 따르면 두 모집단의 평균은 같다면 (파이썬 대출 평균횟수 - C++ 대출 평균횟수)/ (파이썬 표준오차^2  - cpp 표준오차^2)의 제곱근은 아래와 같습니다."
      ],
      "metadata": {
        "id": "KCir2ZL2BGrG"
      }
    },
    {
      "cell_type": "code",
      "source": [
        "(python_mean - cplus_mean) / np.sqrt(python_se**2 + cplus_se**2)"
      ],
      "metadata": {
        "colab": {
          "base_uri": "https://localhost:8080/"
        },
        "id": "j7aWWdOG-suA",
        "outputId": "2db66578-fd7d-484d-8b23-b72f79eb624d"
      },
      "execution_count": null,
      "outputs": [
        {
          "output_type": "execute_result",
          "data": {
            "text/plain": [
              "2.495408195140708"
            ]
          },
          "metadata": {},
          "execution_count": 45
        }
      ]
    },
    {
      "cell_type": "code",
      "source": [
        "stats.norm.cdf(2.50) # 2.5에 해당하는  누적분포는 아래와같고 양끝의 면적은 1- 0.094 = 0.006과 같습니다."
      ],
      "metadata": {
        "colab": {
          "base_uri": "https://localhost:8080/"
        },
        "id": "JkhskRwfAe8g",
        "outputId": "a2ca961f-cdae-457e-e16d-be6c8ab7ab59"
      },
      "execution_count": null,
      "outputs": [
        {
          "output_type": "execute_result",
          "data": {
            "text/plain": [
              "0.9937903346742238"
            ]
          },
          "metadata": {},
          "execution_count": 46
        }
      ]
    },
    {
      "cell_type": "markdown",
      "source": [
        "90+-2.50에 해당하는 면적의 값 즉 , p-값은 (1-0.994)*2 = 0.01 로 유의수준에 해당하는 0.05보다 작다 그렇기에 두 도서의 평균에 차이가 있다는 가설이 더 유력하다.\n",
        "이러한 과정을 굳이 해야하나 ? 이걸 해주는함수가 있을까?"
      ],
      "metadata": {
        "id": "rtP9Nn5YijWv"
      }
    },
    {
      "cell_type": "markdown",
      "source": [
        "t- 검정으로 가설 검정하기"
      ],
      "metadata": {
        "id": "SG3BN49OhhGS"
      }
    },
    {
      "cell_type": "code",
      "source": [
        "p_value = (1-0.995)*2\n",
        "p_value"
      ],
      "metadata": {
        "colab": {
          "base_uri": "https://localhost:8080/"
        },
        "id": "b-as-BvtAgzg",
        "outputId": "cf1be549-f57c-4f2c-df82-f621b69f0920"
      },
      "execution_count": null,
      "outputs": [
        {
          "output_type": "execute_result",
          "data": {
            "text/plain": [
              "0.010000000000000009"
            ]
          },
          "metadata": {},
          "execution_count": 47
        }
      ]
    },
    {
      "cell_type": "markdown",
      "source": [
        "네 정답은 있습니다. 두 표본의 평규을 비교하는 ttest_ind 함수가 있습니다. t - 분포 인 두 표본을 비교하는 t-검정을 수행합니다. t- 분포는 정규분포와 비슷하지만 중앙은 좀 낮고 꼬리가 더 두꺼운 분포입니다. 표본의 크기가 30이하 일 때 t- 분포를 사용하는 것이 좋으며 30보다 크면 t-분포는 정규분포와 매우 비슷해집니다. 따라서 , 이함수는 표본의 개수와 상관없이 평균을 비교가능"
      ],
      "metadata": {
        "id": "8wL0Ip9Wn5PY"
      }
    },
    {
      "cell_type": "code",
      "source": [
        "t, pvalue = stats.ttest_ind(python_books['대출건수'], cplus_books['대출건수']) # 이때 반환되는 값은  t점수와 p-값을 반환을 합니다.\n",
        "print(t, pvalue)"
      ],
      "metadata": {
        "colab": {
          "base_uri": "https://localhost:8080/"
        },
        "id": "NMks66TXAj7m",
        "outputId": "4ff447c2-00c9-4036-be01-6bd0fae1012f"
      },
      "execution_count": null,
      "outputs": [
        {
          "output_type": "stream",
          "name": "stdout",
          "text": [
            "2.1390005694958574 0.03315179520224784\n"
          ]
        }
      ]
    },
    {
      "cell_type": "markdown",
      "source": [
        "t: t-통계량 값입니다. 이 값은 두 집단 간의 평균 차이가 표준 오차로 나눠진 값으로, 두 집단 간의 차이가 얼마나 큰지를 나타냅니다.\n",
        "pvalue: p-값입니다. p-값은 귀무가설(두 집단의 평균이 같다)을 기각할 수 있는지 판단하는 기준이 됩니다. 일반적으로 p-값이 0.05보다 작으면 귀무가설을 기각하고, 두 집단 간에 유의한 차이가 있다고 판단합니다."
      ],
      "metadata": {
        "id": "omQ8-0zy2Yz9"
      }
    },
    {
      "cell_type": "markdown",
      "source": [
        "### 정규분포가 아닐 때 가설 검증하기 : 순열검정"
      ],
      "metadata": {
        "id": "W1c51gOgy15v"
      }
    },
    {
      "cell_type": "markdown",
      "source": [
        "순열검정은 모집단의 분포가 정규 분포를 따르지 않거나 모집단의 분포를 알수 없을 때 사용하는 것으로모집단의 파라미터를 추정하지 않기 때문에 비모수검정 방법 중 하나입니다."
      ],
      "metadata": {
        "id": "cLbkr9dSzK2p"
      }
    },
    {
      "cell_type": "markdown",
      "source": [
        "두 표본의 차이를 계산한 뒤 두 표본을 섞고 무작위로 두 그룹으로 나눈후 두 그룹은 원래 표본의 크기와 동일하게 만든다. 이렇게 나눈 두 그룹에서 다시 평균의 차이를 계산합니다. 이런과정을 여러 번 반복해서 원래 표본의 평균 차이가 무작위로 나눈 그룹의 차이보다 크거나 작은 경우를 헤아려 p-값을 게산한다"
      ],
      "metadata": {
        "id": "XJgPHSCe0BdJ"
      }
    },
    {
      "cell_type": "code",
      "source": [
        "def statistic(x, y):\n",
        "    return np.mean(x) - np.mean(y)"
      ],
      "metadata": {
        "id": "DjcPBpLdAlW-"
      },
      "execution_count": null,
      "outputs": []
    },
    {
      "cell_type": "code",
      "source": [
        "def permutation_test(x, y):\n",
        "    # 표본의 평균 차이를 계산합니다.\n",
        "    obs_diff = statistic(x, y)\n",
        "    # 두 표본을 합칩니다.\n",
        "    all = np.append(x, y)\n",
        "    diffs = []\n",
        "    np.random.seed(42)\n",
        "    # 순열 검정을 1000번 반복합니다.\n",
        "    for _ in range(1000):\n",
        "        # 전체 인덱스를 섞습니다.\n",
        "        idx = np.random.permutation(len(all))\n",
        "        # 랜덤하게 두 그룹으로 나눈 다음 평균 차이를 계산합니다.\n",
        "        x_ = all[idx[:len(x)]]\n",
        "        y_ = all[idx[len(x):]]\n",
        "        diffs.append(statistic(x_, y_))\n",
        "    # 원본 표본보다 작거나 큰 경우의 p-값을 계산합니다.\n",
        "    less_pvalue = np.sum(diffs < obs_diff)/1000\n",
        "    greater_pvalue = np.sum(diffs > obs_diff)/1000\n",
        "    # 둘 중 작은 p-값을 선택해 2를 곱하여 최종 p-값을 반환합니다.\n",
        "    return obs_diff, np.minimum(less_pvalue, greater_pvalue) * 2"
      ],
      "metadata": {
        "id": "z7pzg7mNAmBg"
      },
      "execution_count": null,
      "outputs": []
    },
    {
      "cell_type": "markdown",
      "source": [],
      "metadata": {
        "id": "p9jhSyUOAl9z"
      }
    },
    {
      "cell_type": "code",
      "source": [
        "permutation_test(python_books['대출건수'], cplus_books['대출건수'])"
      ],
      "metadata": {
        "id": "HOjk87tEAnXH"
      },
      "execution_count": null,
      "outputs": []
    },
    {
      "cell_type": "code",
      "source": [
        "# scipy 1.8 버전 이상에서만 실행됩니다.\n",
        "# res = stats.permutation_test((python_books['대출건수'], cplus_books['대출건수']),\n",
        "#                              statistic, random_state=42)\n",
        "# 결과는 약 3.153 0.0258입니다.\n",
        "# print(res.statistic, res.pvalue)"
      ],
      "metadata": {
        "id": "STOjlWPXApJa"
      },
      "execution_count": null,
      "outputs": []
    },
    {
      "cell_type": "code",
      "source": [
        "java_books_indx = ns_book7['주제분류번호'].str.startswith('00') & \\\n",
        "                  ns_book7['도서명'].str.contains('자바스크립트')\n",
        "java_books = ns_book7[java_books_indx]\n",
        "java_books.head()"
      ],
      "metadata": {
        "id": "T-LdJC4zAoY0"
      },
      "execution_count": null,
      "outputs": []
    },
    {
      "cell_type": "code",
      "source": [
        "print(len(java_books), np.mean(java_books['대출건수']))"
      ],
      "metadata": {
        "id": "Hn52JNH-Aqai"
      },
      "execution_count": null,
      "outputs": []
    },
    {
      "cell_type": "code",
      "source": [
        "permutation_test(python_books['대출건수'], java_books['대출건수'])"
      ],
      "metadata": {
        "id": "AaIp-F2wArPG"
      },
      "execution_count": null,
      "outputs": []
    }
  ]
}