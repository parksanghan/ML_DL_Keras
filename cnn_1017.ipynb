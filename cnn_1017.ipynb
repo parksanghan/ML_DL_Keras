{
  "cells": [
    {
      "cell_type": "markdown",
      "metadata": {
        "id": "view-in-github",
        "colab_type": "text"
      },
      "source": [
        "<a href=\"https://colab.research.google.com/github/parksanghan/machine_learning_Deep_learning/blob/main/cnn_1017.ipynb\" target=\"_parent\"><img src=\"https://colab.research.google.com/assets/colab-badge.svg\" alt=\"Open In Colab\"/></a>"
      ]
    },
    {
      "cell_type": "code",
      "execution_count": null,
      "id": "b165dedf-6d02-4cdf-aef4-dd46d6825f7c",
      "metadata": {
        "id": "b165dedf-6d02-4cdf-aef4-dd46d6825f7c"
      },
      "outputs": [],
      "source": [
        "import tensorflow as tf\n",
        "from tensorflow.keras import layers, models"
      ]
    },
    {
      "cell_type": "code",
      "execution_count": null,
      "id": "f0148dd7-d59c-41ca-8ef3-d1a88d1704a6",
      "metadata": {
        "id": "f0148dd7-d59c-41ca-8ef3-d1a88d1704a6"
      },
      "outputs": [],
      "source": [
        "from tensorflow.keras.datasets import mnist\n",
        "from tensorflow.keras.utils import to_categorical"
      ]
    },
    {
      "cell_type": "code",
      "execution_count": null,
      "id": "70d6a42a-c696-442f-bb08-30455b6798be",
      "metadata": {
        "colab": {
          "base_uri": "https://localhost:8080/"
        },
        "id": "70d6a42a-c696-442f-bb08-30455b6798be",
        "outputId": "54680d9f-b709-4ea8-c687-8d02c27864bb"
      },
      "outputs": [
        {
          "output_type": "stream",
          "name": "stdout",
          "text": [
            "Downloading data from https://storage.googleapis.com/tensorflow/tf-keras-datasets/mnist.npz\n",
            "\u001b[1m11490434/11490434\u001b[0m \u001b[32m━━━━━━━━━━━━━━━━━━━━\u001b[0m\u001b[37m\u001b[0m \u001b[1m2s\u001b[0m 0us/step\n"
          ]
        }
      ],
      "source": [
        "(x_train, y_train),(x_test,y_test) = mnist.load_data()"
      ]
    },
    {
      "cell_type": "code",
      "execution_count": null,
      "id": "91ad0c69-c6cf-455f-8da5-a4d23de2fcc0",
      "metadata": {
        "id": "91ad0c69-c6cf-455f-8da5-a4d23de2fcc0"
      },
      "outputs": [],
      "source": [
        "x_train = x_train.reshape((60000,28,28,1)).astype('float32')/255\n",
        "x_test = x_test.reshape((10000,28,28,1)).astype('float32')/255\n",
        "y_train = to_categorical(y_train,10)\n",
        "y_test = to_categorical(y_test,10)"
      ]
    },
    {
      "cell_type": "code",
      "execution_count": null,
      "id": "67a81dc1-ce04-4480-b223-5e5c43bf34a3",
      "metadata": {
        "colab": {
          "base_uri": "https://localhost:8080/"
        },
        "id": "67a81dc1-ce04-4480-b223-5e5c43bf34a3",
        "outputId": "1037e45c-efa1-44d8-ec19-d1c2f1a82a3e"
      },
      "outputs": [
        {
          "output_type": "stream",
          "name": "stderr",
          "text": [
            "/usr/local/lib/python3.10/dist-packages/keras/src/layers/convolutional/base_conv.py:107: UserWarning: Do not pass an `input_shape`/`input_dim` argument to a layer. When using Sequential models, prefer using an `Input(shape)` object as the first layer in the model instead.\n",
            "  super().__init__(activity_regularizer=activity_regularizer, **kwargs)\n"
          ]
        }
      ],
      "source": [
        "model = models.Sequential()\n",
        "model.add(layers.Conv2D(32,(3,3), activation='relu', input_shape=(28,28,1)))\n",
        "model.add(layers.MaxPool2D((2,2)))\n",
        "model.add(layers.Conv2D(64,(3,3), activation='relu'))\n",
        "model.add(layers.MaxPool2D((2,2)))\n",
        "model.add(layers.Conv2D(64,(3,3), activation='relu'))\n",
        "model.add(layers.Flatten())\n",
        "model.add(layers.Dense(64, activation='relu'))\n",
        "model.add(layers.Dense(10, activation='softmax'))"
      ]
    },
    {
      "cell_type": "code",
      "execution_count": null,
      "id": "c88bcf2e-5e6b-4e78-aa57-656e301b3293",
      "metadata": {
        "id": "c88bcf2e-5e6b-4e78-aa57-656e301b3293"
      },
      "outputs": [],
      "source": [
        "model.compile(optimizer='adam',\n",
        "             loss='categorical_crossentropy',\n",
        "             metrics=['accuracy'])"
      ]
    },
    {
      "cell_type": "code",
      "execution_count": null,
      "id": "3e730263-86ae-4bdf-8ec6-f118c17d516a",
      "metadata": {
        "colab": {
          "base_uri": "https://localhost:8080/"
        },
        "id": "3e730263-86ae-4bdf-8ec6-f118c17d516a",
        "outputId": "6a7b0a80-bd44-491e-ea17-96cc6bbf9a81"
      },
      "outputs": [
        {
          "output_type": "stream",
          "name": "stdout",
          "text": [
            "Epoch 1/5\n",
            "\u001b[1m844/844\u001b[0m \u001b[32m━━━━━━━━━━━━━━━━━━━━\u001b[0m\u001b[37m\u001b[0m \u001b[1m51s\u001b[0m 58ms/step - accuracy: 0.8580 - loss: 0.4627 - val_accuracy: 0.9823 - val_loss: 0.0626\n",
            "Epoch 2/5\n",
            "\u001b[1m844/844\u001b[0m \u001b[32m━━━━━━━━━━━━━━━━━━━━\u001b[0m\u001b[37m\u001b[0m \u001b[1m46s\u001b[0m 54ms/step - accuracy: 0.9818 - loss: 0.0565 - val_accuracy: 0.9877 - val_loss: 0.0418\n",
            "Epoch 3/5\n",
            "\u001b[1m844/844\u001b[0m \u001b[32m━━━━━━━━━━━━━━━━━━━━\u001b[0m\u001b[37m\u001b[0m \u001b[1m46s\u001b[0m 55ms/step - accuracy: 0.9872 - loss: 0.0387 - val_accuracy: 0.9875 - val_loss: 0.0502\n",
            "Epoch 4/5\n",
            "\u001b[1m844/844\u001b[0m \u001b[32m━━━━━━━━━━━━━━━━━━━━\u001b[0m\u001b[37m\u001b[0m \u001b[1m46s\u001b[0m 54ms/step - accuracy: 0.9911 - loss: 0.0278 - val_accuracy: 0.9910 - val_loss: 0.0318\n",
            "Epoch 5/5\n",
            "\u001b[1m844/844\u001b[0m \u001b[32m━━━━━━━━━━━━━━━━━━━━\u001b[0m\u001b[37m\u001b[0m \u001b[1m45s\u001b[0m 53ms/step - accuracy: 0.9927 - loss: 0.0228 - val_accuracy: 0.9908 - val_loss: 0.0353\n"
          ]
        },
        {
          "output_type": "execute_result",
          "data": {
            "text/plain": [
              "<keras.src.callbacks.history.History at 0x7ebdf1a2ab30>"
            ]
          },
          "metadata": {},
          "execution_count": 8
        }
      ],
      "source": [
        "model.fit(x_train,y_train, epochs=5, batch_size=64, validation_split=0.1)"
      ]
    },
    {
      "cell_type": "code",
      "execution_count": null,
      "id": "a93534ed-a8ec-4b42-9ccb-bceba3d2f371",
      "metadata": {
        "colab": {
          "base_uri": "https://localhost:8080/"
        },
        "id": "a93534ed-a8ec-4b42-9ccb-bceba3d2f371",
        "outputId": "1eeed0b4-c35d-404d-bfd9-ecbe65d18c4c"
      },
      "outputs": [
        {
          "output_type": "stream",
          "name": "stdout",
          "text": [
            "\u001b[1m313/313\u001b[0m \u001b[32m━━━━━━━━━━━━━━━━━━━━\u001b[0m\u001b[37m\u001b[0m \u001b[1m4s\u001b[0m 13ms/step - accuracy: 0.9883 - loss: 0.0329\n",
            "Test accuracy: 0.9908000230789185\n"
          ]
        }
      ],
      "source": [
        "test_loss, test_acc = model.evaluate(x_test,y_test)\n",
        "print('Test accuracy:',test_acc)"
      ]
    },
    {
      "cell_type": "code",
      "execution_count": null,
      "id": "21b8a7ad-0b76-4d65-9dfb-559c3d9b0f79",
      "metadata": {
        "id": "21b8a7ad-0b76-4d65-9dfb-559c3d9b0f79"
      },
      "outputs": [],
      "source": [
        "import numpy as np\n",
        "import tensorflow as tf\n",
        "from tensorflow.keras import layers, models\n",
        "from tensorflow.keras.datasets import mnist"
      ]
    },
    {
      "cell_type": "code",
      "execution_count": null,
      "id": "9a2b3fbd-5ede-4fe2-a133-298d52d5b9f1",
      "metadata": {
        "id": "9a2b3fbd-5ede-4fe2-a133-298d52d5b9f1"
      },
      "outputs": [],
      "source": [
        "(x_train, y_train),(x_test,y_test) = mnist.load_data()\n",
        "x_train = x_train.reshape((60000,28,28,1)).astype('float32')/255\n",
        "x_test = x_test.reshape((10000,28,28,1)).astype('float32')/255\n",
        "y_train = tf.keras.utils.to_categorical(y_train,10)\n",
        "y_test = tf.keras.utils.to_categorical(y_test,10)"
      ]
    },
    {
      "cell_type": "code",
      "execution_count": null,
      "id": "8fc1b025-85d3-43da-a9c0-7bef27fe98bd",
      "metadata": {
        "colab": {
          "base_uri": "https://localhost:8080/"
        },
        "id": "8fc1b025-85d3-43da-a9c0-7bef27fe98bd",
        "outputId": "219d8e27-dba7-4af3-c2ec-7620c55150f4"
      },
      "outputs": [
        {
          "output_type": "stream",
          "name": "stdout",
          "text": [
            "Epoch 1/5\n",
            "\u001b[1m750/750\u001b[0m \u001b[32m━━━━━━━━━━━━━━━━━━━━\u001b[0m\u001b[37m\u001b[0m \u001b[1m33s\u001b[0m 42ms/step - accuracy: 0.8461 - loss: 0.5254 - val_accuracy: 0.9795 - val_loss: 0.0711\n",
            "Epoch 2/5\n",
            "\u001b[1m750/750\u001b[0m \u001b[32m━━━━━━━━━━━━━━━━━━━━\u001b[0m\u001b[37m\u001b[0m \u001b[1m34s\u001b[0m 46ms/step - accuracy: 0.9770 - loss: 0.0737 - val_accuracy: 0.9825 - val_loss: 0.0607\n",
            "Epoch 3/5\n",
            "\u001b[1m750/750\u001b[0m \u001b[32m━━━━━━━━━━━━━━━━━━━━\u001b[0m\u001b[37m\u001b[0m \u001b[1m39s\u001b[0m 43ms/step - accuracy: 0.9851 - loss: 0.0488 - val_accuracy: 0.9824 - val_loss: 0.0563\n",
            "Epoch 4/5\n",
            "\u001b[1m750/750\u001b[0m \u001b[32m━━━━━━━━━━━━━━━━━━━━\u001b[0m\u001b[37m\u001b[0m \u001b[1m41s\u001b[0m 43ms/step - accuracy: 0.9876 - loss: 0.0404 - val_accuracy: 0.9837 - val_loss: 0.0549\n",
            "Epoch 5/5\n",
            "\u001b[1m750/750\u001b[0m \u001b[32m━━━━━━━━━━━━━━━━━━━━\u001b[0m\u001b[37m\u001b[0m \u001b[1m41s\u001b[0m 43ms/step - accuracy: 0.9900 - loss: 0.0298 - val_accuracy: 0.9842 - val_loss: 0.0580\n"
          ]
        },
        {
          "output_type": "execute_result",
          "data": {
            "text/plain": [
              "<keras.src.callbacks.history.History at 0x7ebddc0cd030>"
            ]
          },
          "metadata": {},
          "execution_count": 12
        }
      ],
      "source": [
        "model = models.Sequential([\n",
        "    layers.Conv2D(32,(3,3), activation='relu', input_shape=(28,28,1)),\n",
        "    layers.MaxPool2D((2,2)),\n",
        "    layers.Conv2D(32,(3,3), activation='relu'),\n",
        "    layers.MaxPool2D((2,2)),\n",
        "    layers.Flatten(),\n",
        "    layers.Dense(64, activation='relu'),\n",
        "    layers.Dense(10, activation='softmax')\n",
        "])\n",
        "\n",
        "model.compile(optimizer='adam',\n",
        "             loss='categorical_crossentropy',\n",
        "             metrics=['accuracy'])\n",
        "\n",
        "model.fit(x_train,y_train, epochs=5, batch_size=64, validation_split=0.2)"
      ]
    },
    {
      "cell_type": "code",
      "execution_count": null,
      "id": "0569fde8-6ea1-4975-aaa8-50cd87084241",
      "metadata": {
        "colab": {
          "base_uri": "https://localhost:8080/"
        },
        "id": "0569fde8-6ea1-4975-aaa8-50cd87084241",
        "outputId": "c16c64dd-043a-46ec-fa2a-9bc47f0fdf72"
      },
      "outputs": [
        {
          "output_type": "stream",
          "name": "stdout",
          "text": [
            "가중치 저장\n"
          ]
        }
      ],
      "source": [
        "model.save_weights('mnist_model_weights.weights.h5')\n",
        "print('가중치 저장')"
      ]
    },
    {
      "cell_type": "code",
      "execution_count": null,
      "id": "477711ef-ad89-482d-bf98-5a404bfe98ed",
      "metadata": {
        "id": "477711ef-ad89-482d-bf98-5a404bfe98ed"
      },
      "outputs": [],
      "source": [
        "model = models.Sequential([\n",
        "    layers.Conv2D(32,(3,3), activation='relu', input_shape=(28,28,1)),\n",
        "    layers.MaxPool2D((2,2)),\n",
        "    layers.Conv2D(32,(3,3), activation='relu'),\n",
        "    layers.MaxPool2D((2,2)),\n",
        "    layers.Flatten(),\n",
        "    layers.Dense(64, activation='relu'),\n",
        "    layers.Dense(10, activation='softmax')\n",
        "])\n",
        "\n",
        "model.compile(optimizer='adam',\n",
        "             loss='categorical_crossentropy',\n",
        "             metrics=['accuracy'])"
      ]
    },
    {
      "cell_type": "code",
      "execution_count": null,
      "id": "84dd01e9-7b75-4313-a430-25723ff283d1",
      "metadata": {
        "colab": {
          "base_uri": "https://localhost:8080/"
        },
        "id": "84dd01e9-7b75-4313-a430-25723ff283d1",
        "outputId": "15944ad1-a6d2-418c-9e12-015ac9f1a510"
      },
      "outputs": [
        {
          "output_type": "stream",
          "name": "stdout",
          "text": [
            "weights loaded\n"
          ]
        },
        {
          "output_type": "stream",
          "name": "stderr",
          "text": [
            "/usr/local/lib/python3.10/dist-packages/keras/src/saving/saving_lib.py:576: UserWarning: Skipping variable loading for optimizer 'adam', because it has 2 variables whereas the saved optimizer has 18 variables. \n",
            "  saveable.load_own_variables(weights_store.get(inner_path))\n"
          ]
        }
      ],
      "source": [
        "model.load_weights('mnist_model_weights.weights.h5')\n",
        "print('weights loaded')"
      ]
    },
    {
      "cell_type": "code",
      "execution_count": null,
      "id": "23cd0ee7-be48-4d0c-87ee-1c868aa2c86a",
      "metadata": {
        "colab": {
          "base_uri": "https://localhost:8080/"
        },
        "id": "23cd0ee7-be48-4d0c-87ee-1c868aa2c86a",
        "outputId": "5ef19e57-38cb-4d1e-936d-972ab35226b4"
      },
      "outputs": [
        {
          "output_type": "stream",
          "name": "stdout",
          "text": [
            "\u001b[1m313/313\u001b[0m \u001b[32m━━━━━━━━━━━━━━━━━━━━\u001b[0m\u001b[37m\u001b[0m \u001b[1m4s\u001b[0m 10ms/step - accuracy: 0.9829 - loss: 0.0558\n",
            "Test accuracy: 0.9861000180244446\n"
          ]
        }
      ],
      "source": [
        "test_loss, test_acc = model.evaluate(x_test,y_test)\n",
        "print('Test accuracy:',test_acc)"
      ]
    },
    {
      "cell_type": "code",
      "execution_count": null,
      "id": "36678a6d-7509-406b-bf84-cd02d76086f5",
      "metadata": {
        "id": "36678a6d-7509-406b-bf84-cd02d76086f5"
      },
      "outputs": [],
      "source": [
        "from tensorflow.keras.models import Sequential\n",
        "from tensorflow.keras.layers import Dense\n",
        "from tensorflow.keras.callbacks import ModelCheckpoint, EarlyStopping\n",
        "from tensorflow.keras.datasets import mnist\n",
        "from tensorflow.keras.utils import to_categorical"
      ]
    },
    {
      "cell_type": "code",
      "execution_count": null,
      "id": "e3546f07-b195-43d0-aa81-9f1241cc75e9",
      "metadata": {
        "id": "e3546f07-b195-43d0-aa81-9f1241cc75e9"
      },
      "outputs": [],
      "source": [
        "import matplotlib.pyplot as plt\n",
        "import numpy as np\n",
        "import os"
      ]
    },
    {
      "cell_type": "code",
      "execution_count": null,
      "id": "981fe39c-7daf-425b-87e4-a96d33a4fa03",
      "metadata": {
        "id": "981fe39c-7daf-425b-87e4-a96d33a4fa03"
      },
      "outputs": [],
      "source": [
        "(X_train,y_train), (X_test,y_test) = mnist.load_data()\n",
        "X_train = X_train.reshape(X_train.shape[0], 784).astype('float32')/255\n",
        "X_test = X_test.reshape(X_test.shape[0], 784).astype('float32')/255\n",
        "y_train = to_categorical(y_train,10)\n",
        "y_test = to_categorical(y_test,10)"
      ]
    },
    {
      "cell_type": "code",
      "execution_count": null,
      "id": "a77b928f-4cec-42b9-b312-63e8f54d5ac8",
      "metadata": {
        "colab": {
          "base_uri": "https://localhost:8080/",
          "height": 254
        },
        "id": "a77b928f-4cec-42b9-b312-63e8f54d5ac8",
        "outputId": "5899e0ff-d2e7-4df9-c66f-33ab507a67dd"
      },
      "outputs": [
        {
          "output_type": "stream",
          "name": "stderr",
          "text": [
            "/usr/local/lib/python3.10/dist-packages/keras/src/layers/core/dense.py:87: UserWarning: Do not pass an `input_shape`/`input_dim` argument to a layer. When using Sequential models, prefer using an `Input(shape)` object as the first layer in the model instead.\n",
            "  super().__init__(activity_regularizer=activity_regularizer, **kwargs)\n"
          ]
        },
        {
          "output_type": "display_data",
          "data": {
            "text/plain": [
              "\u001b[1mModel: \"sequential_3\"\u001b[0m\n"
            ],
            "text/html": [
              "<pre style=\"white-space:pre;overflow-x:auto;line-height:normal;font-family:Menlo,'DejaVu Sans Mono',consolas,'Courier New',monospace\"><span style=\"font-weight: bold\">Model: \"sequential_3\"</span>\n",
              "</pre>\n"
            ]
          },
          "metadata": {}
        },
        {
          "output_type": "display_data",
          "data": {
            "text/plain": [
              "┏━━━━━━━━━━━━━━━━━━━━━━━━━━━━━━━━━━━━━━┳━━━━━━━━━━━━━━━━━━━━━━━━━━━━━┳━━━━━━━━━━━━━━━━━┓\n",
              "┃\u001b[1m \u001b[0m\u001b[1mLayer (type)                        \u001b[0m\u001b[1m \u001b[0m┃\u001b[1m \u001b[0m\u001b[1mOutput Shape               \u001b[0m\u001b[1m \u001b[0m┃\u001b[1m \u001b[0m\u001b[1m        Param #\u001b[0m\u001b[1m \u001b[0m┃\n",
              "┡━━━━━━━━━━━━━━━━━━━━━━━━━━━━━━━━━━━━━━╇━━━━━━━━━━━━━━━━━━━━━━━━━━━━━╇━━━━━━━━━━━━━━━━━┩\n",
              "│ dense_6 (\u001b[38;5;33mDense\u001b[0m)                      │ (\u001b[38;5;45mNone\u001b[0m, \u001b[38;5;34m512\u001b[0m)                 │         \u001b[38;5;34m401,920\u001b[0m │\n",
              "├──────────────────────────────────────┼─────────────────────────────┼─────────────────┤\n",
              "│ dense_7 (\u001b[38;5;33mDense\u001b[0m)                      │ (\u001b[38;5;45mNone\u001b[0m, \u001b[38;5;34m10\u001b[0m)                  │           \u001b[38;5;34m5,130\u001b[0m │\n",
              "└──────────────────────────────────────┴─────────────────────────────┴─────────────────┘\n"
            ],
            "text/html": [
              "<pre style=\"white-space:pre;overflow-x:auto;line-height:normal;font-family:Menlo,'DejaVu Sans Mono',consolas,'Courier New',monospace\">┏━━━━━━━━━━━━━━━━━━━━━━━━━━━━━━━━━━━━━━┳━━━━━━━━━━━━━━━━━━━━━━━━━━━━━┳━━━━━━━━━━━━━━━━━┓\n",
              "┃<span style=\"font-weight: bold\"> Layer (type)                         </span>┃<span style=\"font-weight: bold\"> Output Shape                </span>┃<span style=\"font-weight: bold\">         Param # </span>┃\n",
              "┡━━━━━━━━━━━━━━━━━━━━━━━━━━━━━━━━━━━━━━╇━━━━━━━━━━━━━━━━━━━━━━━━━━━━━╇━━━━━━━━━━━━━━━━━┩\n",
              "│ dense_6 (<span style=\"color: #0087ff; text-decoration-color: #0087ff\">Dense</span>)                      │ (<span style=\"color: #00d7ff; text-decoration-color: #00d7ff\">None</span>, <span style=\"color: #00af00; text-decoration-color: #00af00\">512</span>)                 │         <span style=\"color: #00af00; text-decoration-color: #00af00\">401,920</span> │\n",
              "├──────────────────────────────────────┼─────────────────────────────┼─────────────────┤\n",
              "│ dense_7 (<span style=\"color: #0087ff; text-decoration-color: #0087ff\">Dense</span>)                      │ (<span style=\"color: #00d7ff; text-decoration-color: #00d7ff\">None</span>, <span style=\"color: #00af00; text-decoration-color: #00af00\">10</span>)                  │           <span style=\"color: #00af00; text-decoration-color: #00af00\">5,130</span> │\n",
              "└──────────────────────────────────────┴─────────────────────────────┴─────────────────┘\n",
              "</pre>\n"
            ]
          },
          "metadata": {}
        },
        {
          "output_type": "display_data",
          "data": {
            "text/plain": [
              "\u001b[1m Total params: \u001b[0m\u001b[38;5;34m407,050\u001b[0m (1.55 MB)\n"
            ],
            "text/html": [
              "<pre style=\"white-space:pre;overflow-x:auto;line-height:normal;font-family:Menlo,'DejaVu Sans Mono',consolas,'Courier New',monospace\"><span style=\"font-weight: bold\"> Total params: </span><span style=\"color: #00af00; text-decoration-color: #00af00\">407,050</span> (1.55 MB)\n",
              "</pre>\n"
            ]
          },
          "metadata": {}
        },
        {
          "output_type": "display_data",
          "data": {
            "text/plain": [
              "\u001b[1m Trainable params: \u001b[0m\u001b[38;5;34m407,050\u001b[0m (1.55 MB)\n"
            ],
            "text/html": [
              "<pre style=\"white-space:pre;overflow-x:auto;line-height:normal;font-family:Menlo,'DejaVu Sans Mono',consolas,'Courier New',monospace\"><span style=\"font-weight: bold\"> Trainable params: </span><span style=\"color: #00af00; text-decoration-color: #00af00\">407,050</span> (1.55 MB)\n",
              "</pre>\n"
            ]
          },
          "metadata": {}
        },
        {
          "output_type": "display_data",
          "data": {
            "text/plain": [
              "\u001b[1m Non-trainable params: \u001b[0m\u001b[38;5;34m0\u001b[0m (0.00 B)\n"
            ],
            "text/html": [
              "<pre style=\"white-space:pre;overflow-x:auto;line-height:normal;font-family:Menlo,'DejaVu Sans Mono',consolas,'Courier New',monospace\"><span style=\"font-weight: bold\"> Non-trainable params: </span><span style=\"color: #00af00; text-decoration-color: #00af00\">0</span> (0.00 B)\n",
              "</pre>\n"
            ]
          },
          "metadata": {}
        }
      ],
      "source": [
        "model = Sequential()\n",
        "model.add(Dense(512,input_dim = 784, activation='relu'))\n",
        "model.add(Dense(10, activation='softmax'))\n",
        "model.summary()"
      ]
    },
    {
      "cell_type": "code",
      "execution_count": null,
      "id": "eb7f0029-8d3c-4b95-9f2d-9c87d7cdcb6b",
      "metadata": {
        "id": "eb7f0029-8d3c-4b95-9f2d-9c87d7cdcb6b"
      },
      "outputs": [],
      "source": [
        "model.compile(loss='categorical_crossentropy',optimizer='adam', metrics=['accuracy'])"
      ]
    },
    {
      "cell_type": "code",
      "execution_count": null,
      "id": "50cf3d2c-6da2-47e8-a430-8b5b63f9ad10",
      "metadata": {
        "colab": {
          "base_uri": "https://localhost:8080/",
          "height": 220
        },
        "id": "50cf3d2c-6da2-47e8-a430-8b5b63f9ad10",
        "outputId": "b43c8dc9-b7e2-4243-94a6-4dbb383898dd"
      },
      "outputs": [
        {
          "output_type": "error",
          "ename": "FileNotFoundError",
          "evalue": "[Errno 2] No such file or directory: './data/model/'",
          "traceback": [
            "\u001b[0;31m---------------------------------------------------------------------------\u001b[0m",
            "\u001b[0;31mFileNotFoundError\u001b[0m                         Traceback (most recent call last)",
            "\u001b[0;32m<ipython-input-22-6f4e1410a40c>\u001b[0m in \u001b[0;36m<cell line: 2>\u001b[0;34m()\u001b[0m\n\u001b[1;32m      1\u001b[0m \u001b[0mMODEL_DIR\u001b[0m \u001b[0;34m=\u001b[0m \u001b[0;34m'./data/model/'\u001b[0m\u001b[0;34m\u001b[0m\u001b[0;34m\u001b[0m\u001b[0m\n\u001b[1;32m      2\u001b[0m \u001b[0;32mif\u001b[0m \u001b[0;32mnot\u001b[0m \u001b[0mos\u001b[0m\u001b[0;34m.\u001b[0m\u001b[0mpath\u001b[0m\u001b[0;34m.\u001b[0m\u001b[0mexists\u001b[0m\u001b[0;34m(\u001b[0m\u001b[0mMODEL_DIR\u001b[0m\u001b[0;34m)\u001b[0m\u001b[0;34m:\u001b[0m\u001b[0;34m\u001b[0m\u001b[0;34m\u001b[0m\u001b[0m\n\u001b[0;32m----> 3\u001b[0;31m     \u001b[0mos\u001b[0m\u001b[0;34m.\u001b[0m\u001b[0mmkdir\u001b[0m\u001b[0;34m(\u001b[0m\u001b[0mMODEL_DIR\u001b[0m\u001b[0;34m)\u001b[0m\u001b[0;34m\u001b[0m\u001b[0;34m\u001b[0m\u001b[0m\n\u001b[0m\u001b[1;32m      4\u001b[0m \u001b[0;34m\u001b[0m\u001b[0m\n\u001b[1;32m      5\u001b[0m \u001b[0mmodelpath\u001b[0m\u001b[0;34m=\u001b[0m\u001b[0;34m'./data/model/MNIST_MLP.keras'\u001b[0m\u001b[0;34m\u001b[0m\u001b[0;34m\u001b[0m\u001b[0m\n",
            "\u001b[0;31mFileNotFoundError\u001b[0m: [Errno 2] No such file or directory: './data/model/'"
          ]
        }
      ],
      "source": [
        "MODEL_DIR = './data/model/'\n",
        "if not os.path.exists(MODEL_DIR):\n",
        "    os.mkdir(MODEL_DIR)\n",
        "\n",
        "modelpath='./data/model/MNIST_MLP.keras'\n",
        "checkpointer = ModelCheckpoint(filepath=modelpath, monitor='val_loss', verbose=1,\n",
        "                               save_best_only=True)\n",
        "early_stopping_callback = EarlyStopping(monitor='val_loss', patience=5)"
      ]
    },
    {
      "cell_type": "code",
      "execution_count": null,
      "id": "3e404627-1d38-4f11-aa9a-362d338215bb",
      "metadata": {
        "id": "3e404627-1d38-4f11-aa9a-362d338215bb"
      },
      "outputs": [],
      "source": [
        "history = model.fit(X_train,y_train, validation_split=0.25, epochs=30, batch_size=200, verbose=0,\n",
        "                   callbacks=[early_stopping_callback,checkpointer])"
      ]
    },
    {
      "cell_type": "code",
      "execution_count": null,
      "id": "6070fab8-8769-4f70-bba3-9015347cf9cd",
      "metadata": {
        "id": "6070fab8-8769-4f70-bba3-9015347cf9cd"
      },
      "outputs": [],
      "source": [
        "result = model.evaluate(X_test,y_test)\n",
        "print('Test Accuracy : {:.2f}'.format(result[1]))\n",
        "print(result)"
      ]
    },
    {
      "cell_type": "code",
      "execution_count": null,
      "id": "86d6f4d4-836d-4aed-bb5a-b3f76296bfb1",
      "metadata": {
        "id": "86d6f4d4-836d-4aed-bb5a-b3f76296bfb1"
      },
      "outputs": [],
      "source": [
        "# 검증셋과 학습셋의 오차 저장\n",
        "y_vloss = history.history['val_loss']\n",
        "y_loss = history.history['loss']\n",
        "\n",
        "# 그래프로 표현\n",
        "x_len = np.arange(len(y_loss))\n",
        "plt.plot(x_len, y_vloss, marker='.', c='red', label='Testset_loss')\n",
        "plt.plot(x_len, y_loss, marker='.', c='blue', label='Trainset_loss')\n",
        "\n",
        "# 그래프에 그리드를 주고 레이블을 표시\n",
        "plt.legend(loc='upper right')\n",
        "plt.grid()\n",
        "plt.xlabel('epoch')\n",
        "plt.ylabel('loss')\n",
        "plt.show()"
      ]
    }
  ],
  "metadata": {
    "kernelspec": {
      "display_name": "Python 3 (ipykernel)",
      "language": "python",
      "name": "python3"
    },
    "language_info": {
      "codemirror_mode": {
        "name": "ipython",
        "version": 3
      },
      "file_extension": ".py",
      "mimetype": "text/x-python",
      "name": "python",
      "nbconvert_exporter": "python",
      "pygments_lexer": "ipython3",
      "version": "3.12.4"
    },
    "colab": {
      "provenance": [],
      "include_colab_link": true
    }
  },
  "nbformat": 4,
  "nbformat_minor": 5
}